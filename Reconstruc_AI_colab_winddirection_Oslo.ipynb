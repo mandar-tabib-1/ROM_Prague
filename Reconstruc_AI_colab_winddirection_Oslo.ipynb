{
 "cells": [
  {
   "cell_type": "markdown",
   "metadata": {},
   "source": []
  },
  {
   "cell_type": "markdown",
   "metadata": {},
   "source": [
    "# $\\color{green}{\\text{AI computed Wind and TKE for drone operations for parts of Oslo city.}}$"
   ]
  },
  {
   "cell_type": "markdown",
   "metadata": {},
   "source": [
    "\n",
    "## $\\color{red}{\\text{Purpose: Demonstration of model for research purpose for EU AI4HyDROP project.}}$\n",
    "\n",
    "### The AI model is trained to predict urban scale wind and turbulence on a segment of Oslo city (as marked by yellow borders in the image below.)\n",
    "\n",
    "\n",
    "## $\\color{red}{\\text{User Input and AI Output:}}$\n",
    "### User provides only date_and_hrs_only for prediction in format '2024-05-18 09:00:00'. User can also provide drone trajectory in this urban landscape.\n",
    "\n",
    "### User gets the wind and turbulence in the Oslo segment using AI.\n",
    "### User then can use provided functions to obtain the wind and turbulence values in Drone Flight path (both absolute and normalized).\n",
    "### User can also use to find the locations with maximum turbulence and maximum wind speed to enable decision on corridor\n",
    "\n",
    "\n",
    "## $\\color{red}{\\text{About AI model and its Limitations }}$: \n",
    "### The AI model used below is trained to operate with input wind direction at a give time as obtained from meso-scale weather forecasting model.\n",
    "### The users takes inputs (wind direction) from meso-scale weather model for a particular date and hour,\n",
    "### and feeds this to the AI model to obtain wind and turbulence in the city area (which the meso-scale scle weahter model cannot provide).\n",
    "\n",
    "### The AI model is trained on a boundary limited to latitude/longitude range of (lat,long):  minimum ( (max_latitude = 50.053957709673476,max_longitude=4.430968123655077) and limited to wind speed of: 0.4 to 12 m/s.\n",
    "\n",
    "### The AI model is trained on 8 wind directions and 4 wind speeds (0.4,4,8,12 mps at nearest mast location).\n",
    "### Outside the range, the AI may give results but its accuracy reduces especially for extrapolation."
   ]
  },
  {
   "cell_type": "markdown",
   "metadata": {},
   "source": [
    "\n",
    "%load_ext autoreload\n",
    "%autoreload 2\n",
    "\n",
    "from IPython.display import Image\n",
    "Image(filename='oslo.png') \n",
    "\n",
    "\n"
   ]
  },
  {
   "cell_type": "markdown",
   "metadata": {},
   "source": [
    "## The AI model is trained to predict urban scale wind and turbulence on a segment of Oslo city "
   ]
  },
  {
   "cell_type": "markdown",
   "metadata": {},
   "source": [
    "#### Load libraries after adding relative path. "
   ]
  },
  {
   "cell_type": "code",
   "execution_count": 46,
   "metadata": {},
   "outputs": [],
   "source": [
    "# Install requirements !pip install -r requirements.txt\n",
    " \n",
    "\n",
    "import os,sys \n",
    "current_dir = os.getcwd()    # Get the current directory. \n",
    "sys.path.append(current_dir) #Append to path so that libimport library is detected.\n",
    "fn2=os.path.join(current_dir, 'Results','data_POD') #Define path to store the results.\n",
    "\n",
    "sys.path.append(fn2)\n",
    "\n",
    "import libimportoslo\n",
    "import pandas as pd\n",
    "import math\n",
    "import numpy as np\n",
    "import random\n",
    "import requests"
   ]
  },
  {
   "cell_type": "markdown",
   "metadata": {},
   "source": [
    "# Demonstration based on user input "
   ]
  },
  {
   "cell_type": "markdown",
   "metadata": {},
   "source": [
    "### Step 1. USER INPUT of TIME : DATE AND HOURS in 'YYYY-MM-DD HR:MIN:SEC' FORMAT for wind prediction. \n",
    "#### Input should be for future time upto 3 days"
   ]
  },
  {
   "cell_type": "code",
   "execution_count": 47,
   "metadata": {},
   "outputs": [],
   "source": [
    "\n",
    "\n",
    "date_and_hrs_only = '2024-10-27 09:00:00' "
   ]
  },
  {
   "cell_type": "markdown",
   "metadata": {},
   "source": [
    "\n",
    "### Step 2. USER INPUT of DRONE TRAJECTORY : LATITUDE AND LONGITUDE AS LIST.\n",
    "#### Input latitude and longitude should be within the min and maximum range mentioned below. Otherwise - code will throw error as AI is not trained outside this."
   ]
  },
  {
   "cell_type": "code",
   "execution_count": 48,
   "metadata": {},
   "outputs": [],
   "source": [
    "need=True \n",
    "if need==True:\n",
    "#For Demo : 10 randomly generated points within the following maximum and minimum.\n",
    "    random_seed_gen=101\n",
    "    random.seed(random_seed_gen)\n",
    "    # Define the minimum and maximum values for latitude and longitude\n",
    "    min_latitude = 59.9478483\n",
    "    max_latitude = 59.9510513\n",
    "    min_longitude =  10.7122942\n",
    "    max_longitude = 10.7186860\n",
    "\n",
    "    # Generate 10 random latitude and longitude values within the specified range\n",
    "\n",
    "    random_coordinates = [(random.uniform(min_latitude, max_latitude),\\\n",
    "                        random.uniform(min_longitude, max_longitude))\\\n",
    "        for _ in range(10)]\n"
   ]
  },
  {
   "cell_type": "markdown",
   "metadata": {},
   "source": [
    "### Step 3: RUN AI Model using the user-defined inputs to obtain wind field and turbulence in parts of prague."
   ]
  },
  {
   "cell_type": "code",
   "execution_count": 49,
   "metadata": {},
   "outputs": [
    {
     "name": "stdout",
     "output_type": "stream",
     "text": [
      "hello\n"
     ]
    },
    {
     "ename": "NameError",
     "evalue": "name 'random_coordinates' is not defined",
     "output_type": "error",
     "traceback": [
      "\u001b[0;31m---------------------------------------------------------------------------\u001b[0m",
      "\u001b[0;31mNameError\u001b[0m                                 Traceback (most recent call last)",
      "Cell \u001b[0;32mIn[49], line 1\u001b[0m\n\u001b[0;32m----> 1\u001b[0m Macroscale_ws_wd_prediction, wind_data_near_drone_trajectory,locations_at_high_turbulence,locations_at_high_wind_magnitude,merged_dataframe_U_k_Relative_2_vertiport_reconstructed\u001b[38;5;241m=\u001b[39m\u001b[43mlibimportoslo\u001b[49m\u001b[38;5;241;43m.\u001b[39;49m\u001b[43mdemo\u001b[49m\u001b[43m(\u001b[49m\u001b[43mdate_and_hrs_only\u001b[49m\u001b[43m,\u001b[49m\u001b[43mfn2\u001b[49m\u001b[43m,\u001b[49m\u001b[43mAPI_KEY\u001b[49m\u001b[43m \u001b[49m\u001b[38;5;241;43m=\u001b[39;49m\u001b[43m \u001b[49m\u001b[38;5;124;43m'\u001b[39;49m\u001b[38;5;124;43mfa3e3882b6508618a835169fb753d745\u001b[39;49m\u001b[38;5;124;43m'\u001b[39;49m\u001b[43m,\u001b[49m\u001b[43mvisualization\u001b[49m\u001b[38;5;241;43m=\u001b[39;49m\u001b[38;5;28;43;01mFalse\u001b[39;49;00m\u001b[43m)\u001b[49m\n",
      "File \u001b[0;32m/media/mandart/D/AI4Hydrop_Prague/ROM/Results/data_POD/libimportoslo.py:1081\u001b[0m, in \u001b[0;36mdemo\u001b[0;34m(date_and_hrs_only, fn2, API_KEY, visualization)\u001b[0m\n\u001b[1;32m   1079\u001b[0m \u001b[38;5;28mprint\u001b[39m(\u001b[38;5;124m\"\u001b[39m\u001b[38;5;124mhello\u001b[39m\u001b[38;5;124m\"\u001b[39m)\n\u001b[1;32m   1080\u001b[0m \u001b[38;5;66;03m# random_coordinates=[(59.9494,10.7156)]   \u001b[39;00m\n\u001b[0;32m-> 1081\u001b[0m \u001b[38;5;28;01mfor\u001b[39;00m idx, (lat, lon) \u001b[38;5;129;01min\u001b[39;00m \u001b[38;5;28menumerate\u001b[39m(\u001b[43mrandom_coordinates\u001b[49m):\n\u001b[1;32m   1082\u001b[0m     \u001b[38;5;66;03m# print(f\"Coordinate {idx}: Latitude = {lat}, Longitude = {lon}\")\u001b[39;00m\n\u001b[1;32m   1083\u001b[0m     url\u001b[38;5;241m=\u001b[39m\u001b[38;5;124mf\u001b[39m\u001b[38;5;124m'\u001b[39m\u001b[38;5;124mhttps://api.openweathermap.org/data/2.5/forecast?lat=\u001b[39m\u001b[38;5;132;01m{\u001b[39;00mlat\u001b[38;5;132;01m}\u001b[39;00m\u001b[38;5;124m&lon=\u001b[39m\u001b[38;5;132;01m{\u001b[39;00mlon\u001b[38;5;132;01m}\u001b[39;00m\u001b[38;5;124m&appid=\u001b[39m\u001b[38;5;132;01m{\u001b[39;00mAPI_KEY\u001b[38;5;132;01m}\u001b[39;00m\u001b[38;5;124m'\u001b[39m\n\u001b[1;32m   1084\u001b[0m     \u001b[38;5;66;03m# Make API request\u001b[39;00m\n\u001b[1;32m   1085\u001b[0m     \u001b[38;5;66;03m#url=f'http://api.openweathermap.org/data/2.5/forecast?id=524901&appid={API_KEY}'\u001b[39;00m\n\u001b[1;32m   1086\u001b[0m     \u001b[38;5;66;03m#url = f'https://api.openweathermap.org/data/2.5/onecall/timemachine?lat=50.0755&lon=14.4378&dt={date}&appid={API_KEY}'\u001b[39;00m\n",
      "\u001b[0;31mNameError\u001b[0m: name 'random_coordinates' is not defined"
     ]
    }
   ],
   "source": [
    "Macroscale_ws_wd_prediction, wind_data_near_drone_trajectory,locations_at_high_turbulence,locations_at_high_wind_magnitude,merged_dataframe_U_k_Relative_2_vertiport_reconstructed=libimportoslo.demo(date_and_hrs_only,random_coordinates,fn2,API_KEY = 'fa3e3882b6508618a835169fb753d745',visualization=False)"
   ]
  },
  {
   "cell_type": "markdown",
   "metadata": {},
   "source": [
    "*** "
   ]
  },
  {
   "cell_type": "markdown",
   "metadata": {},
   "source": [
    "# $\\color{red}{\\text{RESULTS}} $"
   ]
  },
  {
   "cell_type": "markdown",
   "metadata": {},
   "source": [
    "## $\\color{green}{\\text{Result 1 below.  \"locations\\_at\\_high\\_turbulence\" DataFrame}} $\n",
    " #### \" This Dataframe shows locations within the computational domain where turbulence is high (> 0.95 normalized TKE values). The column name below refers to : \"\n",
    "- #### latitude,longitude : lat,long of region with high normalized tke. \n",
    "- #### X,Y,Z : Corresponding \"distance in meters from the vertiport\" for the location.\n",
    "- #### All Column names are variables : (Turbulent Kinetic Energy (TKE), Velocity_magnitude,  Velocity components (Velocity_X,Velocity_Y, Velocity_Z) and Normalized Velocity_mag and Normalized_TKE ) at the maximum high turbulence drone locations . \"\n",
    "- > ###### Normalized variables between 0 to 1. Value of 1 in normalized variable means high value of TKE or velocity at that location while 0 means lowest value."
   ]
  },
  {
   "cell_type": "code",
   "execution_count": 37,
   "metadata": {},
   "outputs": [
    {
     "data": {
      "text/html": [
       "<div>\n",
       "<style scoped>\n",
       "    .dataframe tbody tr th:only-of-type {\n",
       "        vertical-align: middle;\n",
       "    }\n",
       "\n",
       "    .dataframe tbody tr th {\n",
       "        vertical-align: top;\n",
       "    }\n",
       "\n",
       "    .dataframe thead th {\n",
       "        text-align: right;\n",
       "    }\n",
       "</style>\n",
       "<table border=\"1\" class=\"dataframe\">\n",
       "  <thead>\n",
       "    <tr style=\"text-align: right;\">\n",
       "      <th></th>\n",
       "      <th>X</th>\n",
       "      <th>Y</th>\n",
       "      <th>Z</th>\n",
       "      <th>tke</th>\n",
       "      <th>Velocity_X_</th>\n",
       "      <th>Velocity_Y_</th>\n",
       "      <th>Velocity_Z_</th>\n",
       "      <th>latitude</th>\n",
       "      <th>longitude</th>\n",
       "      <th>Velocity_mag</th>\n",
       "      <th>Normalized_Velocity</th>\n",
       "      <th>Normalized_turbulence</th>\n",
       "    </tr>\n",
       "  </thead>\n",
       "  <tbody>\n",
       "    <tr>\n",
       "      <th>59</th>\n",
       "      <td>-500.0</td>\n",
       "      <td>-431.645102</td>\n",
       "      <td>297.618776</td>\n",
       "      <td>1.073984</td>\n",
       "      <td>0.460316</td>\n",
       "      <td>0.195006</td>\n",
       "      <td>-0.000119</td>\n",
       "      <td>59.945516</td>\n",
       "      <td>10.706616</td>\n",
       "      <td>0.499918</td>\n",
       "      <td>0.503310</td>\n",
       "      <td>0.896169</td>\n",
       "    </tr>\n",
       "    <tr>\n",
       "      <th>60</th>\n",
       "      <td>-500.0</td>\n",
       "      <td>-431.645102</td>\n",
       "      <td>303.403306</td>\n",
       "      <td>1.072952</td>\n",
       "      <td>0.468091</td>\n",
       "      <td>0.198099</td>\n",
       "      <td>0.000310</td>\n",
       "      <td>59.945516</td>\n",
       "      <td>10.706616</td>\n",
       "      <td>0.508284</td>\n",
       "      <td>0.511733</td>\n",
       "      <td>0.895307</td>\n",
       "    </tr>\n",
       "    <tr>\n",
       "      <th>61</th>\n",
       "      <td>-500.0</td>\n",
       "      <td>-431.645102</td>\n",
       "      <td>309.187837</td>\n",
       "      <td>1.072158</td>\n",
       "      <td>0.475177</td>\n",
       "      <td>0.200905</td>\n",
       "      <td>0.000557</td>\n",
       "      <td>59.945516</td>\n",
       "      <td>10.706616</td>\n",
       "      <td>0.515903</td>\n",
       "      <td>0.519403</td>\n",
       "      <td>0.894643</td>\n",
       "    </tr>\n",
       "    <tr>\n",
       "      <th>62</th>\n",
       "      <td>-500.0</td>\n",
       "      <td>-431.645102</td>\n",
       "      <td>314.972367</td>\n",
       "      <td>1.071539</td>\n",
       "      <td>0.481695</td>\n",
       "      <td>0.203458</td>\n",
       "      <td>0.000690</td>\n",
       "      <td>59.945516</td>\n",
       "      <td>10.706616</td>\n",
       "      <td>0.522901</td>\n",
       "      <td>0.526448</td>\n",
       "      <td>0.894127</td>\n",
       "    </tr>\n",
       "    <tr>\n",
       "      <th>63</th>\n",
       "      <td>-500.0</td>\n",
       "      <td>-431.645102</td>\n",
       "      <td>320.756898</td>\n",
       "      <td>1.071045</td>\n",
       "      <td>0.487769</td>\n",
       "      <td>0.205811</td>\n",
       "      <td>0.000755</td>\n",
       "      <td>59.945516</td>\n",
       "      <td>10.706616</td>\n",
       "      <td>0.529412</td>\n",
       "      <td>0.533004</td>\n",
       "      <td>0.893714</td>\n",
       "    </tr>\n",
       "    <tr>\n",
       "      <th>...</th>\n",
       "      <td>...</td>\n",
       "      <td>...</td>\n",
       "      <td>...</td>\n",
       "      <td>...</td>\n",
       "      <td>...</td>\n",
       "      <td>...</td>\n",
       "      <td>...</td>\n",
       "      <td>...</td>\n",
       "      <td>...</td>\n",
       "      <td>...</td>\n",
       "      <td>...</td>\n",
       "      <td>...</td>\n",
       "    </tr>\n",
       "    <tr>\n",
       "      <th>124945</th>\n",
       "      <td>500.0</td>\n",
       "      <td>431.646102</td>\n",
       "      <td>505.861878</td>\n",
       "      <td>0.001000</td>\n",
       "      <td>0.640427</td>\n",
       "      <td>0.263644</td>\n",
       "      <td>0.002967</td>\n",
       "      <td>59.953284</td>\n",
       "      <td>10.724584</td>\n",
       "      <td>0.692578</td>\n",
       "      <td>0.697277</td>\n",
       "      <td>0.000000</td>\n",
       "    </tr>\n",
       "    <tr>\n",
       "      <th>124946</th>\n",
       "      <td>500.0</td>\n",
       "      <td>431.646102</td>\n",
       "      <td>511.646408</td>\n",
       "      <td>0.001000</td>\n",
       "      <td>0.642679</td>\n",
       "      <td>0.264365</td>\n",
       "      <td>0.002917</td>\n",
       "      <td>59.953284</td>\n",
       "      <td>10.724584</td>\n",
       "      <td>0.694934</td>\n",
       "      <td>0.699649</td>\n",
       "      <td>0.000000</td>\n",
       "    </tr>\n",
       "    <tr>\n",
       "      <th>124947</th>\n",
       "      <td>500.0</td>\n",
       "      <td>431.646102</td>\n",
       "      <td>517.430939</td>\n",
       "      <td>0.001000</td>\n",
       "      <td>0.644821</td>\n",
       "      <td>0.265056</td>\n",
       "      <td>0.002862</td>\n",
       "      <td>59.953284</td>\n",
       "      <td>10.724584</td>\n",
       "      <td>0.697178</td>\n",
       "      <td>0.701908</td>\n",
       "      <td>0.000000</td>\n",
       "    </tr>\n",
       "    <tr>\n",
       "      <th>124948</th>\n",
       "      <td>500.0</td>\n",
       "      <td>431.646102</td>\n",
       "      <td>523.215469</td>\n",
       "      <td>0.001000</td>\n",
       "      <td>0.646830</td>\n",
       "      <td>0.265711</td>\n",
       "      <td>0.002803</td>\n",
       "      <td>59.953284</td>\n",
       "      <td>10.724584</td>\n",
       "      <td>0.699285</td>\n",
       "      <td>0.704029</td>\n",
       "      <td>0.000000</td>\n",
       "    </tr>\n",
       "    <tr>\n",
       "      <th>124949</th>\n",
       "      <td>500.0</td>\n",
       "      <td>431.646102</td>\n",
       "      <td>529.000000</td>\n",
       "      <td>0.001000</td>\n",
       "      <td>0.648784</td>\n",
       "      <td>0.266351</td>\n",
       "      <td>0.002740</td>\n",
       "      <td>59.953284</td>\n",
       "      <td>10.724584</td>\n",
       "      <td>0.701335</td>\n",
       "      <td>0.706094</td>\n",
       "      <td>0.000000</td>\n",
       "    </tr>\n",
       "  </tbody>\n",
       "</table>\n",
       "<p>84246 rows × 12 columns</p>\n",
       "</div>"
      ],
      "text/plain": [
       "            X           Y           Z       tke  Velocity_X_  Velocity_Y_  \\\n",
       "59     -500.0 -431.645102  297.618776  1.073984     0.460316     0.195006   \n",
       "60     -500.0 -431.645102  303.403306  1.072952     0.468091     0.198099   \n",
       "61     -500.0 -431.645102  309.187837  1.072158     0.475177     0.200905   \n",
       "62     -500.0 -431.645102  314.972367  1.071539     0.481695     0.203458   \n",
       "63     -500.0 -431.645102  320.756898  1.071045     0.487769     0.205811   \n",
       "...       ...         ...         ...       ...          ...          ...   \n",
       "124945  500.0  431.646102  505.861878  0.001000     0.640427     0.263644   \n",
       "124946  500.0  431.646102  511.646408  0.001000     0.642679     0.264365   \n",
       "124947  500.0  431.646102  517.430939  0.001000     0.644821     0.265056   \n",
       "124948  500.0  431.646102  523.215469  0.001000     0.646830     0.265711   \n",
       "124949  500.0  431.646102  529.000000  0.001000     0.648784     0.266351   \n",
       "\n",
       "        Velocity_Z_   latitude  longitude  Velocity_mag  Normalized_Velocity  \\\n",
       "59        -0.000119  59.945516  10.706616      0.499918             0.503310   \n",
       "60         0.000310  59.945516  10.706616      0.508284             0.511733   \n",
       "61         0.000557  59.945516  10.706616      0.515903             0.519403   \n",
       "62         0.000690  59.945516  10.706616      0.522901             0.526448   \n",
       "63         0.000755  59.945516  10.706616      0.529412             0.533004   \n",
       "...             ...        ...        ...           ...                  ...   \n",
       "124945     0.002967  59.953284  10.724584      0.692578             0.697277   \n",
       "124946     0.002917  59.953284  10.724584      0.694934             0.699649   \n",
       "124947     0.002862  59.953284  10.724584      0.697178             0.701908   \n",
       "124948     0.002803  59.953284  10.724584      0.699285             0.704029   \n",
       "124949     0.002740  59.953284  10.724584      0.701335             0.706094   \n",
       "\n",
       "        Normalized_turbulence  \n",
       "59                   0.896169  \n",
       "60                   0.895307  \n",
       "61                   0.894643  \n",
       "62                   0.894127  \n",
       "63                   0.893714  \n",
       "...                       ...  \n",
       "124945               0.000000  \n",
       "124946               0.000000  \n",
       "124947               0.000000  \n",
       "124948               0.000000  \n",
       "124949               0.000000  \n",
       "\n",
       "[84246 rows x 12 columns]"
      ]
     },
     "execution_count": 37,
     "metadata": {},
     "output_type": "execute_result"
    }
   ],
   "source": [
    "locations_at_high_turbulence"
   ]
  },
  {
   "cell_type": "markdown",
   "metadata": {},
   "source": [
    "*** "
   ]
  },
  {
   "cell_type": "markdown",
   "metadata": {},
   "source": [
    "*** "
   ]
  },
  {
   "cell_type": "markdown",
   "metadata": {},
   "source": [
    "## $\\color{green}{\\text{Result 2 below.  \"locations\\_at\\_high\\_wind\\_magnitude\" DataFrame}} $\n",
    " #### \" This Dataframe result shows locations within the computational domain where wind magnitude is high (> 0.95 normalized wind velocity magnitude values). The column name below refers to : \"\n",
    "- #### latitude,longitude : lat,long of region with high normalized wind velocity magnitude. \n",
    "- #### X,Y,Z : Corresponding \"distance in meters from the vertiport\" for the location.\n",
    "- #### All Column names are variables : (Turbulent Kinetic Energy (TKE), Velocity_magnitude,  Velocity components (Velocity_X,Velocity_Y, Velocity_Z) and Normalized Velocity_mag and Normalized_TKE ) at the maximum high turbulence drone locations . \"\n",
    "- > ###### Normalized variables between 0 to 1. Value of 1 in normalized variable means high value of TKE or velocity at that location while 0 means lowest value."
   ]
  },
  {
   "cell_type": "code",
   "execution_count": 32,
   "metadata": {
    "scrolled": true
   },
   "outputs": [
    {
     "data": {
      "text/html": [
       "<div>\n",
       "<style scoped>\n",
       "    .dataframe tbody tr th:only-of-type {\n",
       "        vertical-align: middle;\n",
       "    }\n",
       "\n",
       "    .dataframe tbody tr th {\n",
       "        vertical-align: top;\n",
       "    }\n",
       "\n",
       "    .dataframe thead th {\n",
       "        text-align: right;\n",
       "    }\n",
       "</style>\n",
       "<table border=\"1\" class=\"dataframe\">\n",
       "  <thead>\n",
       "    <tr style=\"text-align: right;\">\n",
       "      <th></th>\n",
       "      <th>X</th>\n",
       "      <th>Y</th>\n",
       "      <th>Z</th>\n",
       "      <th>tke</th>\n",
       "      <th>Velocity_X_</th>\n",
       "      <th>Velocity_Y_</th>\n",
       "      <th>Velocity_Z_</th>\n",
       "      <th>latitude</th>\n",
       "      <th>longitude</th>\n",
       "      <th>Velocity_mag</th>\n",
       "      <th>Normalized_Velocity</th>\n",
       "      <th>Normalized_turbulence</th>\n",
       "    </tr>\n",
       "  </thead>\n",
       "  <tbody>\n",
       "    <tr>\n",
       "      <th>153</th>\n",
       "      <td>-500.0</td>\n",
       "      <td>-394.909306</td>\n",
       "      <td>262.911592</td>\n",
       "      <td>1.151021</td>\n",
       "      <td>0.388544</td>\n",
       "      <td>0.172169</td>\n",
       "      <td>-0.000529</td>\n",
       "      <td>59.945847</td>\n",
       "      <td>10.706616</td>\n",
       "      <td>0.424981</td>\n",
       "      <td>0.427864</td>\n",
       "      <td>0.960511</td>\n",
       "    </tr>\n",
       "    <tr>\n",
       "      <th>154</th>\n",
       "      <td>-500.0</td>\n",
       "      <td>-394.909306</td>\n",
       "      <td>268.696122</td>\n",
       "      <td>1.139186</td>\n",
       "      <td>0.408755</td>\n",
       "      <td>0.177042</td>\n",
       "      <td>0.000238</td>\n",
       "      <td>59.945847</td>\n",
       "      <td>10.706616</td>\n",
       "      <td>0.445449</td>\n",
       "      <td>0.448471</td>\n",
       "      <td>0.950626</td>\n",
       "    </tr>\n",
       "    <tr>\n",
       "      <th>203</th>\n",
       "      <td>-500.0</td>\n",
       "      <td>-376.541408</td>\n",
       "      <td>262.911592</td>\n",
       "      <td>1.149872</td>\n",
       "      <td>0.383115</td>\n",
       "      <td>0.158767</td>\n",
       "      <td>-0.000925</td>\n",
       "      <td>59.946012</td>\n",
       "      <td>10.706616</td>\n",
       "      <td>0.414711</td>\n",
       "      <td>0.417524</td>\n",
       "      <td>0.959551</td>\n",
       "    </tr>\n",
       "    <tr>\n",
       "      <th>204</th>\n",
       "      <td>-500.0</td>\n",
       "      <td>-376.541408</td>\n",
       "      <td>268.696122</td>\n",
       "      <td>1.141626</td>\n",
       "      <td>0.407663</td>\n",
       "      <td>0.169869</td>\n",
       "      <td>0.000483</td>\n",
       "      <td>59.946012</td>\n",
       "      <td>10.706616</td>\n",
       "      <td>0.441639</td>\n",
       "      <td>0.444635</td>\n",
       "      <td>0.952664</td>\n",
       "    </tr>\n",
       "    <tr>\n",
       "      <th>253</th>\n",
       "      <td>-500.0</td>\n",
       "      <td>-358.173510</td>\n",
       "      <td>262.911592</td>\n",
       "      <td>1.150524</td>\n",
       "      <td>0.381476</td>\n",
       "      <td>0.154993</td>\n",
       "      <td>-0.000314</td>\n",
       "      <td>59.946177</td>\n",
       "      <td>10.706616</td>\n",
       "      <td>0.411761</td>\n",
       "      <td>0.414554</td>\n",
       "      <td>0.960096</td>\n",
       "    </tr>\n",
       "    <tr>\n",
       "      <th>...</th>\n",
       "      <td>...</td>\n",
       "      <td>...</td>\n",
       "      <td>...</td>\n",
       "      <td>...</td>\n",
       "      <td>...</td>\n",
       "      <td>...</td>\n",
       "      <td>...</td>\n",
       "      <td>...</td>\n",
       "      <td>...</td>\n",
       "      <td>...</td>\n",
       "      <td>...</td>\n",
       "      <td>...</td>\n",
       "    </tr>\n",
       "    <tr>\n",
       "      <th>2445</th>\n",
       "      <td>-500.0</td>\n",
       "      <td>431.646102</td>\n",
       "      <td>505.861878</td>\n",
       "      <td>1.195997</td>\n",
       "      <td>0.582910</td>\n",
       "      <td>0.245879</td>\n",
       "      <td>0.001372</td>\n",
       "      <td>59.953284</td>\n",
       "      <td>10.706616</td>\n",
       "      <td>0.632647</td>\n",
       "      <td>0.636939</td>\n",
       "      <td>0.998075</td>\n",
       "    </tr>\n",
       "    <tr>\n",
       "      <th>2446</th>\n",
       "      <td>-500.0</td>\n",
       "      <td>431.646102</td>\n",
       "      <td>511.646408</td>\n",
       "      <td>1.195952</td>\n",
       "      <td>0.584497</td>\n",
       "      <td>0.246677</td>\n",
       "      <td>0.001315</td>\n",
       "      <td>59.953284</td>\n",
       "      <td>10.706616</td>\n",
       "      <td>0.634419</td>\n",
       "      <td>0.638723</td>\n",
       "      <td>0.998038</td>\n",
       "    </tr>\n",
       "    <tr>\n",
       "      <th>2447</th>\n",
       "      <td>-500.0</td>\n",
       "      <td>431.646102</td>\n",
       "      <td>517.430939</td>\n",
       "      <td>1.195910</td>\n",
       "      <td>0.586054</td>\n",
       "      <td>0.247458</td>\n",
       "      <td>0.001259</td>\n",
       "      <td>59.953284</td>\n",
       "      <td>10.706616</td>\n",
       "      <td>0.636158</td>\n",
       "      <td>0.640474</td>\n",
       "      <td>0.998002</td>\n",
       "    </tr>\n",
       "    <tr>\n",
       "      <th>2448</th>\n",
       "      <td>-500.0</td>\n",
       "      <td>431.646102</td>\n",
       "      <td>523.215469</td>\n",
       "      <td>1.195867</td>\n",
       "      <td>0.587576</td>\n",
       "      <td>0.248218</td>\n",
       "      <td>0.001206</td>\n",
       "      <td>59.953284</td>\n",
       "      <td>10.706616</td>\n",
       "      <td>0.637855</td>\n",
       "      <td>0.642182</td>\n",
       "      <td>0.997967</td>\n",
       "    </tr>\n",
       "    <tr>\n",
       "      <th>2449</th>\n",
       "      <td>-500.0</td>\n",
       "      <td>431.646102</td>\n",
       "      <td>529.000000</td>\n",
       "      <td>1.195828</td>\n",
       "      <td>0.589083</td>\n",
       "      <td>0.248972</td>\n",
       "      <td>0.001151</td>\n",
       "      <td>59.953284</td>\n",
       "      <td>10.706616</td>\n",
       "      <td>0.639537</td>\n",
       "      <td>0.643876</td>\n",
       "      <td>0.997934</td>\n",
       "    </tr>\n",
       "  </tbody>\n",
       "</table>\n",
       "<p>1650 rows × 12 columns</p>\n",
       "</div>"
      ],
      "text/plain": [
       "          X           Y           Z       tke  Velocity_X_  Velocity_Y_  \\\n",
       "153  -500.0 -394.909306  262.911592  1.151021     0.388544     0.172169   \n",
       "154  -500.0 -394.909306  268.696122  1.139186     0.408755     0.177042   \n",
       "203  -500.0 -376.541408  262.911592  1.149872     0.383115     0.158767   \n",
       "204  -500.0 -376.541408  268.696122  1.141626     0.407663     0.169869   \n",
       "253  -500.0 -358.173510  262.911592  1.150524     0.381476     0.154993   \n",
       "...     ...         ...         ...       ...          ...          ...   \n",
       "2445 -500.0  431.646102  505.861878  1.195997     0.582910     0.245879   \n",
       "2446 -500.0  431.646102  511.646408  1.195952     0.584497     0.246677   \n",
       "2447 -500.0  431.646102  517.430939  1.195910     0.586054     0.247458   \n",
       "2448 -500.0  431.646102  523.215469  1.195867     0.587576     0.248218   \n",
       "2449 -500.0  431.646102  529.000000  1.195828     0.589083     0.248972   \n",
       "\n",
       "      Velocity_Z_   latitude  longitude  Velocity_mag  Normalized_Velocity  \\\n",
       "153     -0.000529  59.945847  10.706616      0.424981             0.427864   \n",
       "154      0.000238  59.945847  10.706616      0.445449             0.448471   \n",
       "203     -0.000925  59.946012  10.706616      0.414711             0.417524   \n",
       "204      0.000483  59.946012  10.706616      0.441639             0.444635   \n",
       "253     -0.000314  59.946177  10.706616      0.411761             0.414554   \n",
       "...           ...        ...        ...           ...                  ...   \n",
       "2445     0.001372  59.953284  10.706616      0.632647             0.636939   \n",
       "2446     0.001315  59.953284  10.706616      0.634419             0.638723   \n",
       "2447     0.001259  59.953284  10.706616      0.636158             0.640474   \n",
       "2448     0.001206  59.953284  10.706616      0.637855             0.642182   \n",
       "2449     0.001151  59.953284  10.706616      0.639537             0.643876   \n",
       "\n",
       "      Normalized_turbulence  \n",
       "153                0.960511  \n",
       "154                0.950626  \n",
       "203                0.959551  \n",
       "204                0.952664  \n",
       "253                0.960096  \n",
       "...                     ...  \n",
       "2445               0.998075  \n",
       "2446               0.998038  \n",
       "2447               0.998002  \n",
       "2448               0.997967  \n",
       "2449               0.997934  \n",
       "\n",
       "[1650 rows x 12 columns]"
      ]
     },
     "execution_count": 32,
     "metadata": {},
     "output_type": "execute_result"
    }
   ],
   "source": [
    "locations_at_high_wind_magnitude"
   ]
  },
  {
   "cell_type": "markdown",
   "metadata": {},
   "source": [
    "*** "
   ]
  },
  {
   "cell_type": "markdown",
   "metadata": {},
   "source": [
    "*** "
   ]
  },
  {
   "cell_type": "markdown",
   "metadata": {},
   "source": [
    "## $\\color{green}{\\text{Result 3. More Detailed Reports : See VTK and CSV}} $\n"
   ]
  },
  {
   "cell_type": "markdown",
   "metadata": {},
   "source": [
    "# In case more detailed results are required (like, flow at all locations in the parts of city, then open the VTK generated files using free paraview open-source software."
   ]
  },
  {
   "cell_type": "markdown",
   "metadata": {},
   "source": [
    "*** "
   ]
  },
  {
   "cell_type": "markdown",
   "metadata": {},
   "source": [
    "*** "
   ]
  },
  {
   "cell_type": "markdown",
   "metadata": {},
   "source": [
    "## $\\color{green}{\\text{Result 4. Comparison of AI micro-scale vs Meso-scale predictions Vs CFD micro-scale}} $\n"
   ]
  },
  {
   "cell_type": "code",
   "execution_count": null,
   "metadata": {
    "scrolled": true
   },
   "outputs": [
    {
     "data": {
      "text/html": [
       "<div>\n",
       "<style scoped>\n",
       "    .dataframe tbody tr th:only-of-type {\n",
       "        vertical-align: middle;\n",
       "    }\n",
       "\n",
       "    .dataframe tbody tr th {\n",
       "        vertical-align: top;\n",
       "    }\n",
       "\n",
       "    .dataframe thead th {\n",
       "        text-align: right;\n",
       "    }\n",
       "</style>\n",
       "<table border=\"1\" class=\"dataframe\">\n",
       "  <thead>\n",
       "    <tr style=\"text-align: right;\">\n",
       "      <th></th>\n",
       "      <th>lat</th>\n",
       "      <th>lon</th>\n",
       "      <th>ws</th>\n",
       "      <th>wd</th>\n",
       "    </tr>\n",
       "  </thead>\n",
       "  <tbody>\n",
       "    <tr>\n",
       "      <th>0</th>\n",
       "      <td>59.9494</td>\n",
       "      <td>10.7156</td>\n",
       "      <td>0.33</td>\n",
       "      <td>247</td>\n",
       "    </tr>\n",
       "  </tbody>\n",
       "</table>\n",
       "</div>"
      ],
      "text/plain": [
       "       lat      lon    ws   wd\n",
       "0  59.9494  10.7156  0.33  247"
      ]
     },
     "execution_count": 26,
     "metadata": {},
     "output_type": "execute_result"
    }
   ],
   "source": [
    "#Meso-scale data results at specificied drone path (all are same).\n",
    "\n",
    "#Note: ws=Velocity_mag\n",
    "#Note: wd=wind direction\n",
    "\n",
    "Macroscale_ws_wd_prediction"
   ]
  },
  {
   "cell_type": "markdown",
   "metadata": {},
   "source": [
    " ##  *************************************** END ************************************************************''"
   ]
  },
  {
   "cell_type": "markdown",
   "metadata": {},
   "source": [
    "***"
   ]
  },
  {
   "cell_type": "markdown",
   "metadata": {},
   "source": [
    "***"
   ]
  },
  {
   "cell_type": "markdown",
   "metadata": {},
   "source": [
    "## Ends here \n",
    "##################################################################################3."
   ]
  }
 ],
 "metadata": {
  "kernelspec": {
   "display_name": "Python 3",
   "language": "python",
   "name": "python3"
  },
  "language_info": {
   "codemirror_mode": {
    "name": "ipython",
    "version": 3
   },
   "file_extension": ".py",
   "mimetype": "text/x-python",
   "name": "python",
   "nbconvert_exporter": "python",
   "pygments_lexer": "ipython3",
   "version": "3.11.8"
  }
 },
 "nbformat": 4,
 "nbformat_minor": 2
}
