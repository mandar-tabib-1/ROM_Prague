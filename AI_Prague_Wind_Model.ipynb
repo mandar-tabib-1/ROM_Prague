{
 "cells": [
  {
   "cell_type": "code",
   "execution_count": 1,
   "metadata": {},
   "outputs": [],
   "source": [
    "# ROM for 2D Building induced turbulence (turbulent kinetic energy)\n",
    "    # with POD coefficient parameterized for wind direction.\n",
    "    \n",
    "# Details of database : \n",
    "    # Six Wind directions : [90,22.5,360,200,180,270] #[E,NNE,N,SSW,S,W]\n",
    "    #\"2D plane mesh from 3D data\"\n",
    "    # Polygonal Mesh - Cells : 433086 , Points : 234314\n",
    "    # TKE values range from 0 - 0.6 m2/s2.    \n",
    "    \n",
    "#For Flow reconstruction (see at end): Input needed : (a) wind direction in degrees, (2) Load POD modes,(c) Load Mean TKE, and (d) Load trained RBF interpolators to compute POD coefficient for given wind direction.\n",
    "\n",
    "# ROM: TKE field reconstruction for 433086 cells for a wind direction (without loading times) should take less than 0.1 s."
   ]
  },
  {
   "cell_type": "markdown",
   "metadata": {},
   "source": [
    "# Load libraries "
   ]
  },
  {
   "cell_type": "code",
   "execution_count": 2,
   "metadata": {},
   "outputs": [],
   "source": [
    "import matplotlib.pyplot as plt\n",
    "from scipy.interpolate import Rbf #for regression.\n",
    "\n",
    "import pyvista as vtki\n",
    "import numpy as np\n",
    "import os\n",
    "import pandas as pd\n",
    "%config Completer.use_jedi = False\n",
    "\n",
    "\n",
    "import vtk\n",
    "from vtk.numpy_interface import dataset_adapter\n",
    "from vtk.numpy_interface import algorithms as algs\n",
    "\n",
    "import sys\n",
    "from os.path import isdir, isfile, join\n",
    "from os.path import expanduser\n",
    "import numpy as np\n",
    "import re\n",
    "\n",
    "import json\n",
    "import pickle\n",
    "\n",
    "\n",
    "\n",
    "import random\n",
    "import time as timer\n",
    "import pickle\n",
    "\n",
    "import matplotlib.pyplot as plt\n",
    "import os, sys\n",
    "\n",
    "#from pyvistaqt import BackgroundPlotter\n",
    "#os.environ['TF_CPP_MIN_LOG_LEVEL'] = '3' \n",
    "\n",
    "#import tensorflow as tf\n",
    "\n",
    "#from tensorflow.keras.models import Model\n",
    "#from tensorflow.keras.layers import Dense, Input, concatenate\n",
    "#from tensorflow.keras.layers import LSTM, Flatten, Reshape, Conv2D, Conv2DTranspose, Dropout\n",
    "\n",
    "#from tensorflow.keras import backend as K\n",
    "#from sklearn.preprocessing import MinMaxScaler\n",
    "#from sklearn.model_selection import train_test_split\n"
   ]
  },
  {
   "cell_type": "raw",
   "metadata": {},
   "source": [
    "#Testing radial basis function based intepolation\n",
    "# It will be used later for POD coefficients  to be function of wind direction\n",
    "x=np.array([126, 254, 728, 999]) # num_downstream_planes\n",
    "A=np.arange(40).reshape(4,-1) #\n",
    "print(A.shape) #to test: num_downstream_planes x num_modes for current set-up\n",
    "\n",
    "\n",
    "def func(x,y,z): return np.sin(x)+np.sin(y)+np.sin(z)\n",
    "y=func(A[:,0],A[:,1],A[:,2])\n",
    "plt.figure(figsize=(12,6))\n",
    "ax=plt.plot(x,y,'x')\n",
    "A[:,0].size\n",
    "\n",
    "rbfi = Rbf(A[:,0],A[:,1],A[:,2], func(A[:,0],A[:,1],A[:,2])) #replicating input A with column features, and output func as y.\n",
    "xi = np.linspace(0, A[:,0].max(), 20)\n",
    "yi = np.linspace(0, A[:,1].max(), 20)\n",
    "zi = np.linspace(0, A[:,2].max(), 20)\n",
    "di = rbfi(xi, yi, zi)   # test interpolant at new interpolated values\n",
    "plt.plot(A[:,0],y,'xb',xi,di,'xg')\n"
   ]
  },
  {
   "cell_type": "markdown",
   "metadata": {},
   "source": [
    "# Load Building CFD data and read/visualize using pyVista"
   ]
  },
  {
   "cell_type": "code",
   "execution_count": 3,
   "metadata": {},
   "outputs": [],
   "source": [
    "\n",
    "\n",
    "#To generate snapshots for basis functions - run the following script in paraview \n",
    "#%run run_in_paraview_for_snapshotdataset"
   ]
  },
  {
   "cell_type": "code",
   "execution_count": 4,
   "metadata": {},
   "outputs": [],
   "source": [
    "# tips for uniform grid and interpolationg from structured to unstructured\n",
    "# https://github.com/pyvista/pyvista-support/issues/148 \n",
    "# https://docs.pyvista.org/version/stable/examples/01-filter/resample#resampling-example\n",
    "\n",
    "# https://discourse.vtk.org/t/creating-uniform-rectilinear-slice-of-3d-data/1002/2"
   ]
  },
  {
   "cell_type": "code",
   "execution_count": 5,
   "metadata": {},
   "outputs": [
    {
     "name": "stdout",
     "output_type": "stream",
     "text": [
      "/media/mandart/D/AI4Hydrop_Prague/Prague_All_simulations/Prague_8_mps_NorthWesterly/VTK/\n"
     ]
    }
   ],
   "source": [
    "#Filenames to load the data \n",
    "fnyaw_0= '/media/mandart/D/AI4Hydrop_Prague/Prague_All_simulations/Prague_8_mps_NorthWesterly/VTK/' #Prague_8_mps_NorthWesterly_3312.vtm \n",
    "#'/media/mandart/D/NorthWind-FME/Junmiao-database/270yaw/buildings'\n",
    "filenames=[fnyaw_0] \n",
    "print(filenames[0])"
   ]
  },
  {
   "cell_type": "code",
   "execution_count": 6,
   "metadata": {},
   "outputs": [
    {
     "name": "stdout",
     "output_type": "stream",
     "text": [
      "/media/mandart/D/AI4Hydrop_Prague/Prague_All_simulations/\n"
     ]
    }
   ],
   "source": [
    "fnyaw_0= '/media/mandart/D/AI4Hydrop_Prague/Prague_All_simulations/' #Prague_8_mps_NorthWesterly_3312.vtm \n",
    "#'/media/mandart/D/NorthWind-FME/Junmiao-database/270yaw/buildings'\n",
    "filenames=[fnyaw_0] \n",
    "print(filenames[0])"
   ]
  },
  {
   "cell_type": "code",
   "execution_count": 7,
   "metadata": {},
   "outputs": [],
   "source": [
    "res=[]\n",
    "for (root,dirs,files) in os.walk(fnyaw_0, topdown=True):\n",
    "    for name in files:\n",
    "        #print ((os.path.join(root, name)))\n",
    "        #subs='U_zplane'\n",
    "        #print(name)\n",
    "        #break\n",
    "        #res = [i for i in name if subs in os.path.join(root, name)]\n",
    "        #print (root)\n",
    "        #print (dirs)\n",
    "        #print (files)\n",
    "        #if name=='U_zplane.vtk':\n",
    "        extensions = '.vtm'\n",
    "        if (name.endswith(extensions)) & (\"boundary\" not in name):\n",
    "            res.append(os.path.join(root, name))              \n",
    "        "
   ]
  },
  {
   "cell_type": "code",
   "execution_count": 8,
   "metadata": {},
   "outputs": [],
   "source": [
    "res.sort()"
   ]
  },
  {
   "cell_type": "code",
   "execution_count": 9,
   "metadata": {},
   "outputs": [
    {
     "data": {
      "text/plain": [
       "32"
      ]
     },
     "execution_count": 9,
     "metadata": {},
     "output_type": "execute_result"
    }
   ],
   "source": [
    "len(res)"
   ]
  },
  {
   "cell_type": "code",
   "execution_count": 10,
   "metadata": {},
   "outputs": [
    {
     "data": {
      "text/plain": [
       "['/media/mandart/D/AI4Hydrop_Prague/Prague_All_simulations/Prague_0p5_mps_Easterly/VTK/Prague_0p5_mps_Easterly_5000.vtm',\n",
       " '/media/mandart/D/AI4Hydrop_Prague/Prague_All_simulations/Prague_0p5_mps_NorthEast/VTK/Prague_0p5_mps_NorthEast_2716.vtm',\n",
       " '/media/mandart/D/AI4Hydrop_Prague/Prague_All_simulations/Prague_0p5_mps_NorthWest/VTK/Prague_0p5_mps_NorthWest_2702.vtm',\n",
       " '/media/mandart/D/AI4Hydrop_Prague/Prague_All_simulations/Prague_0p5_mps_Northerly/VTK/Prague_0p5_mps_Northerly_3209.vtm',\n",
       " '/media/mandart/D/AI4Hydrop_Prague/Prague_All_simulations/Prague_0p5_mps_SouthEasterlyActually/VTK/Prague_0p5_mps_SouthEasterlyActually_2815.vtm',\n",
       " '/media/mandart/D/AI4Hydrop_Prague/Prague_All_simulations/Prague_0p5_mps_SouthWest/VTK/Prague_0p5_mps_SouthWest_2882.vtm',\n",
       " '/media/mandart/D/AI4Hydrop_Prague/Prague_All_simulations/Prague_0p5_mps_Southerly/VTK/Prague_0p5_mps_Southerly_3998.vtm',\n",
       " '/media/mandart/D/AI4Hydrop_Prague/Prague_All_simulations/Prague_0p5_mps_Westerly/VTK/Prague_0p5_mps_Westerly_5000.vtm',\n",
       " '/media/mandart/D/AI4Hydrop_Prague/Prague_All_simulations/Prague_2p5_mps_Easterly/VTK/Prague_2p5_mps_Easterly_3975.vtm',\n",
       " '/media/mandart/D/AI4Hydrop_Prague/Prague_All_simulations/Prague_2p5_mps_NorthEast/VTK/Prague_2p5_mps_NorthEast_1490.vtm',\n",
       " '/media/mandart/D/AI4Hydrop_Prague/Prague_All_simulations/Prague_2p5_mps_NorthWest/VTK/Prague_2p5_mps_NorthWest_2043.vtm',\n",
       " '/media/mandart/D/AI4Hydrop_Prague/Prague_All_simulations/Prague_2p5_mps_Northerly/VTK/Prague_2p5_mps_Northerly_3042.vtm',\n",
       " '/media/mandart/D/AI4Hydrop_Prague/Prague_All_simulations/Prague_2p5_mps_SouthEast/VTK/Prague_2p5_mps_SouthEast_1615.vtm',\n",
       " '/media/mandart/D/AI4Hydrop_Prague/Prague_All_simulations/Prague_2p5_mps_SouthWest/VTK/Prague_2p5_mps_SouthWest_2463.vtm',\n",
       " '/media/mandart/D/AI4Hydrop_Prague/Prague_All_simulations/Prague_2p5_mps_Southerly/VTK/Prague_2p5_mps_Southerly_2642.vtm',\n",
       " '/media/mandart/D/AI4Hydrop_Prague/Prague_All_simulations/Prague_2p5_mps_Westerly/VTK/Prague_2p5_mps_Westerly_3230.vtm',\n",
       " '/media/mandart/D/AI4Hydrop_Prague/Prague_All_simulations/Prague_5_mps_Easterly/VTK/Prague_5_mps_Easterly_2948.vtm',\n",
       " '/media/mandart/D/AI4Hydrop_Prague/Prague_All_simulations/Prague_5_mps_NorthEast/VTK/Prague_5_mps_NorthEast_1327.vtm',\n",
       " '/media/mandart/D/AI4Hydrop_Prague/Prague_All_simulations/Prague_5_mps_NorthWest/VTK/Prague_5_mps_NorthWest_1937.vtm',\n",
       " '/media/mandart/D/AI4Hydrop_Prague/Prague_All_simulations/Prague_5_mps_Northerly/VTK/Prague_5_mps_Northerly_2108.vtm',\n",
       " '/media/mandart/D/AI4Hydrop_Prague/Prague_All_simulations/Prague_5_mps_SouthEast/VTK/Prague_5_mps_SouthEast_1401.vtm',\n",
       " '/media/mandart/D/AI4Hydrop_Prague/Prague_All_simulations/Prague_5_mps_SouthWest/VTK/Prague_5_mps_SouthWest_1584.vtm',\n",
       " '/media/mandart/D/AI4Hydrop_Prague/Prague_All_simulations/Prague_5_mps_Southerly/VTK/Prague_5_mps_Southerly_1691.vtm',\n",
       " '/media/mandart/D/AI4Hydrop_Prague/Prague_All_simulations/Prague_5_mps_Westerly/VTK/Prague_5_mps_Westerly_2533.vtm',\n",
       " '/media/mandart/D/AI4Hydrop_Prague/Prague_All_simulations/Prague_8_mps_Easterly/VTK/Prague_8_mps_Easterly_1600.vtm',\n",
       " '/media/mandart/D/AI4Hydrop_Prague/Prague_All_simulations/Prague_8_mps_NorthEast/VTK/Prague_8_mps_NorthEast_3312.vtm',\n",
       " '/media/mandart/D/AI4Hydrop_Prague/Prague_All_simulations/Prague_8_mps_NorthWest/VTK/Prague_8_mps_NorthWest_3854.vtm',\n",
       " '/media/mandart/D/AI4Hydrop_Prague/Prague_All_simulations/Prague_8_mps_Northerly/VTK/Prague_8_mps_Northerly_3008.vtm',\n",
       " '/media/mandart/D/AI4Hydrop_Prague/Prague_All_simulations/Prague_8_mps_SouthEast/VTK/Prague_8_mps_SouthEast_2307.vtm',\n",
       " '/media/mandart/D/AI4Hydrop_Prague/Prague_All_simulations/Prague_8_mps_SouthWest/VTK/Prague_8_mps_SouthWest_2619.vtm',\n",
       " '/media/mandart/D/AI4Hydrop_Prague/Prague_All_simulations/Prague_8_mps_Southerly/VTK/Prague_8_mps_Southerly_1980.vtm',\n",
       " '/media/mandart/D/AI4Hydrop_Prague/Prague_All_simulations/Prague_8_mps_Westerly/VTK/Prague_8_mps_Westerly_3124.vtm']"
      ]
     },
     "execution_count": 10,
     "metadata": {},
     "output_type": "execute_result"
    }
   ],
   "source": [
    "res"
   ]
  },
  {
   "cell_type": "raw",
   "metadata": {},
   "source": [
    "unwanted_num = {'U_surface_y.vtk', 'U_surface_z.vtk','p_surface_y.vtk','p_surface_z.vtk'}\n",
    "direc = [ele for ele in direc if ele not in unwanted_num]"
   ]
  },
  {
   "cell_type": "code",
   "execution_count": 11,
   "metadata": {},
   "outputs": [],
   "source": [
    "grid = vtki.MultiBlock(res[0])"
   ]
  },
  {
   "cell_type": "code",
   "execution_count": 12,
   "metadata": {},
   "outputs": [],
   "source": [
    "Unstructuredgrid=grid[\"internal\"]"
   ]
  },
  {
   "cell_type": "code",
   "execution_count": 13,
   "metadata": {},
   "outputs": [],
   "source": [
    "boundarygrid=grid[\"boundary\"]"
   ]
  },
  {
   "cell_type": "code",
   "execution_count": 14,
   "metadata": {},
   "outputs": [
    {
     "name": "stdout",
     "output_type": "stream",
     "text": [
      "internal\n",
      "boundary\n"
     ]
    }
   ],
   "source": [
    "for name in grid.keys():\n",
    "    print(name)\n",
    "    #block = blocks[name]"
   ]
  },
  {
   "cell_type": "code",
   "execution_count": 15,
   "metadata": {},
   "outputs": [
    {
     "data": {
      "text/html": [
       "<table style='width: 100%;'><tr><th>Header</th><th>Data Arrays</th></tr><tr><td>\n",
       "<table style='width: 100%;'>\n",
       "<tr><th>UnstructuredGrid</th><th>Information</th></tr>\n",
       "<tr><td>N Cells</td><td>8015791</td></tr>\n",
       "<tr><td>N Points</td><td>8925729</td></tr>\n",
       "<tr><td>X Bounds</td><td>9.800e+02, 1.980e+03</td></tr>\n",
       "<tr><td>Y Bounds</td><td>-2.570e+03, -1.670e+03</td></tr>\n",
       "<tr><td>Z Bounds</td><td>1.656e+01, 4.500e+02</td></tr>\n",
       "<tr><td>N Arrays</td><td>11</td></tr>\n",
       "</table>\n",
       "\n",
       "</td><td>\n",
       "<table style='width: 100%;'>\n",
       "<tr><th>Name</th><th>Field</th><th>Type</th><th>N Comp</th><th>Min</th><th>Max</th></tr>\n",
       "<tr><td>epsilon</td><td>Points</td><td>float32</td><td>1</td><td>1.000e-15</td><td>8.382e-01</td></tr>\n",
       "<tr><td>k</td><td>Points</td><td>float32</td><td>1</td><td>1.000e-15</td><td>1.916e+00</td></tr>\n",
       "<tr><td>nut</td><td>Points</td><td>float32</td><td>1</td><td>0.000e+00</td><td>2.906e+01</td></tr>\n",
       "<tr><td>p</td><td>Points</td><td>float32</td><td>1</td><td>-2.426e+00</td><td>1.498e+01</td></tr>\n",
       "<tr><td>U</td><td>Points</td><td>float32</td><td>3</td><td>-1.640e+00</td><td>3.657e+00</td></tr>\n",
       "<tr><td>epsilon</td><td>Cells</td><td>float32</td><td>1</td><td>1.000e-15</td><td>1.090e+00</td></tr>\n",
       "<tr><td>k</td><td>Cells</td><td>float32</td><td>1</td><td>1.000e-15</td><td>2.170e+00</td></tr>\n",
       "<tr><td>nut</td><td>Cells</td><td>float32</td><td>1</td><td>2.266e-17</td><td>2.885e+01</td></tr>\n",
       "<tr><td>p</td><td>Cells</td><td>float32</td><td>1</td><td>-3.115e+00</td><td>1.498e+01</td></tr>\n",
       "<tr><td>U</td><td>Cells</td><td>float32</td><td>3</td><td>-2.031e+00</td><td>4.200e+00</td></tr>\n",
       "<tr><td>TimeValue</td><td>Fields</td><td>float32</td><td>1</td><td>5.000e+00</td><td>5.000e+00</td></tr>\n",
       "</table>\n",
       "\n",
       "</td></tr> </table>"
      ],
      "text/plain": [
       "UnstructuredGrid (0x7fd7764804c0)\n",
       "  N Cells:    8015791\n",
       "  N Points:   8925729\n",
       "  X Bounds:   9.800e+02, 1.980e+03\n",
       "  Y Bounds:   -2.570e+03, -1.670e+03\n",
       "  Z Bounds:   1.656e+01, 4.500e+02\n",
       "  N Arrays:   11"
      ]
     },
     "execution_count": 15,
     "metadata": {},
     "output_type": "execute_result"
    }
   ],
   "source": [
    "Unstructuredgrid"
   ]
  },
  {
   "cell_type": "code",
   "execution_count": 16,
   "metadata": {},
   "outputs": [
    {
     "data": {
      "text/plain": [
       "pyvista_ndarray([[ 5.8487862e-01, -3.2838408e-03,  1.0196671e-02],\n",
       "                 [ 5.5087686e-01,  2.5849652e-03,  1.2629303e-02],\n",
       "                 [ 5.3589553e-01,  3.6535657e-03,  1.3673493e-02],\n",
       "                 ...,\n",
       "                 [ 4.5076430e-01,  1.1752313e-01,  6.8803068e-04],\n",
       "                 [ 4.4805801e-01,  1.1587426e-01,  2.1914330e-04],\n",
       "                 [ 4.4107717e-01,  1.1730122e-01, -1.3744604e-03]],\n",
       "                dtype=float32)"
      ]
     },
     "execution_count": 16,
     "metadata": {},
     "output_type": "execute_result"
    }
   ],
   "source": [
    "Unstructuredgrid['k']\n",
    "Unstructuredgrid['U']"
   ]
  },
  {
   "cell_type": "code",
   "execution_count": 17,
   "metadata": {},
   "outputs": [
    {
     "data": {
      "text/html": [
       "<table style='width: 100%;'><tr><th>Information</th><th>Blocks</th></tr><tr><td>\n",
       "<table>\n",
       "<tr><th>MultiBlock</th><th>Values</th></tr>\n",
       "<tr><td>N Blocks</td><td>6</td></tr>\n",
       "<tr><td>X Bounds</td><td>980.000, 1980.000</td></tr>\n",
       "<tr><td>Y Bounds</td><td>-2570.013, -1669.986</td></tr>\n",
       "<tr><td>Z Bounds</td><td>16.558, 450.000</td></tr>\n",
       "</table>\n",
       "\n",
       "</td><td>\n",
       "<table>\n",
       "<tr><th>Index</th><th>Name</th><th>Type</th></tr>\n",
       "<tr><th>0</th><th>west</th><th>PolyData</th></tr>\n",
       "<tr><th>1</th><th>south</th><th>PolyData</th></tr>\n",
       "<tr><th>2</th><th>north</th><th>PolyData</th></tr>\n",
       "<tr><th>3</th><th>east</th><th>PolyData</th></tr>\n",
       "<tr><th>4</th><th>top</th><th>PolyData</th></tr>\n",
       "<tr><th>5</th><th>terrain6</th><th>PolyData</th></tr>\n",
       "</table>\n",
       "\n",
       "</td></tr> </table>"
      ],
      "text/plain": [
       "MultiBlock (0x7fd776480340)\n",
       "  N Blocks    6\n",
       "  X Bounds    980.000, 1980.000\n",
       "  Y Bounds    -2570.013, -1669.986\n",
       "  Z Bounds    16.558, 450.000"
      ]
     },
     "execution_count": 17,
     "metadata": {},
     "output_type": "execute_result"
    }
   ],
   "source": [
    "boundarygrid"
   ]
  },
  {
   "cell_type": "code",
   "execution_count": 18,
   "metadata": {},
   "outputs": [],
   "source": [
    "xmin=980.0\n",
    "ymin=-2570.013\n",
    "zmin=16.558\n",
    "xmax=1980.0000\n",
    "ymax=-1669.986\n",
    "zmax=300.00"
   ]
  },
  {
   "cell_type": "code",
   "execution_count": 20,
   "metadata": {},
   "outputs": [],
   "source": [
    "unstructured_grid=Unstructuredgrid.clip_box([xmin, xmax, ymin, ymax, zmin, zmax],invert=False)"
   ]
  },
  {
   "cell_type": "code",
   "execution_count": 22,
   "metadata": {},
   "outputs": [
    {
     "data": {
      "text/html": [
       "<table style='width: 100%;'><tr><th>Header</th><th>Data Arrays</th></tr><tr><td>\n",
       "<table style='width: 100%;'>\n",
       "<tr><th>UnstructuredGrid</th><th>Information</th></tr>\n",
       "<tr><td>N Cells</td><td>45098316</td></tr>\n",
       "<tr><td>N Points</td><td>8759960</td></tr>\n",
       "<tr><td>X Bounds</td><td>9.800e+02, 1.980e+03</td></tr>\n",
       "<tr><td>Y Bounds</td><td>-2.570e+03, -1.670e+03</td></tr>\n",
       "<tr><td>Z Bounds</td><td>1.656e+01, 3.100e+02</td></tr>\n",
       "<tr><td>N Arrays</td><td>11</td></tr>\n",
       "</table>\n",
       "\n",
       "</td><td>\n",
       "<table style='width: 100%;'>\n",
       "<tr><th>Name</th><th>Field</th><th>Type</th><th>N Comp</th><th>Min</th><th>Max</th></tr>\n",
       "<tr><td>epsilon</td><td>Points</td><td>float32</td><td>1</td><td>1.000e-15</td><td>8.382e-01</td></tr>\n",
       "<tr><td>k</td><td>Points</td><td>float32</td><td>1</td><td>1.000e-15</td><td>1.916e+00</td></tr>\n",
       "<tr><td>nut</td><td>Points</td><td>float32</td><td>1</td><td>0.000e+00</td><td>2.881e+01</td></tr>\n",
       "<tr><td>p</td><td>Points</td><td>float32</td><td>1</td><td>-2.426e+00</td><td>1.498e+01</td></tr>\n",
       "<tr><td>U</td><td>Points</td><td>float32</td><td>3</td><td>-1.640e+00</td><td>3.657e+00</td></tr>\n",
       "<tr><td>epsilon</td><td>Cells</td><td>float32</td><td>1</td><td>1.000e-15</td><td>7.842e-01</td></tr>\n",
       "<tr><td>k</td><td>Cells</td><td>float32</td><td>1</td><td>1.000e-15</td><td>1.960e+00</td></tr>\n",
       "<tr><td>nut</td><td>Cells</td><td>float32</td><td>1</td><td>1.007e-16</td><td>2.848e+01</td></tr>\n",
       "<tr><td>p</td><td>Cells</td><td>float32</td><td>1</td><td>-3.115e+00</td><td>1.498e+01</td></tr>\n",
       "<tr><td>U</td><td>Cells</td><td>float32</td><td>3</td><td>-2.031e+00</td><td>4.200e+00</td></tr>\n",
       "<tr><td>TimeValue</td><td>Fields</td><td>float32</td><td>1</td><td>5.000e+00</td><td>5.000e+00</td></tr>\n",
       "</table>\n",
       "\n",
       "</td></tr> </table>"
      ],
      "text/plain": [
       "UnstructuredGrid (0x7fd74093b040)\n",
       "  N Cells:    45098316\n",
       "  N Points:   8759960\n",
       "  X Bounds:   9.800e+02, 1.980e+03\n",
       "  Y Bounds:   -2.570e+03, -1.670e+03\n",
       "  Z Bounds:   1.656e+01, 3.100e+02\n",
       "  N Arrays:   11"
      ]
     },
     "execution_count": 22,
     "metadata": {},
     "output_type": "execute_result"
    }
   ],
   "source": [
    "unstructured_grid"
   ]
  },
  {
   "cell_type": "code",
   "execution_count": 23,
   "metadata": {},
   "outputs": [],
   "source": [
    "unstructured_grid.save('unstructuredgrid_clipped.vtk')"
   ]
  },
  {
   "cell_type": "code",
   "execution_count": 34,
   "metadata": {},
   "outputs": [],
   "source": [
    "#filename = 'LSBU_100.vtu'\n",
    "#mesh = pv.read(filename)\n",
    "\n",
    "size = 50\n",
    "x = np.linspace(xmin, xmax, size)\n",
    "y = np.linspace(ymin, ymax, size)\n",
    "z = np.linspace(zmin, zmax, size)\n",
    "x, y, z = np.meshgrid(x, y, z)\n",
    "\n",
    "# Create the unstructured grid directly from the numpy arrays and plot\n",
    "grid_structured = vtki.StructuredGrid(x, y, z)\n",
    "#result = grid2.interpolate(grid, radius=5.)\n",
    "\n",
    "# Resample back to unstructured mesh\n",
    "#foo = mesh.copy()\n",
    "#foo.clear_arrays()\n",
    "#result2 = foo.sample(result)\n",
    "\n",
    "#p = pv.Plotter(notebook=False, shape=(1,3))\n",
    "#p.add_mesh(mesh, show_edges=0)\n",
    "#p.subplot(0,1)\n",
    "#p.add_mesh(result, show_edges=0)\n",
    "#p.subplot(0,2)\n",
    "#p.add_mesh(result2, show_edges=0)\n",
    "#p.link_views()\n",
    "#p.show()"
   ]
  },
  {
   "cell_type": "code",
   "execution_count": 35,
   "metadata": {},
   "outputs": [],
   "source": [
    "result_sample = grid_structured.sample(unstructured_grid)"
   ]
  },
  {
   "cell_type": "code",
   "execution_count": 26,
   "metadata": {},
   "outputs": [],
   "source": [
    "wind_speed=[0.5,2.5,5.,8.]\n",
    "def generate_list_with_repeating_number(number):\n",
    "    return [number] * 8\n",
    "list_ws=[]\n",
    "for i in wind_speed:\n",
    "    list_ws.append(generate_list_with_repeating_number(i))\n",
    "ws=np.array(list_ws).reshape(-1)\n",
    "ws   "
   ]
  },
  {
   "cell_type": "code",
   "execution_count": null,
   "metadata": {},
   "outputs": [],
   "source": [
    "#Avoid using interpolate for CFD dataset. Dont use this. Use sample instead.\n",
    "# result_interpolate= grid_structured.interpolate(unstructured_grid,strategy='mask_points')\n",
    "# result_interpolate.save('Utest_interpolate.vtk')"
   ]
  },
  {
   "cell_type": "code",
   "execution_count": 36,
   "metadata": {},
   "outputs": [
    {
     "data": {
      "text/plain": [
       "pyvista.core.pointset.UnstructuredGrid"
      ]
     },
     "execution_count": 36,
     "metadata": {},
     "output_type": "execute_result"
    }
   ],
   "source": [
    "type(unstructured_grid)"
   ]
  },
  {
   "cell_type": "code",
   "execution_count": 37,
   "metadata": {},
   "outputs": [
    {
     "data": {
      "text/html": [
       "<table style='width: 100%;'><tr><th>Header</th><th>Data Arrays</th></tr><tr><td>\n",
       "<table style='width: 100%;'>\n",
       "<tr><th>StructuredGrid</th><th>Information</th></tr>\n",
       "<tr><td>N Cells</td><td>117649</td></tr>\n",
       "<tr><td>N Points</td><td>125000</td></tr>\n",
       "<tr><td>X Bounds</td><td>9.800e+02, 1.980e+03</td></tr>\n",
       "<tr><td>Y Bounds</td><td>-2.570e+03, -1.670e+03</td></tr>\n",
       "<tr><td>Z Bounds</td><td>1.656e+01, 3.000e+02</td></tr>\n",
       "<tr><td>Dimensions</td><td>50, 50, 50</td></tr>\n",
       "<tr><td>N Arrays</td><td>8</td></tr>\n",
       "</table>\n",
       "\n",
       "</td><td>\n",
       "<table style='width: 100%;'>\n",
       "<tr><th>Name</th><th>Field</th><th>Type</th><th>N Comp</th><th>Min</th><th>Max</th></tr>\n",
       "<tr><td>U</td><td>Points</td><td>float32</td><td>3</td><td>-7.325e-01</td><td>8.573e-01</td></tr>\n",
       "<tr><td>epsilon</td><td>Points</td><td>float32</td><td>1</td><td>0.000e+00</td><td>1.656e-01</td></tr>\n",
       "<tr><td>k</td><td>Points</td><td>float32</td><td>1</td><td>0.000e+00</td><td>1.082e+00</td></tr>\n",
       "<tr><td>nut</td><td>Points</td><td>float32</td><td>1</td><td>0.000e+00</td><td>2.881e+01</td></tr>\n",
       "<tr><td>p</td><td>Points</td><td>float32</td><td>1</td><td>-4.298e-01</td><td>3.120e+00</td></tr>\n",
       "<tr><td>vtkValidPointMask</td><td>Points</td><td>int8</td><td>1</td><td>0.000e+00</td><td>1.000e+00</td></tr>\n",
       "<tr><td>vtkGhostType</td><td>Points</td><td>uint8</td><td>1</td><td>0.000e+00</td><td>2.000e+00</td></tr>\n",
       "<tr><td>vtkGhostType</td><td>Cells</td><td>uint8</td><td>1</td><td>0.000e+00</td><td>2.000e+00</td></tr>\n",
       "</table>\n",
       "\n",
       "</td></tr> </table>"
      ],
      "text/plain": [
       "StructuredGrid (0x7fd74093b160)\n",
       "  N Cells:      117649\n",
       "  N Points:     125000\n",
       "  X Bounds:     9.800e+02, 1.980e+03\n",
       "  Y Bounds:     -2.570e+03, -1.670e+03\n",
       "  Z Bounds:     1.656e+01, 3.000e+02\n",
       "  Dimensions:   50, 50, 50\n",
       "  N Arrays:     8"
      ]
     },
     "execution_count": 37,
     "metadata": {},
     "output_type": "execute_result"
    }
   ],
   "source": [
    "result_sample"
   ]
  },
  {
   "cell_type": "code",
   "execution_count": 38,
   "metadata": {},
   "outputs": [],
   "source": [
    "result_sample.save('Utest_sample.vtk')"
   ]
  },
  {
   "cell_type": "code",
   "execution_count": null,
   "metadata": {},
   "outputs": [],
   "source": [
    "# points=.points"
   ]
  },
  {
   "cell_type": "code",
   "execution_count": null,
   "metadata": {},
   "outputs": [],
   "source": [
    "# points.shape"
   ]
  },
  {
   "cell_type": "code",
   "execution_count": 39,
   "metadata": {},
   "outputs": [
    {
     "name": "stdout",
     "output_type": "stream",
     "text": [
      "west\n",
      "south\n",
      "north\n",
      "east\n",
      "top\n",
      "terrain6\n"
     ]
    }
   ],
   "source": [
    "for name in boundarygrid.keys():\n",
    "    print(name)\n"
   ]
  },
  {
   "cell_type": "code",
   "execution_count": 40,
   "metadata": {},
   "outputs": [],
   "source": [
    "boundarygrid_terrain6=boundarygrid[\"terrain6\"]"
   ]
  },
  {
   "cell_type": "code",
   "execution_count": 41,
   "metadata": {},
   "outputs": [
    {
     "data": {
      "text/html": [
       "<table style='width: 100%;'><tr><th>Header</th><th>Data Arrays</th></tr><tr><td>\n",
       "<table style='width: 100%;'>\n",
       "<tr><th>PolyData</th><th>Information</th></tr>\n",
       "<tr><td>N Cells</td><td>890094</td></tr>\n",
       "<tr><td>N Points</td><td>912193</td></tr>\n",
       "<tr><td>N Strips</td><td>0</td></tr>\n",
       "<tr><td>X Bounds</td><td>9.800e+02, 1.980e+03</td></tr>\n",
       "<tr><td>Y Bounds</td><td>-2.570e+03, -1.670e+03</td></tr>\n",
       "<tr><td>Z Bounds</td><td>1.656e+01, 1.485e+02</td></tr>\n",
       "<tr><td>N Arrays</td><td>11</td></tr>\n",
       "</table>\n",
       "\n",
       "</td><td>\n",
       "<table style='width: 100%;'>\n",
       "<tr><th>Name</th><th>Field</th><th>Type</th><th>N Comp</th><th>Min</th><th>Max</th></tr>\n",
       "<tr><td>epsilon</td><td>Points</td><td>float32</td><td>1</td><td>1.000e-15</td><td>9.712e-01</td></tr>\n",
       "<tr><td>k</td><td>Points</td><td>float32</td><td>1</td><td>1.000e-15</td><td>1.219e+00</td></tr>\n",
       "<tr><td>nut</td><td>Points</td><td>float32</td><td>1</td><td>0.000e+00</td><td>2.854e-03</td></tr>\n",
       "<tr><td>p</td><td>Points</td><td>float32</td><td>1</td><td>-2.426e+00</td><td>1.498e+01</td></tr>\n",
       "<tr><td>U</td><td>Points</td><td>float32</td><td>3</td><td>0.000e+00</td><td>0.000e+00</td></tr>\n",
       "<tr><td>epsilon</td><td>Cells</td><td>float32</td><td>1</td><td>1.000e-15</td><td>1.090e+00</td></tr>\n",
       "<tr><td>k</td><td>Cells</td><td>float32</td><td>1</td><td>1.000e-15</td><td>1.396e+00</td></tr>\n",
       "<tr><td>nut</td><td>Cells</td><td>float32</td><td>1</td><td>0.000e+00</td><td>3.241e-03</td></tr>\n",
       "<tr><td>p</td><td>Cells</td><td>float32</td><td>1</td><td>-3.115e+00</td><td>1.498e+01</td></tr>\n",
       "<tr><td>U</td><td>Cells</td><td>float32</td><td>3</td><td>0.000e+00</td><td>0.000e+00</td></tr>\n",
       "<tr><td>TimeValue</td><td>Fields</td><td>float32</td><td>1</td><td>5.000e+00</td><td>5.000e+00</td></tr>\n",
       "</table>\n",
       "\n",
       "</td></tr> </table>"
      ],
      "text/plain": [
       "PolyData (0x7fd7408340a0)\n",
       "  N Cells:    890094\n",
       "  N Points:   912193\n",
       "  N Strips:   0\n",
       "  X Bounds:   9.800e+02, 1.980e+03\n",
       "  Y Bounds:   -2.570e+03, -1.670e+03\n",
       "  Z Bounds:   1.656e+01, 1.485e+02\n",
       "  N Arrays:   11"
      ]
     },
     "execution_count": 41,
     "metadata": {},
     "output_type": "execute_result"
    }
   ],
   "source": [
    "boundarygrid_terrain6"
   ]
  },
  {
   "cell_type": "markdown",
   "metadata": {},
   "source": [
    "result_sample['k'].ravel(order='F')"
   ]
  },
  {
   "cell_type": "markdown",
   "metadata": {},
   "source": [
    "charname=['k','U']\n",
    "my_dict = {}\n",
    "for i in charname:  \n",
    "    my_dict[i] = list([]) "
   ]
  },
  {
   "cell_type": "markdown",
   "metadata": {},
   "source": [
    "type(my_dict['k'])"
   ]
  },
  {
   "cell_type": "markdown",
   "metadata": {},
   "source": [
    "my_dict['k'].append(10)\n",
    "my_dict['k'].append(20)\n",
    "\n",
    "my_dict['k']=np.stack(my_dict['k'],axis=0)"
   ]
  },
  {
   "cell_type": "markdown",
   "metadata": {},
   "source": [
    "type(my_dict['k'])"
   ]
  },
  {
   "cell_type": "code",
   "execution_count": null,
   "metadata": {},
   "outputs": [],
   "source": [
    "# grid.cell_data.set_vectors(tmp3[:,i].reshape(-1, 3, order='F'),\"AE_Rey_Vel_\"+str(int(Re))+\"_\"+str(i))"
   ]
  },
  {
   "cell_type": "code",
   "execution_count": null,
   "metadata": {},
   "outputs": [],
   "source": [
    "# Utemp=result_sample['U'].ravel(order='F')"
   ]
  },
  {
   "cell_type": "code",
   "execution_count": null,
   "metadata": {},
   "outputs": [],
   "source": []
  },
  {
   "cell_type": "code",
   "execution_count": 42,
   "metadata": {},
   "outputs": [
    {
     "data": {
      "text/plain": [
       "['/media/mandart/D/AI4Hydrop_Prague/Prague_All_simulations/Prague_0p5_mps_Easterly/VTK/Prague_0p5_mps_Easterly_5000.vtm',\n",
       " '/media/mandart/D/AI4Hydrop_Prague/Prague_All_simulations/Prague_0p5_mps_NorthEast/VTK/Prague_0p5_mps_NorthEast_2716.vtm',\n",
       " '/media/mandart/D/AI4Hydrop_Prague/Prague_All_simulations/Prague_0p5_mps_NorthWest/VTK/Prague_0p5_mps_NorthWest_2702.vtm',\n",
       " '/media/mandart/D/AI4Hydrop_Prague/Prague_All_simulations/Prague_0p5_mps_Northerly/VTK/Prague_0p5_mps_Northerly_3209.vtm',\n",
       " '/media/mandart/D/AI4Hydrop_Prague/Prague_All_simulations/Prague_0p5_mps_SouthEasterlyActually/VTK/Prague_0p5_mps_SouthEasterlyActually_2815.vtm',\n",
       " '/media/mandart/D/AI4Hydrop_Prague/Prague_All_simulations/Prague_0p5_mps_SouthWest/VTK/Prague_0p5_mps_SouthWest_2882.vtm',\n",
       " '/media/mandart/D/AI4Hydrop_Prague/Prague_All_simulations/Prague_0p5_mps_Southerly/VTK/Prague_0p5_mps_Southerly_3998.vtm',\n",
       " '/media/mandart/D/AI4Hydrop_Prague/Prague_All_simulations/Prague_0p5_mps_Westerly/VTK/Prague_0p5_mps_Westerly_5000.vtm']"
      ]
     },
     "execution_count": 42,
     "metadata": {},
     "output_type": "execute_result"
    }
   ],
   "source": [
    "res[:8]"
   ]
  },
  {
   "cell_type": "code",
   "execution_count": 43,
   "metadata": {},
   "outputs": [],
   "source": [
    "def generate_data(res,grid_structured,charname=['k','U']):  \n",
    "    my_dict = {}\n",
    "    for i in charname:\n",
    "        my_dict[i] = list([])    \n",
    "           \n",
    "    # Ut11=[]\n",
    "    for filename in res:\n",
    "        print(filename) \n",
    "        #loop on files \n",
    "        # Utemp1=[]       \n",
    "        \n",
    "        # grid =  #Read data in a file PolyData           \n",
    "                \n",
    "        unstructured_grid=vtki.MultiBlock(filename)[\"internal\"]\n",
    "        \n",
    "        unstructured_grid=unstructured_grid.clip_box([xmin, xmax, ymin, ymax, zmin, zmax],invert=False)\n",
    "\n",
    "\n",
    "        print('creating TRAINING data for filename',filename)\n",
    "        #print(charname,type(charname),type('k'))\n",
    "        \n",
    "        \n",
    "        result_sample1 = grid_structured.sample(unstructured_grid)\n",
    "        \n",
    "        for charnames in charname:  #charname\n",
    "             \n",
    "            Utemp1=result_sample1[charnames].ravel(order='F') #Flattened pyvista array 1D for TKE field using ravel.         \n",
    "                          \n",
    "            my_dict[charnames].append(np.array(Utemp1)) #convert pyvista to numpy array and append to the list charname in the dictionary. So dictionary has keys with list of arrays.\n",
    "            print(charnames,type(Utemp1),Utemp1.shape,type(my_dict[charnames])) #Utemp1.shape\n",
    "            del Utemp1\n",
    "            #Ut11.append(Utemp1)\n",
    "        del result_sample1\n",
    "    #LOOP OVER TIME STEP ENDS HERE. \n",
    "    # At the end of loop - We have a \"list of arrays\". The length of list= total number of arrays = \"num_times\", \n",
    "    # and each of these array is of size num_grid_size. \n",
    "\n",
    "    #CREATE 2D ARRAY FROM ABOVE LIST OF ARRAYS.\n",
    "    #Below we use numpy stack, to combine list of arrays \n",
    "    #in such a way that each array in the list is added as new feature (as new column).\n",
    "    \n",
    "    #print('lenUt11',len(Ut11))\n",
    "        \n",
    "        # U1=np.stack(Ut11,axis=1)   #it joins arrays from list of arrays.Dimensions along column a new axis.\n",
    "       \n",
    "    #for charname in charname:\n",
    "        #print(type(my_dict[charname])) \n",
    "        #my_dict[charname]= np.stack(my_dict[charname],axis=1) #All arrays from list gets stacked as new column at axis=1. \n",
    "        #print(type(my_dict[charname]))    \n",
    "        #U1=np.stack(my_dict[charname],axis=1)\n",
    "    \n",
    "    return my_dict"
   ]
  },
  {
   "cell_type": "markdown",
   "metadata": {},
   "source": [
    "# Load all building data"
   ]
  },
  {
   "cell_type": "code",
   "execution_count": 132,
   "metadata": {},
   "outputs": [
    {
     "name": "stdout",
     "output_type": "stream",
     "text": [
      "/media/mandart/D/AI4Hydrop_Prague/Prague_All_simulations/Prague_0p5_mps_Easterly/VTK/Prague_0p5_mps_Easterly_5000.vtm\n",
      "creating TRAINING data for filename /media/mandart/D/AI4Hydrop_Prague/Prague_All_simulations/Prague_0p5_mps_Easterly/VTK/Prague_0p5_mps_Easterly_5000.vtm\n",
      "k <class 'pyvista.core.pyvista_ndarray.pyvista_ndarray'> (125000,) <class 'list'>\n",
      "U <class 'pyvista.core.pyvista_ndarray.pyvista_ndarray'> (375000,) <class 'list'>\n",
      "/media/mandart/D/AI4Hydrop_Prague/Prague_All_simulations/Prague_0p5_mps_NorthEast/VTK/Prague_0p5_mps_NorthEast_2716.vtm\n",
      "creating TRAINING data for filename /media/mandart/D/AI4Hydrop_Prague/Prague_All_simulations/Prague_0p5_mps_NorthEast/VTK/Prague_0p5_mps_NorthEast_2716.vtm\n",
      "k <class 'pyvista.core.pyvista_ndarray.pyvista_ndarray'> (125000,) <class 'list'>\n",
      "U <class 'pyvista.core.pyvista_ndarray.pyvista_ndarray'> (375000,) <class 'list'>\n",
      "/media/mandart/D/AI4Hydrop_Prague/Prague_All_simulations/Prague_0p5_mps_NorthWest/VTK/Prague_0p5_mps_NorthWest_2702.vtm\n",
      "creating TRAINING data for filename /media/mandart/D/AI4Hydrop_Prague/Prague_All_simulations/Prague_0p5_mps_NorthWest/VTK/Prague_0p5_mps_NorthWest_2702.vtm\n",
      "k <class 'pyvista.core.pyvista_ndarray.pyvista_ndarray'> (125000,) <class 'list'>\n",
      "U <class 'pyvista.core.pyvista_ndarray.pyvista_ndarray'> (375000,) <class 'list'>\n",
      "/media/mandart/D/AI4Hydrop_Prague/Prague_All_simulations/Prague_0p5_mps_Northerly/VTK/Prague_0p5_mps_Northerly_3209.vtm\n",
      "creating TRAINING data for filename /media/mandart/D/AI4Hydrop_Prague/Prague_All_simulations/Prague_0p5_mps_Northerly/VTK/Prague_0p5_mps_Northerly_3209.vtm\n",
      "k <class 'pyvista.core.pyvista_ndarray.pyvista_ndarray'> (125000,) <class 'list'>\n",
      "U <class 'pyvista.core.pyvista_ndarray.pyvista_ndarray'> (375000,) <class 'list'>\n",
      "/media/mandart/D/AI4Hydrop_Prague/Prague_All_simulations/Prague_0p5_mps_SouthEasterlyActually/VTK/Prague_0p5_mps_SouthEasterlyActually_2815.vtm\n",
      "creating TRAINING data for filename /media/mandart/D/AI4Hydrop_Prague/Prague_All_simulations/Prague_0p5_mps_SouthEasterlyActually/VTK/Prague_0p5_mps_SouthEasterlyActually_2815.vtm\n",
      "k <class 'pyvista.core.pyvista_ndarray.pyvista_ndarray'> (125000,) <class 'list'>\n",
      "U <class 'pyvista.core.pyvista_ndarray.pyvista_ndarray'> (375000,) <class 'list'>\n",
      "/media/mandart/D/AI4Hydrop_Prague/Prague_All_simulations/Prague_0p5_mps_SouthWest/VTK/Prague_0p5_mps_SouthWest_2882.vtm\n",
      "creating TRAINING data for filename /media/mandart/D/AI4Hydrop_Prague/Prague_All_simulations/Prague_0p5_mps_SouthWest/VTK/Prague_0p5_mps_SouthWest_2882.vtm\n",
      "k <class 'pyvista.core.pyvista_ndarray.pyvista_ndarray'> (125000,) <class 'list'>\n",
      "U <class 'pyvista.core.pyvista_ndarray.pyvista_ndarray'> (375000,) <class 'list'>\n",
      "/media/mandart/D/AI4Hydrop_Prague/Prague_All_simulations/Prague_0p5_mps_Southerly/VTK/Prague_0p5_mps_Southerly_3998.vtm\n",
      "creating TRAINING data for filename /media/mandart/D/AI4Hydrop_Prague/Prague_All_simulations/Prague_0p5_mps_Southerly/VTK/Prague_0p5_mps_Southerly_3998.vtm\n",
      "k <class 'pyvista.core.pyvista_ndarray.pyvista_ndarray'> (125000,) <class 'list'>\n",
      "U <class 'pyvista.core.pyvista_ndarray.pyvista_ndarray'> (375000,) <class 'list'>\n",
      "/media/mandart/D/AI4Hydrop_Prague/Prague_All_simulations/Prague_0p5_mps_Westerly/VTK/Prague_0p5_mps_Westerly_5000.vtm\n",
      "creating TRAINING data for filename /media/mandart/D/AI4Hydrop_Prague/Prague_All_simulations/Prague_0p5_mps_Westerly/VTK/Prague_0p5_mps_Westerly_5000.vtm\n",
      "k <class 'pyvista.core.pyvista_ndarray.pyvista_ndarray'> (125000,) <class 'list'>\n",
      "U <class 'pyvista.core.pyvista_ndarray.pyvista_ndarray'> (375000,) <class 'list'>\n",
      "/media/mandart/D/AI4Hydrop_Prague/Prague_All_simulations/Prague_2p5_mps_Easterly/VTK/Prague_2p5_mps_Easterly_3975.vtm\n",
      "creating TRAINING data for filename /media/mandart/D/AI4Hydrop_Prague/Prague_All_simulations/Prague_2p5_mps_Easterly/VTK/Prague_2p5_mps_Easterly_3975.vtm\n",
      "k <class 'pyvista.core.pyvista_ndarray.pyvista_ndarray'> (125000,) <class 'list'>\n",
      "U <class 'pyvista.core.pyvista_ndarray.pyvista_ndarray'> (375000,) <class 'list'>\n",
      "/media/mandart/D/AI4Hydrop_Prague/Prague_All_simulations/Prague_2p5_mps_NorthEast/VTK/Prague_2p5_mps_NorthEast_1490.vtm\n",
      "creating TRAINING data for filename /media/mandart/D/AI4Hydrop_Prague/Prague_All_simulations/Prague_2p5_mps_NorthEast/VTK/Prague_2p5_mps_NorthEast_1490.vtm\n",
      "k <class 'pyvista.core.pyvista_ndarray.pyvista_ndarray'> (125000,) <class 'list'>\n",
      "U <class 'pyvista.core.pyvista_ndarray.pyvista_ndarray'> (375000,) <class 'list'>\n",
      "/media/mandart/D/AI4Hydrop_Prague/Prague_All_simulations/Prague_2p5_mps_NorthWest/VTK/Prague_2p5_mps_NorthWest_2043.vtm\n",
      "creating TRAINING data for filename /media/mandart/D/AI4Hydrop_Prague/Prague_All_simulations/Prague_2p5_mps_NorthWest/VTK/Prague_2p5_mps_NorthWest_2043.vtm\n",
      "k <class 'pyvista.core.pyvista_ndarray.pyvista_ndarray'> (125000,) <class 'list'>\n",
      "U <class 'pyvista.core.pyvista_ndarray.pyvista_ndarray'> (375000,) <class 'list'>\n",
      "/media/mandart/D/AI4Hydrop_Prague/Prague_All_simulations/Prague_2p5_mps_Northerly/VTK/Prague_2p5_mps_Northerly_3042.vtm\n",
      "creating TRAINING data for filename /media/mandart/D/AI4Hydrop_Prague/Prague_All_simulations/Prague_2p5_mps_Northerly/VTK/Prague_2p5_mps_Northerly_3042.vtm\n",
      "k <class 'pyvista.core.pyvista_ndarray.pyvista_ndarray'> (125000,) <class 'list'>\n",
      "U <class 'pyvista.core.pyvista_ndarray.pyvista_ndarray'> (375000,) <class 'list'>\n",
      "/media/mandart/D/AI4Hydrop_Prague/Prague_All_simulations/Prague_2p5_mps_SouthEast/VTK/Prague_2p5_mps_SouthEast_1615.vtm\n",
      "creating TRAINING data for filename /media/mandart/D/AI4Hydrop_Prague/Prague_All_simulations/Prague_2p5_mps_SouthEast/VTK/Prague_2p5_mps_SouthEast_1615.vtm\n",
      "k <class 'pyvista.core.pyvista_ndarray.pyvista_ndarray'> (125000,) <class 'list'>\n",
      "U <class 'pyvista.core.pyvista_ndarray.pyvista_ndarray'> (375000,) <class 'list'>\n",
      "/media/mandart/D/AI4Hydrop_Prague/Prague_All_simulations/Prague_2p5_mps_SouthWest/VTK/Prague_2p5_mps_SouthWest_2463.vtm\n",
      "creating TRAINING data for filename /media/mandart/D/AI4Hydrop_Prague/Prague_All_simulations/Prague_2p5_mps_SouthWest/VTK/Prague_2p5_mps_SouthWest_2463.vtm\n",
      "k <class 'pyvista.core.pyvista_ndarray.pyvista_ndarray'> (125000,) <class 'list'>\n",
      "U <class 'pyvista.core.pyvista_ndarray.pyvista_ndarray'> (375000,) <class 'list'>\n",
      "/media/mandart/D/AI4Hydrop_Prague/Prague_All_simulations/Prague_2p5_mps_Southerly/VTK/Prague_2p5_mps_Southerly_2642.vtm\n",
      "creating TRAINING data for filename /media/mandart/D/AI4Hydrop_Prague/Prague_All_simulations/Prague_2p5_mps_Southerly/VTK/Prague_2p5_mps_Southerly_2642.vtm\n",
      "k <class 'pyvista.core.pyvista_ndarray.pyvista_ndarray'> (125000,) <class 'list'>\n",
      "U <class 'pyvista.core.pyvista_ndarray.pyvista_ndarray'> (375000,) <class 'list'>\n",
      "/media/mandart/D/AI4Hydrop_Prague/Prague_All_simulations/Prague_2p5_mps_Westerly/VTK/Prague_2p5_mps_Westerly_3230.vtm\n",
      "creating TRAINING data for filename /media/mandart/D/AI4Hydrop_Prague/Prague_All_simulations/Prague_2p5_mps_Westerly/VTK/Prague_2p5_mps_Westerly_3230.vtm\n",
      "k <class 'pyvista.core.pyvista_ndarray.pyvista_ndarray'> (125000,) <class 'list'>\n",
      "U <class 'pyvista.core.pyvista_ndarray.pyvista_ndarray'> (375000,) <class 'list'>\n",
      "/media/mandart/D/AI4Hydrop_Prague/Prague_All_simulations/Prague_5_mps_Easterly/VTK/Prague_5_mps_Easterly_2948.vtm\n",
      "creating TRAINING data for filename /media/mandart/D/AI4Hydrop_Prague/Prague_All_simulations/Prague_5_mps_Easterly/VTK/Prague_5_mps_Easterly_2948.vtm\n",
      "k <class 'pyvista.core.pyvista_ndarray.pyvista_ndarray'> (125000,) <class 'list'>\n",
      "U <class 'pyvista.core.pyvista_ndarray.pyvista_ndarray'> (375000,) <class 'list'>\n",
      "/media/mandart/D/AI4Hydrop_Prague/Prague_All_simulations/Prague_5_mps_NorthEast/VTK/Prague_5_mps_NorthEast_1327.vtm\n",
      "creating TRAINING data for filename /media/mandart/D/AI4Hydrop_Prague/Prague_All_simulations/Prague_5_mps_NorthEast/VTK/Prague_5_mps_NorthEast_1327.vtm\n",
      "k <class 'pyvista.core.pyvista_ndarray.pyvista_ndarray'> (125000,) <class 'list'>\n",
      "U <class 'pyvista.core.pyvista_ndarray.pyvista_ndarray'> (375000,) <class 'list'>\n",
      "/media/mandart/D/AI4Hydrop_Prague/Prague_All_simulations/Prague_5_mps_NorthWest/VTK/Prague_5_mps_NorthWest_1937.vtm\n",
      "creating TRAINING data for filename /media/mandart/D/AI4Hydrop_Prague/Prague_All_simulations/Prague_5_mps_NorthWest/VTK/Prague_5_mps_NorthWest_1937.vtm\n",
      "k <class 'pyvista.core.pyvista_ndarray.pyvista_ndarray'> (125000,) <class 'list'>\n",
      "U <class 'pyvista.core.pyvista_ndarray.pyvista_ndarray'> (375000,) <class 'list'>\n",
      "/media/mandart/D/AI4Hydrop_Prague/Prague_All_simulations/Prague_5_mps_Northerly/VTK/Prague_5_mps_Northerly_2108.vtm\n",
      "creating TRAINING data for filename /media/mandart/D/AI4Hydrop_Prague/Prague_All_simulations/Prague_5_mps_Northerly/VTK/Prague_5_mps_Northerly_2108.vtm\n",
      "k <class 'pyvista.core.pyvista_ndarray.pyvista_ndarray'> (125000,) <class 'list'>\n",
      "U <class 'pyvista.core.pyvista_ndarray.pyvista_ndarray'> (375000,) <class 'list'>\n",
      "/media/mandart/D/AI4Hydrop_Prague/Prague_All_simulations/Prague_5_mps_SouthEast/VTK/Prague_5_mps_SouthEast_1401.vtm\n",
      "creating TRAINING data for filename /media/mandart/D/AI4Hydrop_Prague/Prague_All_simulations/Prague_5_mps_SouthEast/VTK/Prague_5_mps_SouthEast_1401.vtm\n",
      "k <class 'pyvista.core.pyvista_ndarray.pyvista_ndarray'> (125000,) <class 'list'>\n",
      "U <class 'pyvista.core.pyvista_ndarray.pyvista_ndarray'> (375000,) <class 'list'>\n",
      "/media/mandart/D/AI4Hydrop_Prague/Prague_All_simulations/Prague_5_mps_SouthWest/VTK/Prague_5_mps_SouthWest_1584.vtm\n",
      "creating TRAINING data for filename /media/mandart/D/AI4Hydrop_Prague/Prague_All_simulations/Prague_5_mps_SouthWest/VTK/Prague_5_mps_SouthWest_1584.vtm\n",
      "k <class 'pyvista.core.pyvista_ndarray.pyvista_ndarray'> (125000,) <class 'list'>\n",
      "U <class 'pyvista.core.pyvista_ndarray.pyvista_ndarray'> (375000,) <class 'list'>\n",
      "/media/mandart/D/AI4Hydrop_Prague/Prague_All_simulations/Prague_5_mps_Southerly/VTK/Prague_5_mps_Southerly_1691.vtm\n",
      "creating TRAINING data for filename /media/mandart/D/AI4Hydrop_Prague/Prague_All_simulations/Prague_5_mps_Southerly/VTK/Prague_5_mps_Southerly_1691.vtm\n",
      "k <class 'pyvista.core.pyvista_ndarray.pyvista_ndarray'> (125000,) <class 'list'>\n",
      "U <class 'pyvista.core.pyvista_ndarray.pyvista_ndarray'> (375000,) <class 'list'>\n",
      "/media/mandart/D/AI4Hydrop_Prague/Prague_All_simulations/Prague_5_mps_Westerly/VTK/Prague_5_mps_Westerly_2533.vtm\n",
      "creating TRAINING data for filename /media/mandart/D/AI4Hydrop_Prague/Prague_All_simulations/Prague_5_mps_Westerly/VTK/Prague_5_mps_Westerly_2533.vtm\n",
      "k <class 'pyvista.core.pyvista_ndarray.pyvista_ndarray'> (125000,) <class 'list'>\n",
      "U <class 'pyvista.core.pyvista_ndarray.pyvista_ndarray'> (375000,) <class 'list'>\n",
      "/media/mandart/D/AI4Hydrop_Prague/Prague_All_simulations/Prague_8_mps_Easterly/VTK/Prague_8_mps_Easterly_1600.vtm\n",
      "creating TRAINING data for filename /media/mandart/D/AI4Hydrop_Prague/Prague_All_simulations/Prague_8_mps_Easterly/VTK/Prague_8_mps_Easterly_1600.vtm\n",
      "k <class 'pyvista.core.pyvista_ndarray.pyvista_ndarray'> (125000,) <class 'list'>\n",
      "U <class 'pyvista.core.pyvista_ndarray.pyvista_ndarray'> (375000,) <class 'list'>\n",
      "/media/mandart/D/AI4Hydrop_Prague/Prague_All_simulations/Prague_8_mps_NorthEast/VTK/Prague_8_mps_NorthEast_3312.vtm\n",
      "creating TRAINING data for filename /media/mandart/D/AI4Hydrop_Prague/Prague_All_simulations/Prague_8_mps_NorthEast/VTK/Prague_8_mps_NorthEast_3312.vtm\n",
      "k <class 'pyvista.core.pyvista_ndarray.pyvista_ndarray'> (125000,) <class 'list'>\n",
      "U <class 'pyvista.core.pyvista_ndarray.pyvista_ndarray'> (375000,) <class 'list'>\n",
      "/media/mandart/D/AI4Hydrop_Prague/Prague_All_simulations/Prague_8_mps_NorthWest/VTK/Prague_8_mps_NorthWest_3854.vtm\n",
      "creating TRAINING data for filename /media/mandart/D/AI4Hydrop_Prague/Prague_All_simulations/Prague_8_mps_NorthWest/VTK/Prague_8_mps_NorthWest_3854.vtm\n",
      "k <class 'pyvista.core.pyvista_ndarray.pyvista_ndarray'> (125000,) <class 'list'>\n",
      "U <class 'pyvista.core.pyvista_ndarray.pyvista_ndarray'> (375000,) <class 'list'>\n",
      "/media/mandart/D/AI4Hydrop_Prague/Prague_All_simulations/Prague_8_mps_Northerly/VTK/Prague_8_mps_Northerly_3008.vtm\n",
      "creating TRAINING data for filename /media/mandart/D/AI4Hydrop_Prague/Prague_All_simulations/Prague_8_mps_Northerly/VTK/Prague_8_mps_Northerly_3008.vtm\n",
      "k <class 'pyvista.core.pyvista_ndarray.pyvista_ndarray'> (125000,) <class 'list'>\n",
      "U <class 'pyvista.core.pyvista_ndarray.pyvista_ndarray'> (375000,) <class 'list'>\n",
      "/media/mandart/D/AI4Hydrop_Prague/Prague_All_simulations/Prague_8_mps_SouthEast/VTK/Prague_8_mps_SouthEast_2307.vtm\n",
      "creating TRAINING data for filename /media/mandart/D/AI4Hydrop_Prague/Prague_All_simulations/Prague_8_mps_SouthEast/VTK/Prague_8_mps_SouthEast_2307.vtm\n",
      "k <class 'pyvista.core.pyvista_ndarray.pyvista_ndarray'> (125000,) <class 'list'>\n",
      "U <class 'pyvista.core.pyvista_ndarray.pyvista_ndarray'> (375000,) <class 'list'>\n",
      "/media/mandart/D/AI4Hydrop_Prague/Prague_All_simulations/Prague_8_mps_SouthWest/VTK/Prague_8_mps_SouthWest_2619.vtm\n",
      "creating TRAINING data for filename /media/mandart/D/AI4Hydrop_Prague/Prague_All_simulations/Prague_8_mps_SouthWest/VTK/Prague_8_mps_SouthWest_2619.vtm\n",
      "k <class 'pyvista.core.pyvista_ndarray.pyvista_ndarray'> (125000,) <class 'list'>\n",
      "U <class 'pyvista.core.pyvista_ndarray.pyvista_ndarray'> (375000,) <class 'list'>\n",
      "/media/mandart/D/AI4Hydrop_Prague/Prague_All_simulations/Prague_8_mps_Southerly/VTK/Prague_8_mps_Southerly_1980.vtm\n",
      "creating TRAINING data for filename /media/mandart/D/AI4Hydrop_Prague/Prague_All_simulations/Prague_8_mps_Southerly/VTK/Prague_8_mps_Southerly_1980.vtm\n",
      "k <class 'pyvista.core.pyvista_ndarray.pyvista_ndarray'> (125000,) <class 'list'>\n",
      "U <class 'pyvista.core.pyvista_ndarray.pyvista_ndarray'> (375000,) <class 'list'>\n",
      "/media/mandart/D/AI4Hydrop_Prague/Prague_All_simulations/Prague_8_mps_Westerly/VTK/Prague_8_mps_Westerly_3124.vtm\n",
      "creating TRAINING data for filename /media/mandart/D/AI4Hydrop_Prague/Prague_All_simulations/Prague_8_mps_Westerly/VTK/Prague_8_mps_Westerly_3124.vtm\n",
      "k <class 'pyvista.core.pyvista_ndarray.pyvista_ndarray'> (125000,) <class 'list'>\n",
      "U <class 'pyvista.core.pyvista_ndarray.pyvista_ndarray'> (375000,) <class 'list'>\n"
     ]
    }
   ],
   "source": [
    "all_prague_data_structued_dict=generate_data(res,grid_structured) \n",
    "Uall=np.stack(all_prague_data_structued_dict['U'])\n",
    "kall=np.stack(all_prague_data_structued_dict['k'])\n",
    "np.save('kall_building_prague.npy',kall)\n",
    "np.save('Uall_building_prague.npy',Uall)"
   ]
  },
  {
   "cell_type": "code",
   "execution_count": null,
   "metadata": {},
   "outputs": [],
   "source": [
    "Uall.shape"
   ]
  },
  {
   "cell_type": "code",
   "execution_count": null,
   "metadata": {},
   "outputs": [],
   "source": [
    "kall.shape"
   ]
  },
  {
   "cell_type": "code",
   "execution_count": 44,
   "metadata": {},
   "outputs": [
    {
     "name": "stdout",
     "output_type": "stream",
     "text": [
      "/media/mandart/D/AI4Hydrop_Prague/Prague_All_simulations/Prague_0p5_mps_Easterly/VTK/Prague_0p5_mps_Easterly_5000.vtm\n",
      "creating TRAINING data for filename /media/mandart/D/AI4Hydrop_Prague/Prague_All_simulations/Prague_0p5_mps_Easterly/VTK/Prague_0p5_mps_Easterly_5000.vtm\n",
      "k <class 'pyvista.core.pyvista_ndarray.pyvista_ndarray'> (125000,) <class 'list'>\n",
      "U <class 'pyvista.core.pyvista_ndarray.pyvista_ndarray'> (375000,) <class 'list'>\n",
      "/media/mandart/D/AI4Hydrop_Prague/Prague_All_simulations/Prague_0p5_mps_NorthEast/VTK/Prague_0p5_mps_NorthEast_2716.vtm\n",
      "creating TRAINING data for filename /media/mandart/D/AI4Hydrop_Prague/Prague_All_simulations/Prague_0p5_mps_NorthEast/VTK/Prague_0p5_mps_NorthEast_2716.vtm\n",
      "k <class 'pyvista.core.pyvista_ndarray.pyvista_ndarray'> (125000,) <class 'list'>\n",
      "U <class 'pyvista.core.pyvista_ndarray.pyvista_ndarray'> (375000,) <class 'list'>\n",
      "/media/mandart/D/AI4Hydrop_Prague/Prague_All_simulations/Prague_0p5_mps_NorthWest/VTK/Prague_0p5_mps_NorthWest_2702.vtm\n",
      "creating TRAINING data for filename /media/mandart/D/AI4Hydrop_Prague/Prague_All_simulations/Prague_0p5_mps_NorthWest/VTK/Prague_0p5_mps_NorthWest_2702.vtm\n",
      "k <class 'pyvista.core.pyvista_ndarray.pyvista_ndarray'> (125000,) <class 'list'>\n",
      "U <class 'pyvista.core.pyvista_ndarray.pyvista_ndarray'> (375000,) <class 'list'>\n",
      "/media/mandart/D/AI4Hydrop_Prague/Prague_All_simulations/Prague_0p5_mps_Northerly/VTK/Prague_0p5_mps_Northerly_3209.vtm\n",
      "creating TRAINING data for filename /media/mandart/D/AI4Hydrop_Prague/Prague_All_simulations/Prague_0p5_mps_Northerly/VTK/Prague_0p5_mps_Northerly_3209.vtm\n",
      "k <class 'pyvista.core.pyvista_ndarray.pyvista_ndarray'> (125000,) <class 'list'>\n",
      "U <class 'pyvista.core.pyvista_ndarray.pyvista_ndarray'> (375000,) <class 'list'>\n",
      "/media/mandart/D/AI4Hydrop_Prague/Prague_All_simulations/Prague_0p5_mps_SouthEasterlyActually/VTK/Prague_0p5_mps_SouthEasterlyActually_2815.vtm\n",
      "creating TRAINING data for filename /media/mandart/D/AI4Hydrop_Prague/Prague_All_simulations/Prague_0p5_mps_SouthEasterlyActually/VTK/Prague_0p5_mps_SouthEasterlyActually_2815.vtm\n",
      "k <class 'pyvista.core.pyvista_ndarray.pyvista_ndarray'> (125000,) <class 'list'>\n",
      "U <class 'pyvista.core.pyvista_ndarray.pyvista_ndarray'> (375000,) <class 'list'>\n",
      "/media/mandart/D/AI4Hydrop_Prague/Prague_All_simulations/Prague_0p5_mps_SouthWest/VTK/Prague_0p5_mps_SouthWest_2882.vtm\n",
      "creating TRAINING data for filename /media/mandart/D/AI4Hydrop_Prague/Prague_All_simulations/Prague_0p5_mps_SouthWest/VTK/Prague_0p5_mps_SouthWest_2882.vtm\n",
      "k <class 'pyvista.core.pyvista_ndarray.pyvista_ndarray'> (125000,) <class 'list'>\n",
      "U <class 'pyvista.core.pyvista_ndarray.pyvista_ndarray'> (375000,) <class 'list'>\n",
      "/media/mandart/D/AI4Hydrop_Prague/Prague_All_simulations/Prague_0p5_mps_Southerly/VTK/Prague_0p5_mps_Southerly_3998.vtm\n",
      "creating TRAINING data for filename /media/mandart/D/AI4Hydrop_Prague/Prague_All_simulations/Prague_0p5_mps_Southerly/VTK/Prague_0p5_mps_Southerly_3998.vtm\n",
      "k <class 'pyvista.core.pyvista_ndarray.pyvista_ndarray'> (125000,) <class 'list'>\n",
      "U <class 'pyvista.core.pyvista_ndarray.pyvista_ndarray'> (375000,) <class 'list'>\n",
      "/media/mandart/D/AI4Hydrop_Prague/Prague_All_simulations/Prague_0p5_mps_Westerly/VTK/Prague_0p5_mps_Westerly_5000.vtm\n",
      "creating TRAINING data for filename /media/mandart/D/AI4Hydrop_Prague/Prague_All_simulations/Prague_0p5_mps_Westerly/VTK/Prague_0p5_mps_Westerly_5000.vtm\n",
      "k <class 'pyvista.core.pyvista_ndarray.pyvista_ndarray'> (125000,) <class 'list'>\n",
      "U <class 'pyvista.core.pyvista_ndarray.pyvista_ndarray'> (375000,) <class 'list'>\n"
     ]
    }
   ],
   "source": [
    "my_dict=generate_data(res[:8],grid_structured) #charname is default."
   ]
  },
  {
   "cell_type": "markdown",
   "metadata": {},
   "source": [
    "for charnames in charname:\n",
    "        #print(type(my_dict[charname])) \n",
    "        if charnames=='U':\n",
    "                U= np.stack(my_dict[charnames],axis=0) #All arrays from list gets stacked as new column at axis=1. \n",
    "        else:\n",
    "                k= np.stack(my_dict[charnames],axis=1)\n",
    "        #print(type(my_dict[charname]))    \n",
    "        "
   ]
  },
  {
   "cell_type": "code",
   "execution_count": 45,
   "metadata": {},
   "outputs": [],
   "source": [
    "U=np.stack(my_dict['U'])"
   ]
  },
  {
   "cell_type": "code",
   "execution_count": 46,
   "metadata": {},
   "outputs": [
    {
     "data": {
      "text/plain": [
       "(8, 375000)"
      ]
     },
     "execution_count": 46,
     "metadata": {},
     "output_type": "execute_result"
    }
   ],
   "source": [
    "U.shape"
   ]
  },
  {
   "cell_type": "code",
   "execution_count": 47,
   "metadata": {},
   "outputs": [],
   "source": [
    "k=np.stack(my_dict['k'])"
   ]
  },
  {
   "cell_type": "code",
   "execution_count": 48,
   "metadata": {},
   "outputs": [
    {
     "data": {
      "text/plain": [
       "(8, 125000)"
      ]
     },
     "execution_count": 48,
     "metadata": {},
     "output_type": "execute_result"
    }
   ],
   "source": [
    "k.shape"
   ]
  },
  {
   "cell_type": "markdown",
   "metadata": {},
   "source": [
    "# Save building data"
   ]
  },
  {
   "cell_type": "code",
   "execution_count": 49,
   "metadata": {
    "scrolled": true
   },
   "outputs": [],
   "source": [
    "np.save('k_building_prague_0p5mps.npy',k)\n",
    "np.save('U_building_prague_0p5mps.npy',U)"
   ]
  },
  {
   "cell_type": "code",
   "execution_count": 50,
   "metadata": {
    "scrolled": true
   },
   "outputs": [
    {
     "data": {
      "text/plain": [
       "(8, 125000)"
      ]
     },
     "execution_count": 50,
     "metadata": {},
     "output_type": "execute_result"
    }
   ],
   "source": [
    "k.shape #num_spatial x num_times"
   ]
  },
  {
   "cell_type": "code",
   "execution_count": 51,
   "metadata": {},
   "outputs": [
    {
     "data": {
      "text/plain": [
       "1.0822"
      ]
     },
     "execution_count": 51,
     "metadata": {},
     "output_type": "execute_result"
    }
   ],
   "source": [
    "k.max()"
   ]
  },
  {
   "cell_type": "code",
   "execution_count": 52,
   "metadata": {},
   "outputs": [
    {
     "data": {
      "text/plain": [
       "0.0"
      ]
     },
     "execution_count": 52,
     "metadata": {},
     "output_type": "execute_result"
    }
   ],
   "source": [
    "k.min()"
   ]
  },
  {
   "cell_type": "code",
   "execution_count": 53,
   "metadata": {},
   "outputs": [
    {
     "data": {
      "text/html": [
       "\n",
       "<table style='width: 100%;'>\n",
       "<tr><th>StructuredGrid</th><th>Information</th></tr>\n",
       "<tr><td>N Cells</td><td>117649</td></tr>\n",
       "<tr><td>N Points</td><td>125000</td></tr>\n",
       "<tr><td>X Bounds</td><td>9.800e+02, 1.980e+03</td></tr>\n",
       "<tr><td>Y Bounds</td><td>-2.570e+03, -1.670e+03</td></tr>\n",
       "<tr><td>Z Bounds</td><td>1.656e+01, 3.000e+02</td></tr>\n",
       "<tr><td>Dimensions</td><td>50, 50, 50</td></tr>\n",
       "<tr><td>N Arrays</td><td>0</td></tr>\n",
       "</table>\n",
       "\n"
      ],
      "text/plain": [
       "StructuredGrid (0x7fd74093b4c0)\n",
       "  N Cells:      117649\n",
       "  N Points:     125000\n",
       "  X Bounds:     9.800e+02, 1.980e+03\n",
       "  Y Bounds:     -2.570e+03, -1.670e+03\n",
       "  Z Bounds:     1.656e+01, 3.000e+02\n",
       "  Dimensions:   50, 50, 50\n",
       "  N Arrays:     0"
      ]
     },
     "execution_count": 53,
     "metadata": {},
     "output_type": "execute_result"
    }
   ],
   "source": [
    "grid_structured"
   ]
  },
  {
   "cell_type": "code",
   "execution_count": 54,
   "metadata": {},
   "outputs": [
    {
     "data": {
      "text/plain": [
       "pyvista.core.composite.MultiBlock"
      ]
     },
     "execution_count": 54,
     "metadata": {},
     "output_type": "execute_result"
    }
   ],
   "source": [
    "type(grid)"
   ]
  },
  {
   "cell_type": "code",
   "execution_count": 55,
   "metadata": {},
   "outputs": [],
   "source": [
    "k1=k.T"
   ]
  },
  {
   "cell_type": "markdown",
   "metadata": {},
   "source": [
    "# Define all POD functions"
   ]
  },
  {
   "cell_type": "code",
   "execution_count": 56,
   "metadata": {},
   "outputs": [],
   "source": [
    "#POD functions\n",
    "\n",
    "nd,ns = k1.shape\n",
    "nr=np.min([10,ns])\n",
    "\n",
    "def POD_svd(tdata,nr):\n",
    "    \n",
    "    nd,ns = tdata.shape #nd=grid, ns=1 or wind direction (instead of time).\n",
    "    \n",
    "    \n",
    "       \n",
    "    #mean subtraction\n",
    "    \n",
    "    tm = np.mean(tdata) #tdata,axis=1, Use axis when 3D, and generating basis for each parameter.\n",
    "    #um = np.mean(Au,axis=1)\n",
    "    \n",
    "    \n",
    "    At = tdata - tm #.reshape([-1,1])\n",
    "    \n",
    "    \n",
    "    print('At',At.shape)\n",
    "    \n",
    "    #singular value decomposition : https://numpy.org/doc/stable/reference/generated/numpy.linalg.svd.html\n",
    "    \n",
    "    Ut, St, Vht = LA.svd(At, full_matrices=False)\n",
    "    \n",
    "   \n",
    "    print('U',Ut.shape,'S',St.shape,'V',Vht.shape)\n",
    "           \n",
    "    Phit = Ut[:,:nr]  \n",
    "    Lt = St**2\n",
    "    \n",
    "    #compute RIC (relative importance index)\n",
    "    RICt = np.cumsum(Lt)/np.sum(Lt)*100\n",
    "    \n",
    "    print('Phit',Phit.shape,'Lt',Lt.shape)\n",
    "    return tm,Phit,Lt,RICt \n",
    "\n",
    "def PODproj_svd(u,Phi): #Projection\n",
    "    a = np.dot(Phi.T,u)  # u = Phi * a if shape of a is [nr i.e num_modes,ns i.e num_winddirection]\n",
    "    return a\n",
    "\n",
    "def PODrec_svd(a,Phi): #Reconstruction    \n",
    "    u = np.dot(Phi,a)    \n",
    "    return u\n",
    "\n",
    "\n",
    "\n",
    "\n"
   ]
  },
  {
   "cell_type": "markdown",
   "metadata": {},
   "source": [
    "\n",
    "###############################################################################\n",
    "#POD Routines without mean\n",
    "###############################################################################         \n",
    "def POD(u,R): #Basis Construction\n",
    "    n,ns = u.shape\n",
    "    U,S,Vh = LA.svd(u, full_matrices=False)\n",
    "    Phi = U[:,:R]\n",
    "    L = S**2\n",
    "    #compute RIC (relative inportance index)\n",
    "    RIC = sum(L[:R])/sum(L)*100   \n",
    "    \n",
    "    return Phi,L,RIC\n",
    "\n",
    "def PODproj(u,Phi): #Projection\n",
    "    a = np.dot(u.T,Phi)  # u = Phi * a.T\n",
    "    return a\n",
    "\n",
    "def PODrec(a,Phi): #Reconstruction    \n",
    "    u = np.dot(Phi,a.T)    \n",
    "    return u\n"
   ]
  },
  {
   "cell_type": "code",
   "execution_count": 57,
   "metadata": {},
   "outputs": [],
   "source": [
    "import numpy.linalg as LA"
   ]
  },
  {
   "cell_type": "markdown",
   "metadata": {},
   "source": [
    "# Obtain POD basis functions for turbulent kinetic energy and velocity"
   ]
  },
  {
   "cell_type": "code",
   "execution_count": 58,
   "metadata": {},
   "outputs": [],
   "source": [
    "def save_csv_reconstructed (grid2,variable,wind_dir,fn,vectorU):\n",
    "    \n",
    "    #print(\"Turbine located at around Y=1500, X=1000 in figure below\")\n",
    "    data = {'X': grid2.points[:, 0],    #cell_centers.points\n",
    "            'Y': grid2.points[:, 1],\n",
    "            'Z': grid2.points[:, 2],\n",
    "        }\n",
    "    df = pd.DataFrame(data)\n",
    "\n",
    "#Suggest Time for reconstruction in arange below. \n",
    "#To reconstruct at all time-steps and save images, start loop from 0.\n",
    "\n",
    "    if vectorU==False:        \n",
    "        turbke=grid2[\"RECON_tke_at_WD_\"+str(wind_dir)]\n",
    "        data2 = {'tke':turbke}\n",
    "        df=df.join(pd.DataFrame(data2))\n",
    "    else:\n",
    "        vel=grid2[\"RECON_U_at_WD_\"+str(wind_dir)]  #tke_at_wind_direction.reshape(-1, 3, order='F')\n",
    "        data2 = {'Velocity_X_': vel[:, 0],'Velocity_Y_': vel[:, 1],'Velocity_Z_': vel[:, 2]}\n",
    "        df=df.join(pd.DataFrame(data2))            \n",
    "        \n",
    "       \n",
    "        # saveimage(i)\n",
    "\n",
    "# Save CSV    \n",
    "    csv_file = fn+'/'+ f'{variable}'+'_'+str(wind_dir)+'_Output.csv'     \n",
    "    df.to_csv(csv_file, index=False)\n",
    "    print(f\"CSV file saved successfully: {csv_file}\")\n",
    "\n",
    "    return df \n",
    "#Save Grid\n",
    "#grid2.save(fn+'/Velocity_reconstruction_stored.vtk')\n",
    "#grid2.save(fn+'/Velocity_reconstruction_stored.vtu') \n",
    "    \n"
   ]
  },
  {
   "cell_type": "code",
   "execution_count": 59,
   "metadata": {},
   "outputs": [
    {
     "data": {
      "text/plain": [
       "['/media/mandart/D/AI4Hydrop_Prague/Prague_All_simulations/Prague_0p5_mps_Easterly/VTK/Prague_0p5_mps_Easterly_5000.vtm',\n",
       " '/media/mandart/D/AI4Hydrop_Prague/Prague_All_simulations/Prague_0p5_mps_NorthEast/VTK/Prague_0p5_mps_NorthEast_2716.vtm',\n",
       " '/media/mandart/D/AI4Hydrop_Prague/Prague_All_simulations/Prague_0p5_mps_NorthWest/VTK/Prague_0p5_mps_NorthWest_2702.vtm',\n",
       " '/media/mandart/D/AI4Hydrop_Prague/Prague_All_simulations/Prague_0p5_mps_Northerly/VTK/Prague_0p5_mps_Northerly_3209.vtm',\n",
       " '/media/mandart/D/AI4Hydrop_Prague/Prague_All_simulations/Prague_0p5_mps_SouthEasterlyActually/VTK/Prague_0p5_mps_SouthEasterlyActually_2815.vtm',\n",
       " '/media/mandart/D/AI4Hydrop_Prague/Prague_All_simulations/Prague_0p5_mps_SouthWest/VTK/Prague_0p5_mps_SouthWest_2882.vtm',\n",
       " '/media/mandart/D/AI4Hydrop_Prague/Prague_All_simulations/Prague_0p5_mps_Southerly/VTK/Prague_0p5_mps_Southerly_3998.vtm',\n",
       " '/media/mandart/D/AI4Hydrop_Prague/Prague_All_simulations/Prague_0p5_mps_Westerly/VTK/Prague_0p5_mps_Westerly_5000.vtm']"
      ]
     },
     "execution_count": 59,
     "metadata": {},
     "output_type": "execute_result"
    }
   ],
   "source": [
    "res[:8]"
   ]
  },
  {
   "cell_type": "code",
   "execution_count": null,
   "metadata": {},
   "outputs": [],
   "source": [
    "import math\n",
    "#Method 1. \n",
    "\n",
    "def meters_to_decimal_degrees(delta_x, delta_y, reference_lat):\n",
    "    # Earth's radius at the reference latitude (average of meridional and equatorial radii)\n",
    "    earth_radius = 6371000  # in meters\n",
    "\n",
    "    # Convert meters to degrees for longitude\n",
    "    delta_lon = (delta_x / earth_radius) * (180 / (math.pi * math.cos(math.radians(reference_lat))))\n",
    "\n",
    "    # Convert meters to degrees for latitude\n",
    "    delta_lat = (delta_y / earth_radius) * (180 / math.pi)\n",
    "\n",
    "    return delta_lat, delta_lon\n",
    "\n",
    "# Example usage\n",
    "delta_x = 1000  # 1000 meters eastward\n",
    "delta_y = -500  # 500 meters southward\n",
    "reference_lat = 40.7128  # Reference latitude in decimal degrees (New York City)\n",
    "\n",
    "delta_lat, delta_lon = meters_to_decimal_degrees(delta_x, delta_y, reference_lat)\n",
    "print(\"Relative change in Latitude: {:.6f} degrees\".format(delta_lat))\n",
    "print(\"Relative change in Longitude: {:.6f} degrees\".format(delta_lon))\n",
    "\n",
    "\n",
    "\n",
    "\n",
    "# Method 2. The conversion from meters to decimal degrees is based on the following formulae: \n",
    "# 1 degree of latitude is approximately 111,139 meters.\n",
    "# 1 degree of longitude is approximately 111,139 meters * cos(latitude).\n",
    "# Define a function to convert meters to decimal degrees, latitude in decimal degree\n",
    "def convert_meters_to_decimal_degrees(x, y, latitude):\n",
    "    # Convert meters to decimal degrees\n",
    "    x_deg = x / (111139 * math.cos(math.radians(latitude)))\n",
    "    y_deg = y / 111139\n",
    "\n",
    "    return x_deg, y_deg\n",
    "\n",
    "# Test the function with some example values\n",
    "x_meters = 1000  # 1000 meters East\n",
    "y_meters = 2000  # 2000 meters North\n",
    "latitude = 45  # latitude in decimal degrees\n",
    "\n",
    "x_deg, y_deg = convert_meters_to_decimal_degrees(x_meters, y_meters, latitude)\n",
    "\n",
    "print(f\"X: {x_meters} meters = {x_deg} degrees\")\n",
    "print(f\"Y: {y_meters} meters = {y_deg} degrees\")\n",
    "\n",
    "\n"
   ]
  },
  {
   "cell_type": "code",
   "execution_count": 90,
   "metadata": {},
   "outputs": [],
   "source": [
    "def offset_dataset(deltaX,deltaY,deltaZ,df):\n",
    "\n",
    "    # Load the dataset into a pandas DataFrame\n",
    "    # Adjust the path to your dataset CSV file\n",
    "    #df = pd.read_csv(dataset_path)\n",
    "\n",
    "    # Define the offsets for each dimension\n",
    "    # Change this value to the desired offset for Z\n",
    "\n",
    "    # Apply the offsets to the X, Y, and Z columns\n",
    "    df['X'] = df['X'] + deltaX\n",
    "    df['Y'] = df['Y'] + deltaY\n",
    "    df['Z'] = df['Z'] + deltaZ\n",
    "\n",
    "    # Save the modified DataFrame back to a new CSV file\n",
    "       # Adjust the path for the output CSV file\n",
    "    #df.to_csv(output_path, index=False)\n",
    "\n",
    "    \n",
    "    return df\n"
   ]
  },
  {
   "cell_type": "code",
   "execution_count": 60,
   "metadata": {},
   "outputs": [],
   "source": [
    "def train_AI_for_winddirection(variable,variable_name,num_modes,vectorU=True): #variable : num_grid x num_wind_directions\n",
    "    import numpy as np\n",
    "    #Obtain basis functions (most dominant spatial patterns) #Phit : num_grid x num_basis (=num_modes)\n",
    "    tm,Phit,Lt,RICt=POD_svd(variable,num_modes)\n",
    "    \n",
    "    #Obtain coefficient (function of wind diretion) #tcoeff\n",
    "    k1_wo_mean = variable-tm \n",
    "    tcoeff = PODproj_svd(k1_wo_mean,Phit)\n",
    "    \n",
    "    #Save variance captured by mode\n",
    "    fig = plt.figure()\n",
    "    plt.plot(range(1,num_modes+1),np.cumsum(Lt)/sum(Lt)*100)\n",
    "    fig.suptitle('Energy in '+ f'{variable_name}'+' basis modes', fontsize=22)\n",
    "    plt.xlabel('Modes ', fontsize=22)\n",
    "    plt.ylabel('Cumulative Energy, %', fontsize=22)\n",
    "    fig.savefig(fn+'/'+f'{variable_name}'+'_Cumulative_Energy.png')\n",
    "    fig.savefig(fn+'/'+f'{variable_name}'+'_Cumulative_Energy.pdf') \n",
    "    \n",
    "    # Save POD modes for viewing\n",
    "    if vectorU==False:        \n",
    "        for i in range(num_modes): #nr , first 5 modes saved.\n",
    "            result_sample.point_data[f'{variable_name}'+\"_mode_\"+str(i)]=Phit[:,i]\n",
    "    else:\n",
    "         for i in range(num_modes): #nr , first 5 modes saved.\n",
    "            Phi_reshaped=Phit[:,i].reshape(-1, 3, order='F')          \n",
    "            result_sample.point_data.set_vectors(Phi_reshaped,\"Phi_U_\"+str(i))\n",
    "            del Phi_reshaped\n",
    "            \n",
    "                 \n",
    "    # Save POD data and VTK files to be used later for reconstruction\n",
    "    folder = 'data_POD' #str(nx) + '_' + str(ny)       \n",
    "    \n",
    "    if not os.path.exists('./Results/'+folder):\n",
    "        os.makedirs('./Results/'+folder)\n",
    "        \n",
    "    filename = fn+'/POD_data_' +f'{variable_name}'+'.npz'\n",
    "    np.savez(filename, tmean=tm, tbasis=Phit,tcoeff=tcoeff,teigenvalues=Lt,tric=RICt) \n",
    "    \n",
    "    #Input wind direction used in training dataset for AI\n",
    "    input_feature=[90,45,315,360,135,225,180,270] #E,NE,NW,N,SE,SW,S,W\n",
    "    data=np.array(input_feature)\n",
    "    max_value=360\n",
    "    xsin1=np.sin(2 * np.pi * data / max_value)\n",
    "    xcos1=np.cos(2 * np.pi * data / max_value)\n",
    "        \n",
    "    import numpy as np\n",
    "    from scipy.interpolate import Rbf\n",
    "    import pickle\n",
    "\n",
    "\n",
    "    # Create Rbf interpolators for coefficients associated with each mode. Then \n",
    "    interpolators = []\n",
    "    for i in range(nr):\n",
    "        rbf = Rbf(xsin1,xcos1,tcoeff[i,:],function='multiquadric') \n",
    "        interpolators.append(rbf)\n",
    "\n",
    "    # Save the Rbf interpolators to a file\n",
    "    with open('./Results/'+folder+'/'+f'{variable_name}'+'_rbf_interpolators.pkl', 'wb') as file:\n",
    "        pickle.dump(interpolators, file)  \n",
    "    \n",
    "    return tm, Phit, interpolators,result_sample #mean_of_variable,basis_functions,Coefficient_interpolators     \n",
    "    \n",
    "    "
   ]
  },
  {
   "cell_type": "code",
   "execution_count": 87,
   "metadata": {},
   "outputs": [
    {
     "name": "stdout",
     "output_type": "stream",
     "text": [
      "[297, 69, 295, 144, 22]\n"
     ]
    }
   ],
   "source": [
    "\n",
    "import time\n",
    "import random\n",
    "import time\n",
    "import pyvista as pv\n",
    "import pandas as pd\n",
    "import numpy as np\n",
    "#from tensorflow.keras.models import load_model\n",
    "import matplotlib.pyplot as plt\n",
    "from matplotlib import cm\n",
    "import os\n",
    "import pickle\n",
    "from mpl_toolkits.axes_grid1 import make_axes_locatable\n",
    "\n",
    "#wind_direc=[270] or wind_direc=[270,200,230]\n",
    "wind_direc = [random.randint(0, 360) for _ in range(5)]\n",
    "print(wind_direc)\n",
    "\n",
    "fn=os.path.abspath(\"./Results/data_POD\")\n",
    "\n",
    "\n",
    "def reconstruct_AI_for_winddirection(variable,wind_direc,num_modes,fn,vectorU=True):  \n",
    "    \n",
    "    deltaX=-1480\n",
    "    deltaY=2120\n",
    "    deltaZ=229  \n",
    "    \n",
    "    start = time.process_time()\n",
    "    # your code here    \n",
    "    # Assume a wind direction \n",
    "    # wind_dir=np.rand270 #in degrees\n",
    "    folder = 'data_POD'\n",
    "    \n",
    "    # Load the Rbf interpolators from a file\n",
    "    print(fn+'/'+f\"{variable}\"+'_rbf_interpolators.pkl')\n",
    "    with open(fn+'/'+f\"{variable}\"+'_rbf_interpolators.pkl', 'rb') as file:\n",
    "        loaded_interpolators = pickle.load(file)\n",
    "        \n",
    "        \n",
    "    #Obtain basis functions : Load saved basis functions (modes) and mean turbulent kinetic energy\n",
    "    #----------------------------------------------------------------------------------------------.     \n",
    "    filename = fn+'/POD_data_' +f\"{variable}\"+'.npz'    \n",
    "        \n",
    "    PODdata=np.load(filename)\n",
    "\n",
    "    Phit=PODdata['tbasis']\n",
    "    tke_mean=PODdata['tmean']    \n",
    "\n",
    "    for wind_dir in wind_direc:     \n",
    "        \n",
    "        #Obtain coefficient for this wind direction\n",
    "        #------------------------------------------------------------------  \n",
    "        # Interpolate using the loaded interpolators (for demonstration)\n",
    "        predicted_coef = []\n",
    "        max_value=360\n",
    "        xsin_winddir=np.sin(2 * np.pi * wind_dir / max_value)\n",
    "        xcos_winddir=np.cos(2 * np.pi * wind_dir / max_value)\n",
    "        for i, rbf1 in enumerate(loaded_interpolators):\n",
    "            predicted_coef.append(rbf1(xsin_winddir,xcos_winddir))\n",
    "            print('Coeff for mode', i+1 , 'is ', rbf1(xsin_winddir,xcos_winddir))\n",
    "\n",
    "       #Reconstruct flow field from the basis modes, the mean and the computed coefficients\n",
    "        #----------------------------------------------------------------------------------------------------\n",
    "        tke_at_wind_direction=np.dot(Phit,np.array(predicted_coef))+tke_mean\n",
    "\n",
    "        #Visualize reconstructed flow field.\n",
    "        #----------------------------------------------------------------------------------------------------\n",
    "        if vectorU==False:\n",
    "            result_sample.point_data[\"RECON_tke_at_WD_\"+str(wind_dir)]=tke_at_wind_direction\n",
    "            df=save_csv_reconstructed(result_sample,variable,wind_dir,fn,vectorU)\n",
    "            #df=pd.read_csv(csv_file)\n",
    "            #Make vertiport at 0,0,267. x=x-1480,y=y+2120,z=z+229.\n",
    "            \n",
    "        \n",
    "        else:\n",
    "            U_reshaped=tke_at_wind_direction.reshape(-1, 3, order='F') \n",
    "            result_sample.point_data.set_vectors(U_reshaped,\"RECON_U_at_WD_\"+str(wind_dir))\n",
    "            df=save_csv_reconstructed(result_sample,variable,wind_dir,fn,vectorU)\n",
    "            \n",
    "        result_sample.save('./Results/recon_added_' +f\"{variable}\"+'.vtk')\n",
    "        \n",
    "        #Offset grid to make vertiport the center \n",
    "        df_offset=offset_dataset(deltaX,deltaY,deltaZ,df)\n",
    "        df_offset.to_csv(fn+'/'+ f'{variable}'+'_'+str(wind_dir)+'_Output_Transformed.csv', index=False)\n",
    "\n",
    "        print(\"Transformation completed. Output saved to:\", fn+'/'+ f'{variable}'+'_'+str(wind_dir)+'_Output_Transformed.csv')      \n",
    "    #Print time taken\n",
    "    print(time.process_time() - start)\n",
    "        \n",
    "    return result_sample,df_offset,time.process_time() - start"
   ]
  },
  {
   "cell_type": "code",
   "execution_count": 98,
   "metadata": {},
   "outputs": [],
   "source": [
    "#Important Grid location and Google earth location information.\n",
    "\n",
    "# Important: Vertiport location in \"grid\" is at : +1480,-2120,38 (x,y,z=Ground) and in \"reality\" it \"should\" be located at around - \n",
    "# latitude/logitude is 50.0499086 latitude,14.4379744 longitude, Altitude is 267m above sea level on google earth.\n",
    "# Vertiport building height is about 12m-15 m high.\n",
    "\n",
    "# Vertical coordinate to capture most buildings in plane perpendular to Z direction is CFD grid is typically around Z=40 or Z=269 in transformed grid. Use z=40 for visualization.\n",
    "\n",
    "# The tallest building is around 100-115 m tall (antenna). Z=145 m approx in the grid. \n",
    "\n",
    "# The butterfly building top end reaches around Z=55m. In real - the Z coordinate is around 305 m above sea level i.e. 37 m in the grid.\n",
    "\n",
    "# Building in front of butterfly reaches 113 m in grid CFD model. It is 76 m tall. So ground near it should be 37. (above height level in google earth is 343 m , and ground is at 267 m m. So, it is about 76 m in height.)\n",
    "\n",
    "# Important : Test in domain around : 400 m radius from vertiport. i,e, about and below 400 m in North-south, and 400/450 m maximum in East-west direction.\n",
    "# Altitude test in transformed Z=269m to 365m.\n",
    "# \n",
    "# To transform with respect to vertiport. Make vertiport at 0,0,267. x=x-1480,y=y+2120,z=z+229. (sea-level). Post transformation.Search +-400m, and in vertical z=269-367m z=269 m for visualization,\n",
    "\n"
   ]
  },
  {
   "cell_type": "code",
   "execution_count": 138,
   "metadata": {},
   "outputs": [
    {
     "data": {
      "text/html": [
       "<div>\n",
       "<style scoped>\n",
       "    .dataframe tbody tr th:only-of-type {\n",
       "        vertical-align: middle;\n",
       "    }\n",
       "\n",
       "    .dataframe tbody tr th {\n",
       "        vertical-align: top;\n",
       "    }\n",
       "\n",
       "    .dataframe thead th {\n",
       "        text-align: right;\n",
       "    }\n",
       "</style>\n",
       "<table border=\"1\" class=\"dataframe\">\n",
       "  <thead>\n",
       "    <tr style=\"text-align: right;\">\n",
       "      <th></th>\n",
       "      <th>X</th>\n",
       "      <th>Y</th>\n",
       "      <th>Z</th>\n",
       "      <th>Velocity_X_</th>\n",
       "      <th>Velocity_Y_</th>\n",
       "      <th>Velocity_Z_</th>\n",
       "    </tr>\n",
       "  </thead>\n",
       "  <tbody>\n",
       "    <tr>\n",
       "      <th>0</th>\n",
       "      <td>-500.0</td>\n",
       "      <td>-450.013000</td>\n",
       "      <td>245.558</td>\n",
       "      <td>6.930126e-10</td>\n",
       "      <td>6.926908e-10</td>\n",
       "      <td>6.926908e-10</td>\n",
       "    </tr>\n",
       "    <tr>\n",
       "      <th>1</th>\n",
       "      <td>-500.0</td>\n",
       "      <td>-431.645102</td>\n",
       "      <td>245.558</td>\n",
       "      <td>6.926908e-10</td>\n",
       "      <td>6.926908e-10</td>\n",
       "      <td>6.926908e-10</td>\n",
       "    </tr>\n",
       "    <tr>\n",
       "      <th>2</th>\n",
       "      <td>-500.0</td>\n",
       "      <td>-413.277204</td>\n",
       "      <td>245.558</td>\n",
       "      <td>6.926908e-10</td>\n",
       "      <td>6.926908e-10</td>\n",
       "      <td>6.926908e-10</td>\n",
       "    </tr>\n",
       "    <tr>\n",
       "      <th>3</th>\n",
       "      <td>-500.0</td>\n",
       "      <td>-394.909306</td>\n",
       "      <td>245.558</td>\n",
       "      <td>6.926908e-10</td>\n",
       "      <td>6.926908e-10</td>\n",
       "      <td>6.926908e-10</td>\n",
       "    </tr>\n",
       "    <tr>\n",
       "      <th>4</th>\n",
       "      <td>-500.0</td>\n",
       "      <td>-376.541408</td>\n",
       "      <td>245.558</td>\n",
       "      <td>6.926908e-10</td>\n",
       "      <td>6.926908e-10</td>\n",
       "      <td>6.926908e-10</td>\n",
       "    </tr>\n",
       "    <tr>\n",
       "      <th>...</th>\n",
       "      <td>...</td>\n",
       "      <td>...</td>\n",
       "      <td>...</td>\n",
       "      <td>...</td>\n",
       "      <td>...</td>\n",
       "      <td>...</td>\n",
       "    </tr>\n",
       "    <tr>\n",
       "      <th>124995</th>\n",
       "      <td>500.0</td>\n",
       "      <td>376.542408</td>\n",
       "      <td>529.000</td>\n",
       "      <td>-2.550472e-02</td>\n",
       "      <td>6.599885e-01</td>\n",
       "      <td>-6.478669e-03</td>\n",
       "    </tr>\n",
       "    <tr>\n",
       "      <th>124996</th>\n",
       "      <td>500.0</td>\n",
       "      <td>394.910306</td>\n",
       "      <td>529.000</td>\n",
       "      <td>-2.550015e-02</td>\n",
       "      <td>6.594477e-01</td>\n",
       "      <td>-6.451907e-03</td>\n",
       "    </tr>\n",
       "    <tr>\n",
       "      <th>124997</th>\n",
       "      <td>500.0</td>\n",
       "      <td>413.278204</td>\n",
       "      <td>529.000</td>\n",
       "      <td>-2.549619e-02</td>\n",
       "      <td>6.589119e-01</td>\n",
       "      <td>-6.389843e-03</td>\n",
       "    </tr>\n",
       "    <tr>\n",
       "      <th>124998</th>\n",
       "      <td>500.0</td>\n",
       "      <td>431.646102</td>\n",
       "      <td>529.000</td>\n",
       "      <td>-2.549323e-02</td>\n",
       "      <td>6.583826e-01</td>\n",
       "      <td>-6.315094e-03</td>\n",
       "    </tr>\n",
       "    <tr>\n",
       "      <th>124999</th>\n",
       "      <td>500.0</td>\n",
       "      <td>450.014000</td>\n",
       "      <td>529.000</td>\n",
       "      <td>6.926908e-10</td>\n",
       "      <td>6.926908e-10</td>\n",
       "      <td>6.926908e-10</td>\n",
       "    </tr>\n",
       "  </tbody>\n",
       "</table>\n",
       "<p>125000 rows × 6 columns</p>\n",
       "</div>"
      ],
      "text/plain": [
       "            X           Y        Z   Velocity_X_   Velocity_Y_   Velocity_Z_\n",
       "0      -500.0 -450.013000  245.558  6.930126e-10  6.926908e-10  6.926908e-10\n",
       "1      -500.0 -431.645102  245.558  6.926908e-10  6.926908e-10  6.926908e-10\n",
       "2      -500.0 -413.277204  245.558  6.926908e-10  6.926908e-10  6.926908e-10\n",
       "3      -500.0 -394.909306  245.558  6.926908e-10  6.926908e-10  6.926908e-10\n",
       "4      -500.0 -376.541408  245.558  6.926908e-10  6.926908e-10  6.926908e-10\n",
       "...       ...         ...      ...           ...           ...           ...\n",
       "124995  500.0  376.542408  529.000 -2.550472e-02  6.599885e-01 -6.478669e-03\n",
       "124996  500.0  394.910306  529.000 -2.550015e-02  6.594477e-01 -6.451907e-03\n",
       "124997  500.0  413.278204  529.000 -2.549619e-02  6.589119e-01 -6.389843e-03\n",
       "124998  500.0  431.646102  529.000 -2.549323e-02  6.583826e-01 -6.315094e-03\n",
       "124999  500.0  450.014000  529.000  6.926908e-10  6.926908e-10  6.926908e-10\n",
       "\n",
       "[125000 rows x 6 columns]"
      ]
     },
     "execution_count": 138,
     "metadata": {},
     "output_type": "execute_result"
    }
   ],
   "source": [
    "df_transformed"
   ]
  },
  {
   "cell_type": "code",
   "execution_count": 157,
   "metadata": {},
   "outputs": [],
   "source": [
    "#Function to obtain the velocity, turbulent kinetic energy at location within the domain with regards to the vertiport location\n",
    "\n",
    "import pandas as pd\n",
    "import numpy as np\n",
    "\n",
    "# Assuming your dataset is stored in a CSV file named 'dataset.csv'\n",
    "# Adjust the path accordingly if your file is stored elsewhere\n",
    "#dataset_path = 'dataset.csv'\n",
    "\n",
    "# Load the dataset into a pandas DataFrame\n",
    "#df = pd.read_csv(dataset_path)\n",
    "\n",
    "def find_nearest_location(X, Y, Z,df):\n",
    "    distances = np.sqrt((df['X'] - X)**2 + (df['Y'] - Y)**2 + (df['Z'] - Z)**2)\n",
    "    nearest_index = distances.idxmin()\n",
    "    print ('nearest',nearest_index,df.loc[nearest_index])\n",
    "    return df.loc[nearest_index]\n",
    "\n",
    "\n",
    "def haversine(lat1, lon1, lat2, lon2):\n",
    "    # Convert latitude and longitude from degrees to radians\n",
    "    lat1, lon1, lat2, lon2 = map(radians, [lat1, lon1, lat2, lon2])\n",
    "    \n",
    "    # Haversine formula\n",
    "    dlat = lat2 - lat1\n",
    "    dlon = lon2 - lon1\n",
    "    a = sin(dlat / 2) ** 2 + cos(lat1) * cos(lat2) * sin(dlon / 2) ** 2\n",
    "    c = 2 * atan2(sqrt(a), sqrt(1 - a))\n",
    "    distance = 6371 * c *1000 # Radius of Earth in meters\n",
    "    return distance\n",
    "\n",
    "def get_U_and_k_for_location(X, Y, Z,df,relative_distance_in_meter__or__Latlong='relative_distance_in_meter'):\n",
    "              \n",
    "    if relative_distance_in_meter__or__Latlong=='relative_distance_in_meter':\n",
    "        location_data = df[(df['X'] == X) & (df['Y'] == Y) & (df['Z'] == Z)]\n",
    "    else:\n",
    "        location_data = df[(df['latitude'] == Y) & (df['longitude'] == X) & (df['Z'] == Z)]\n",
    "    \n",
    "             \n",
    "\n",
    "    if len(location_data) == 0:     \n",
    "            \n",
    "        if relative_distance_in_meter__or__Latlong=='relative_distance_in_meter':\n",
    "            distances = np.sqrt((df['X'] - X)**2 + (df['Y'] - Y)**2 + (df['Z'] - Z)**2)\n",
    "            print(\"using nearest based on distance\") \n",
    "        else:\n",
    "            distances = np.sqrt((df['longitude'] - X)**2 + (df['latitude'] - Y)**2 + (df['Z'] - Z)**2)\n",
    "            distances2=haversine(df['latitude'],df['longitude'],Y,X) + np.sqrt(df['Z'] - Z)**2\n",
    "            print(\"using nearest based on lat-long. Haversten  not used.\") \n",
    "            \n",
    "        nearest_index = distances.idxmin()             \n",
    "        nearest_location = df.loc[nearest_index] #find_nearest_location(X, Y, Z,df)\n",
    "        #vx=nearest_location['Velocity_X_']\n",
    "        #vy=nearest_location['Velocity_Y_']\n",
    "        #vz=nearest_location['Velocity_Z_']\n",
    "        #Ucomponent=[vx,vy,vz]\n",
    "        \n",
    "        #U_values = math.sqrt(vx**2 + vy**2 + vz**2) \n",
    "        #k_values = nearest_location['tke']\n",
    "        return nearest_location #U_values, k_values, Ucomponent,\n",
    "    else:\n",
    "        #U_values = location_data['Velocity_X_']\n",
    "        #k_values = location_data['k'].tolist()\n",
    "        return location_data   \n",
    "        \n",
    "\n"
   ]
  },
  {
   "cell_type": "code",
   "execution_count": 144,
   "metadata": {},
   "outputs": [
    {
     "data": {
      "text/html": [
       "<div>\n",
       "<style scoped>\n",
       "    .dataframe tbody tr th:only-of-type {\n",
       "        vertical-align: middle;\n",
       "    }\n",
       "\n",
       "    .dataframe tbody tr th {\n",
       "        vertical-align: top;\n",
       "    }\n",
       "\n",
       "    .dataframe thead th {\n",
       "        text-align: right;\n",
       "    }\n",
       "</style>\n",
       "<table border=\"1\" class=\"dataframe\">\n",
       "  <thead>\n",
       "    <tr style=\"text-align: right;\">\n",
       "      <th></th>\n",
       "      <th>X</th>\n",
       "      <th>Y</th>\n",
       "      <th>Z</th>\n",
       "      <th>tke</th>\n",
       "      <th>Velocity_X_</th>\n",
       "      <th>Velocity_Y_</th>\n",
       "      <th>Velocity_Z_</th>\n",
       "      <th>latitude</th>\n",
       "      <th>longitude</th>\n",
       "    </tr>\n",
       "  </thead>\n",
       "  <tbody>\n",
       "    <tr>\n",
       "      <th>0</th>\n",
       "      <td>-500.0</td>\n",
       "      <td>-450.013</td>\n",
       "      <td>245.558000</td>\n",
       "      <td>-0.000013</td>\n",
       "      <td>6.930126e-10</td>\n",
       "      <td>6.926908e-10</td>\n",
       "      <td>6.926908e-10</td>\n",
       "      <td>50.045859</td>\n",
       "      <td>14.430968</td>\n",
       "    </tr>\n",
       "    <tr>\n",
       "      <th>1</th>\n",
       "      <td>-500.0</td>\n",
       "      <td>-450.013</td>\n",
       "      <td>251.342531</td>\n",
       "      <td>-0.000013</td>\n",
       "      <td>6.926908e-10</td>\n",
       "      <td>6.926908e-10</td>\n",
       "      <td>6.926908e-10</td>\n",
       "      <td>50.045859</td>\n",
       "      <td>14.430968</td>\n",
       "    </tr>\n",
       "    <tr>\n",
       "      <th>2</th>\n",
       "      <td>-500.0</td>\n",
       "      <td>-450.013</td>\n",
       "      <td>257.127061</td>\n",
       "      <td>-0.000013</td>\n",
       "      <td>6.926908e-10</td>\n",
       "      <td>6.926908e-10</td>\n",
       "      <td>6.926908e-10</td>\n",
       "      <td>50.045859</td>\n",
       "      <td>14.430968</td>\n",
       "    </tr>\n",
       "    <tr>\n",
       "      <th>3</th>\n",
       "      <td>-500.0</td>\n",
       "      <td>-450.013</td>\n",
       "      <td>262.911592</td>\n",
       "      <td>-0.000013</td>\n",
       "      <td>6.926908e-10</td>\n",
       "      <td>6.926908e-10</td>\n",
       "      <td>6.926908e-10</td>\n",
       "      <td>50.045859</td>\n",
       "      <td>14.430968</td>\n",
       "    </tr>\n",
       "    <tr>\n",
       "      <th>4</th>\n",
       "      <td>-500.0</td>\n",
       "      <td>-450.013</td>\n",
       "      <td>268.696122</td>\n",
       "      <td>-0.000013</td>\n",
       "      <td>6.926908e-10</td>\n",
       "      <td>6.926908e-10</td>\n",
       "      <td>6.926908e-10</td>\n",
       "      <td>50.045859</td>\n",
       "      <td>14.430968</td>\n",
       "    </tr>\n",
       "    <tr>\n",
       "      <th>...</th>\n",
       "      <td>...</td>\n",
       "      <td>...</td>\n",
       "      <td>...</td>\n",
       "      <td>...</td>\n",
       "      <td>...</td>\n",
       "      <td>...</td>\n",
       "      <td>...</td>\n",
       "      <td>...</td>\n",
       "      <td>...</td>\n",
       "    </tr>\n",
       "    <tr>\n",
       "      <th>124995</th>\n",
       "      <td>500.0</td>\n",
       "      <td>450.014</td>\n",
       "      <td>505.861878</td>\n",
       "      <td>-0.000013</td>\n",
       "      <td>6.926908e-10</td>\n",
       "      <td>6.926908e-10</td>\n",
       "      <td>6.926908e-10</td>\n",
       "      <td>50.053958</td>\n",
       "      <td>14.444981</td>\n",
       "    </tr>\n",
       "    <tr>\n",
       "      <th>124996</th>\n",
       "      <td>500.0</td>\n",
       "      <td>450.014</td>\n",
       "      <td>511.646408</td>\n",
       "      <td>-0.000013</td>\n",
       "      <td>6.926908e-10</td>\n",
       "      <td>6.926908e-10</td>\n",
       "      <td>6.926908e-10</td>\n",
       "      <td>50.053958</td>\n",
       "      <td>14.444981</td>\n",
       "    </tr>\n",
       "    <tr>\n",
       "      <th>124997</th>\n",
       "      <td>500.0</td>\n",
       "      <td>450.014</td>\n",
       "      <td>517.430939</td>\n",
       "      <td>-0.000013</td>\n",
       "      <td>6.926908e-10</td>\n",
       "      <td>6.926908e-10</td>\n",
       "      <td>6.926908e-10</td>\n",
       "      <td>50.053958</td>\n",
       "      <td>14.444981</td>\n",
       "    </tr>\n",
       "    <tr>\n",
       "      <th>124998</th>\n",
       "      <td>500.0</td>\n",
       "      <td>450.014</td>\n",
       "      <td>523.215469</td>\n",
       "      <td>-0.000013</td>\n",
       "      <td>6.926908e-10</td>\n",
       "      <td>6.926908e-10</td>\n",
       "      <td>6.926908e-10</td>\n",
       "      <td>50.053958</td>\n",
       "      <td>14.444981</td>\n",
       "    </tr>\n",
       "    <tr>\n",
       "      <th>124999</th>\n",
       "      <td>500.0</td>\n",
       "      <td>450.014</td>\n",
       "      <td>529.000000</td>\n",
       "      <td>-0.000013</td>\n",
       "      <td>6.926908e-10</td>\n",
       "      <td>6.926908e-10</td>\n",
       "      <td>6.926908e-10</td>\n",
       "      <td>50.053958</td>\n",
       "      <td>14.444981</td>\n",
       "    </tr>\n",
       "  </tbody>\n",
       "</table>\n",
       "<p>125000 rows × 9 columns</p>\n",
       "</div>"
      ],
      "text/plain": [
       "            X        Y           Z       tke   Velocity_X_   Velocity_Y_  \\\n",
       "0      -500.0 -450.013  245.558000 -0.000013  6.930126e-10  6.926908e-10   \n",
       "1      -500.0 -450.013  251.342531 -0.000013  6.926908e-10  6.926908e-10   \n",
       "2      -500.0 -450.013  257.127061 -0.000013  6.926908e-10  6.926908e-10   \n",
       "3      -500.0 -450.013  262.911592 -0.000013  6.926908e-10  6.926908e-10   \n",
       "4      -500.0 -450.013  268.696122 -0.000013  6.926908e-10  6.926908e-10   \n",
       "...       ...      ...         ...       ...           ...           ...   \n",
       "124995  500.0  450.014  505.861878 -0.000013  6.926908e-10  6.926908e-10   \n",
       "124996  500.0  450.014  511.646408 -0.000013  6.926908e-10  6.926908e-10   \n",
       "124997  500.0  450.014  517.430939 -0.000013  6.926908e-10  6.926908e-10   \n",
       "124998  500.0  450.014  523.215469 -0.000013  6.926908e-10  6.926908e-10   \n",
       "124999  500.0  450.014  529.000000 -0.000013  6.926908e-10  6.926908e-10   \n",
       "\n",
       "         Velocity_Z_   latitude  longitude  \n",
       "0       6.926908e-10  50.045859  14.430968  \n",
       "1       6.926908e-10  50.045859  14.430968  \n",
       "2       6.926908e-10  50.045859  14.430968  \n",
       "3       6.926908e-10  50.045859  14.430968  \n",
       "4       6.926908e-10  50.045859  14.430968  \n",
       "...              ...        ...        ...  \n",
       "124995  6.926908e-10  50.053958  14.444981  \n",
       "124996  6.926908e-10  50.053958  14.444981  \n",
       "124997  6.926908e-10  50.053958  14.444981  \n",
       "124998  6.926908e-10  50.053958  14.444981  \n",
       "124999  6.926908e-10  50.053958  14.444981  \n",
       "\n",
       "[125000 rows x 9 columns]"
      ]
     },
     "execution_count": 144,
     "metadata": {},
     "output_type": "execute_result"
    }
   ],
   "source": [
    "merged_df_U_k_Relative_2_vertiport_reconstructed"
   ]
  },
  {
   "cell_type": "markdown",
   "metadata": {},
   "source": [
    "# Assuming your dataset is stored in a CSV file named 'dataset.csv'\n",
    "# Adjust the path accordingly if your file is stored elsewhere\n",
    "# dataset_path = 'dataset.csv'\n",
    "\n",
    "# Load the dataset into a pandas DataFrame\n",
    "df = pd.read_csv(dataset_path)\n",
    "\n",
    "def find_nearest_location(X, Y, Z,df):\n",
    "    distances = np.sqrt((df['X'] - X)**2 + (df['Y'] - Y)**2 + (df['Z'] - Z)**2)\n",
    "    nearest_index = distances.idxmin()\n",
    "    return df.loc[nearest_index]\n",
    "\n",
    "def get_U_and_k_for_location(X, Y, Z,df):\n",
    "    location_data = df[(df['X'] == X) & (df['Y'] == Y) & (df['Z'] == Z)]\n",
    "    \n",
    "    if len(location_data) == 0:\n",
    "        nearest_location = find_nearest_location(X, Y, Z,df)\n",
    "        U_value = nearest_location['U']\n",
    "        k_value = nearest_location['k']\n",
    "        return U_value, k_value\n",
    "    else:\n",
    "        U_values = location_data['U'].tolist()\n",
    "        k_values = location_data['k'].tolist()\n",
    "        return U_values, k_values\n",
    "\n",
    "\n"
   ]
  },
  {
   "cell_type": "code",
   "execution_count": 62,
   "metadata": {},
   "outputs": [
    {
     "data": {
      "text/plain": [
       "(8, 375000)"
      ]
     },
     "execution_count": 62,
     "metadata": {},
     "output_type": "execute_result"
    }
   ],
   "source": [
    "U.shape"
   ]
  },
  {
   "cell_type": "markdown",
   "metadata": {},
   "source": [
    "# Velocity from AI"
   ]
  },
  {
   "cell_type": "code",
   "execution_count": 63,
   "metadata": {},
   "outputs": [
    {
     "name": "stdout",
     "output_type": "stream",
     "text": [
      "At (375000, 8)\n",
      "U (375000, 8) S (8,) V (8, 8)\n",
      "Phit (375000, 8) Lt (8,)\n"
     ]
    },
    {
     "data": {
      "image/png": "[encoded data removed]",
      "text/plain": [
       "<Figure size 640x480 with 1 Axes>"
      ]
     },
     "metadata": {},
     "output_type": "display_data"
    }
   ],
   "source": [
    "Um, PhiU, interpolators_U,result_sample1=train_AI_for_winddirection(U.T,'U',nr)"
   ]
  },
  {
   "cell_type": "code",
   "execution_count": 93,
   "metadata": {},
   "outputs": [],
   "source": [
    "# Reconstruct Velocity and turbulent kinetic energy for wind direction"
   ]
  },
  {
   "cell_type": "code",
   "execution_count": 92,
   "metadata": {},
   "outputs": [
    {
     "name": "stdout",
     "output_type": "stream",
     "text": [
      "[157, 350, 241, 113, 179]\n",
      "/media/mandart/D/AI4Hydrop_Prague/ROM/Results/data_POD/U_rbf_interpolators.pkl\n",
      "Coeff for mode 1 is  86.15803487659048\n",
      "Coeff for mode 2 is  200.298063881874\n",
      "Coeff for mode 3 is  -8.623778605764528\n",
      "Coeff for mode 4 is  -11.00558916821958\n",
      "Coeff for mode 5 is  -2.9491816704113916\n",
      "Coeff for mode 6 is  3.6423821892563275\n",
      "Coeff for mode 7 is  0.7923707488695726\n",
      "Coeff for mode 8 is  -0.15679315569445862\n"
     ]
    },
    {
     "name": "stdout",
     "output_type": "stream",
     "text": [
      "CSV file saved successfully: /media/mandart/D/AI4Hydrop_Prague/ROM/Results/data_POD/U_157_Output.csv\n",
      "Transformation completed. Output saved to: /media/mandart/D/AI4Hydrop_Prague/ROM/Results/data_POD/U_157_Output_Transformed.csv\n",
      "Coeff for mode 1 is  -138.06240680614246\n",
      "Coeff for mode 2 is  -145.35666064963948\n",
      "Coeff for mode 3 is  -5.231433016613309\n",
      "Coeff for mode 4 is  -12.485957206269433\n",
      "Coeff for mode 5 is  1.0159276075175612\n",
      "Coeff for mode 6 is  -4.387650173808396\n",
      "Coeff for mode 7 is  3.8334425830945946\n",
      "Coeff for mode 8 is  2.6700557395988653\n",
      "CSV file saved successfully: /media/mandart/D/AI4Hydrop_Prague/ROM/Results/data_POD/U_350_Output.csv\n",
      "Transformation completed. Output saved to: /media/mandart/D/AI4Hydrop_Prague/ROM/Results/data_POD/U_350_Output_Transformed.csv\n",
      "Coeff for mode 1 is  83.05628821869766\n",
      "Coeff for mode 2 is  39.318176608984686\n",
      "Coeff for mode 3 is  -9.45969974939863\n",
      "Coeff for mode 4 is  5.0785621557832314\n",
      "Coeff for mode 5 is  8.323277420992767\n",
      "Coeff for mode 6 is  -8.927512104252337\n",
      "Coeff for mode 7 is  -0.2426387362284217\n",
      "Coeff for mode 8 is  -1.3821682258048043\n",
      "CSV file saved successfully: /media/mandart/D/AI4Hydrop_Prague/ROM/Results/data_POD/U_241_Output.csv\n",
      "Transformation completed. Output saved to: /media/mandart/D/AI4Hydrop_Prague/ROM/Results/data_POD/U_241_Output_Transformed.csv\n",
      "Coeff for mode 1 is  90.93582551894269\n",
      "Coeff for mode 2 is  -15.53724090625201\n",
      "Coeff for mode 3 is  -14.565842453240885\n",
      "Coeff for mode 4 is  2.6576765910337627\n",
      "Coeff for mode 5 is  -7.763090083130521\n",
      "Coeff for mode 6 is  0.19863908390260576\n",
      "Coeff for mode 7 is  6.924687880970332\n",
      "Coeff for mode 8 is  -1.0874829824677477\n",
      "CSV file saved successfully: /media/mandart/D/AI4Hydrop_Prague/ROM/Results/data_POD/U_113_Output.csv\n",
      "Transformation completed. Output saved to: /media/mandart/D/AI4Hydrop_Prague/ROM/Results/data_POD/U_113_Output_Transformed.csv\n",
      "Coeff for mode 1 is  159.73252145284994\n",
      "Coeff for mode 2 is  90.57863246230067\n",
      "Coeff for mode 3 is  -5.793903946631811\n",
      "Coeff for mode 4 is  -11.641409201653964\n",
      "Coeff for mode 5 is  4.958335091262015\n",
      "Coeff for mode 6 is  5.517027305751498\n",
      "Coeff for mode 7 is  -2.890270529342132\n",
      "Coeff for mode 8 is  4.37274590986803\n",
      "CSV file saved successfully: /media/mandart/D/AI4Hydrop_Prague/ROM/Results/data_POD/U_179_Output.csv\n",
      "Transformation completed. Output saved to: /media/mandart/D/AI4Hydrop_Prague/ROM/Results/data_POD/U_179_Output_Transformed.csv\n",
      "25.79753373299991\n"
     ]
    }
   ],
   "source": [
    "wind_direc = [random.randint(0, 360) for _ in range(5)]\n",
    "print(wind_direc)\n",
    "result_samples1,df_transformed,timetaken=reconstruct_AI_for_winddirection(\"U\",wind_direc,nr,fn,vectorU=True)\n",
    "#result_sample1.save('./Results/recon_added_' +'f{variable}'+'.vtk')"
   ]
  },
  {
   "cell_type": "code",
   "execution_count": 66,
   "metadata": {},
   "outputs": [
    {
     "name": "stdout",
     "output_type": "stream",
     "text": [
      "At (125000, 8)\n",
      "U (125000, 8) S (8,) V (8, 8)\n",
      "Phit (125000, 8) Lt (8,)\n"
     ]
    },
    {
     "data": {
      "image/png": "[encoded data removed]",
      "text/plain": [
       "<Figure size 640x480 with 1 Axes>"
      ]
     },
     "metadata": {},
     "output_type": "display_data"
    }
   ],
   "source": [
    "km, kU, interpolators_k,result_sample_k=train_AI_for_winddirection(k.T,'k',nr,vectorU=False)"
   ]
  },
  {
   "cell_type": "code",
   "execution_count": 94,
   "metadata": {},
   "outputs": [
    {
     "data": {
      "text/plain": [
       "'/media/mandart/D/AI4Hydrop_Prague/ROM/Results/data_POD'"
      ]
     },
     "execution_count": 94,
     "metadata": {},
     "output_type": "execute_result"
    }
   ],
   "source": [
    "fn"
   ]
  },
  {
   "cell_type": "code",
   "execution_count": 95,
   "metadata": {},
   "outputs": [
    {
     "name": "stdout",
     "output_type": "stream",
     "text": [
      "[239, 248, 42, 4, 170]\n",
      "/media/mandart/D/AI4Hydrop_Prague/ROM/Results/data_POD/k_rbf_interpolators.pkl\n",
      "Coeff for mode 1 is  57.24855983714315\n",
      "Coeff for mode 2 is  -14.389811324520224\n",
      "Coeff for mode 3 is  -32.07723172133519\n",
      "Coeff for mode 4 is  -10.394690751466015\n",
      "Coeff for mode 5 is  -2.351193657868805\n",
      "Coeff for mode 6 is  9.88468360624502\n",
      "Coeff for mode 7 is  5.910112417491225\n",
      "Coeff for mode 8 is  -3.919714534360942\n"
     ]
    },
    {
     "name": "stdout",
     "output_type": "stream",
     "text": [
      "CSV file saved successfully: /media/mandart/D/AI4Hydrop_Prague/ROM/Results/data_POD/k_239_Output.csv\n",
      "Transformation completed. Output saved to: /media/mandart/D/AI4Hydrop_Prague/ROM/Results/data_POD/k_239_Output_Transformed.csv\n",
      "Coeff for mode 1 is  51.583728802258406\n",
      "Coeff for mode 2 is  16.253131437503157\n",
      "Coeff for mode 3 is  -25.320624092715608\n",
      "Coeff for mode 4 is  -16.50416209909318\n",
      "Coeff for mode 5 is  3.691471350162601\n",
      "Coeff for mode 6 is  7.38056628876609\n",
      "Coeff for mode 7 is  6.393665835609571\n",
      "Coeff for mode 8 is  -3.2553675779767417\n",
      "CSV file saved successfully: /media/mandart/D/AI4Hydrop_Prague/ROM/Results/data_POD/k_248_Output.csv\n",
      "Transformation completed. Output saved to: /media/mandart/D/AI4Hydrop_Prague/ROM/Results/data_POD/k_248_Output_Transformed.csv\n",
      "Coeff for mode 1 is  61.31447331447089\n",
      "Coeff for mode 2 is  55.34685635749872\n",
      "Coeff for mode 3 is  40.91860358095337\n",
      "Coeff for mode 4 is  3.281201705533647\n",
      "Coeff for mode 5 is  -6.658837478315945\n",
      "Coeff for mode 6 is  11.705157102086005\n",
      "Coeff for mode 7 is  -3.9129164203641373\n",
      "Coeff for mode 8 is  2.9846075029459342\n",
      "CSV file saved successfully: /media/mandart/D/AI4Hydrop_Prague/ROM/Results/data_POD/k_42_Output.csv\n",
      "Transformation completed. Output saved to: /media/mandart/D/AI4Hydrop_Prague/ROM/Results/data_POD/k_42_Output_Transformed.csv\n",
      "Coeff for mode 1 is  34.86330632445856\n",
      "Coeff for mode 2 is  14.06373875970587\n",
      "Coeff for mode 3 is  52.874224508903666\n",
      "Coeff for mode 4 is  27.4083409542518\n",
      "Coeff for mode 5 is  11.384402369121517\n",
      "Coeff for mode 6 is  1.2395828800155755\n",
      "Coeff for mode 7 is  0.3107470487476629\n",
      "Coeff for mode 8 is  -5.7239264202339655\n",
      "CSV file saved successfully: /media/mandart/D/AI4Hydrop_Prague/ROM/Results/data_POD/k_4_Output.csv\n",
      "Transformation completed. Output saved to: /media/mandart/D/AI4Hydrop_Prague/ROM/Results/data_POD/k_4_Output_Transformed.csv\n",
      "Coeff for mode 1 is  33.79643730679459\n",
      "Coeff for mode 2 is  22.667222168352396\n",
      "Coeff for mode 3 is  -55.54139692372094\n",
      "Coeff for mode 4 is  26.28594243544471\n",
      "Coeff for mode 5 is  9.13270202089791\n",
      "Coeff for mode 6 is  -4.196818450969602\n",
      "Coeff for mode 7 is  -1.602268453854185\n",
      "Coeff for mode 8 is  4.712518308516948\n",
      "CSV file saved successfully: /media/mandart/D/AI4Hydrop_Prague/ROM/Results/data_POD/k_170_Output.csv\n",
      "Transformation completed. Output saved to: /media/mandart/D/AI4Hydrop_Prague/ROM/Results/data_POD/k_170_Output_Transformed.csv\n",
      "22.608607641000162\n"
     ]
    }
   ],
   "source": [
    "wind_direc = [random.randint(0, 360) for _ in range(5)]\n",
    "print(wind_direc)\n",
    "result_samples_k,df_k_offset,timetaken=reconstruct_AI_for_winddirection(\"k\",wind_direc,nr,fn,vectorU=False)"
   ]
  },
  {
   "cell_type": "code",
   "execution_count": 100,
   "metadata": {},
   "outputs": [
    {
     "data": {
      "text/html": [
       "<div>\n",
       "<style scoped>\n",
       "    .dataframe tbody tr th:only-of-type {\n",
       "        vertical-align: middle;\n",
       "    }\n",
       "\n",
       "    .dataframe tbody tr th {\n",
       "        vertical-align: top;\n",
       "    }\n",
       "\n",
       "    .dataframe thead th {\n",
       "        text-align: right;\n",
       "    }\n",
       "</style>\n",
       "<table border=\"1\" class=\"dataframe\">\n",
       "  <thead>\n",
       "    <tr style=\"text-align: right;\">\n",
       "      <th></th>\n",
       "      <th>X</th>\n",
       "      <th>Y</th>\n",
       "      <th>Z</th>\n",
       "      <th>tke</th>\n",
       "    </tr>\n",
       "  </thead>\n",
       "  <tbody>\n",
       "    <tr>\n",
       "      <th>0</th>\n",
       "      <td>-500.0</td>\n",
       "      <td>-450.013000</td>\n",
       "      <td>245.558</td>\n",
       "      <td>-0.000013</td>\n",
       "    </tr>\n",
       "    <tr>\n",
       "      <th>1</th>\n",
       "      <td>-500.0</td>\n",
       "      <td>-431.645102</td>\n",
       "      <td>245.558</td>\n",
       "      <td>-0.000013</td>\n",
       "    </tr>\n",
       "    <tr>\n",
       "      <th>2</th>\n",
       "      <td>-500.0</td>\n",
       "      <td>-413.277204</td>\n",
       "      <td>245.558</td>\n",
       "      <td>-0.000013</td>\n",
       "    </tr>\n",
       "    <tr>\n",
       "      <th>3</th>\n",
       "      <td>-500.0</td>\n",
       "      <td>-394.909306</td>\n",
       "      <td>245.558</td>\n",
       "      <td>-0.000013</td>\n",
       "    </tr>\n",
       "    <tr>\n",
       "      <th>4</th>\n",
       "      <td>-500.0</td>\n",
       "      <td>-376.541408</td>\n",
       "      <td>245.558</td>\n",
       "      <td>-0.000013</td>\n",
       "    </tr>\n",
       "    <tr>\n",
       "      <th>...</th>\n",
       "      <td>...</td>\n",
       "      <td>...</td>\n",
       "      <td>...</td>\n",
       "      <td>...</td>\n",
       "    </tr>\n",
       "    <tr>\n",
       "      <th>124995</th>\n",
       "      <td>500.0</td>\n",
       "      <td>376.542408</td>\n",
       "      <td>529.000</td>\n",
       "      <td>0.355924</td>\n",
       "    </tr>\n",
       "    <tr>\n",
       "      <th>124996</th>\n",
       "      <td>500.0</td>\n",
       "      <td>394.910306</td>\n",
       "      <td>529.000</td>\n",
       "      <td>0.353359</td>\n",
       "    </tr>\n",
       "    <tr>\n",
       "      <th>124997</th>\n",
       "      <td>500.0</td>\n",
       "      <td>413.278204</td>\n",
       "      <td>529.000</td>\n",
       "      <td>0.350703</td>\n",
       "    </tr>\n",
       "    <tr>\n",
       "      <th>124998</th>\n",
       "      <td>500.0</td>\n",
       "      <td>431.646102</td>\n",
       "      <td>529.000</td>\n",
       "      <td>0.348000</td>\n",
       "    </tr>\n",
       "    <tr>\n",
       "      <th>124999</th>\n",
       "      <td>500.0</td>\n",
       "      <td>450.014000</td>\n",
       "      <td>529.000</td>\n",
       "      <td>-0.000013</td>\n",
       "    </tr>\n",
       "  </tbody>\n",
       "</table>\n",
       "<p>125000 rows × 4 columns</p>\n",
       "</div>"
      ],
      "text/plain": [
       "            X           Y        Z       tke\n",
       "0      -500.0 -450.013000  245.558 -0.000013\n",
       "1      -500.0 -431.645102  245.558 -0.000013\n",
       "2      -500.0 -413.277204  245.558 -0.000013\n",
       "3      -500.0 -394.909306  245.558 -0.000013\n",
       "4      -500.0 -376.541408  245.558 -0.000013\n",
       "...       ...         ...      ...       ...\n",
       "124995  500.0  376.542408  529.000  0.355924\n",
       "124996  500.0  394.910306  529.000  0.353359\n",
       "124997  500.0  413.278204  529.000  0.350703\n",
       "124998  500.0  431.646102  529.000  0.348000\n",
       "124999  500.0  450.014000  529.000 -0.000013\n",
       "\n",
       "[125000 rows x 4 columns]"
      ]
     },
     "execution_count": 100,
     "metadata": {},
     "output_type": "execute_result"
    }
   ],
   "source": [
    "df_k_offset"
   ]
  },
  {
   "cell_type": "code",
   "execution_count": 99,
   "metadata": {},
   "outputs": [
    {
     "data": {
      "text/html": [
       "<div>\n",
       "<style scoped>\n",
       "    .dataframe tbody tr th:only-of-type {\n",
       "        vertical-align: middle;\n",
       "    }\n",
       "\n",
       "    .dataframe tbody tr th {\n",
       "        vertical-align: top;\n",
       "    }\n",
       "\n",
       "    .dataframe thead th {\n",
       "        text-align: right;\n",
       "    }\n",
       "</style>\n",
       "<table border=\"1\" class=\"dataframe\">\n",
       "  <thead>\n",
       "    <tr style=\"text-align: right;\">\n",
       "      <th></th>\n",
       "      <th>X</th>\n",
       "      <th>Y</th>\n",
       "      <th>Z</th>\n",
       "      <th>Velocity_X_</th>\n",
       "      <th>Velocity_Y_</th>\n",
       "      <th>Velocity_Z_</th>\n",
       "    </tr>\n",
       "  </thead>\n",
       "  <tbody>\n",
       "    <tr>\n",
       "      <th>0</th>\n",
       "      <td>-500.0</td>\n",
       "      <td>-450.013000</td>\n",
       "      <td>245.558</td>\n",
       "      <td>6.930126e-10</td>\n",
       "      <td>6.926908e-10</td>\n",
       "      <td>6.926908e-10</td>\n",
       "    </tr>\n",
       "    <tr>\n",
       "      <th>1</th>\n",
       "      <td>-500.0</td>\n",
       "      <td>-431.645102</td>\n",
       "      <td>245.558</td>\n",
       "      <td>6.926908e-10</td>\n",
       "      <td>6.926908e-10</td>\n",
       "      <td>6.926908e-10</td>\n",
       "    </tr>\n",
       "    <tr>\n",
       "      <th>2</th>\n",
       "      <td>-500.0</td>\n",
       "      <td>-413.277204</td>\n",
       "      <td>245.558</td>\n",
       "      <td>6.926908e-10</td>\n",
       "      <td>6.926908e-10</td>\n",
       "      <td>6.926908e-10</td>\n",
       "    </tr>\n",
       "    <tr>\n",
       "      <th>3</th>\n",
       "      <td>-500.0</td>\n",
       "      <td>-394.909306</td>\n",
       "      <td>245.558</td>\n",
       "      <td>6.926908e-10</td>\n",
       "      <td>6.926908e-10</td>\n",
       "      <td>6.926908e-10</td>\n",
       "    </tr>\n",
       "    <tr>\n",
       "      <th>4</th>\n",
       "      <td>-500.0</td>\n",
       "      <td>-376.541408</td>\n",
       "      <td>245.558</td>\n",
       "      <td>6.926908e-10</td>\n",
       "      <td>6.926908e-10</td>\n",
       "      <td>6.926908e-10</td>\n",
       "    </tr>\n",
       "    <tr>\n",
       "      <th>...</th>\n",
       "      <td>...</td>\n",
       "      <td>...</td>\n",
       "      <td>...</td>\n",
       "      <td>...</td>\n",
       "      <td>...</td>\n",
       "      <td>...</td>\n",
       "    </tr>\n",
       "    <tr>\n",
       "      <th>124995</th>\n",
       "      <td>500.0</td>\n",
       "      <td>376.542408</td>\n",
       "      <td>529.000</td>\n",
       "      <td>-2.550472e-02</td>\n",
       "      <td>6.599885e-01</td>\n",
       "      <td>-6.478669e-03</td>\n",
       "    </tr>\n",
       "    <tr>\n",
       "      <th>124996</th>\n",
       "      <td>500.0</td>\n",
       "      <td>394.910306</td>\n",
       "      <td>529.000</td>\n",
       "      <td>-2.550015e-02</td>\n",
       "      <td>6.594477e-01</td>\n",
       "      <td>-6.451907e-03</td>\n",
       "    </tr>\n",
       "    <tr>\n",
       "      <th>124997</th>\n",
       "      <td>500.0</td>\n",
       "      <td>413.278204</td>\n",
       "      <td>529.000</td>\n",
       "      <td>-2.549619e-02</td>\n",
       "      <td>6.589119e-01</td>\n",
       "      <td>-6.389843e-03</td>\n",
       "    </tr>\n",
       "    <tr>\n",
       "      <th>124998</th>\n",
       "      <td>500.0</td>\n",
       "      <td>431.646102</td>\n",
       "      <td>529.000</td>\n",
       "      <td>-2.549323e-02</td>\n",
       "      <td>6.583826e-01</td>\n",
       "      <td>-6.315094e-03</td>\n",
       "    </tr>\n",
       "    <tr>\n",
       "      <th>124999</th>\n",
       "      <td>500.0</td>\n",
       "      <td>450.014000</td>\n",
       "      <td>529.000</td>\n",
       "      <td>6.926908e-10</td>\n",
       "      <td>6.926908e-10</td>\n",
       "      <td>6.926908e-10</td>\n",
       "    </tr>\n",
       "  </tbody>\n",
       "</table>\n",
       "<p>125000 rows × 6 columns</p>\n",
       "</div>"
      ],
      "text/plain": [
       "            X           Y        Z   Velocity_X_   Velocity_Y_   Velocity_Z_\n",
       "0      -500.0 -450.013000  245.558  6.930126e-10  6.926908e-10  6.926908e-10\n",
       "1      -500.0 -431.645102  245.558  6.926908e-10  6.926908e-10  6.926908e-10\n",
       "2      -500.0 -413.277204  245.558  6.926908e-10  6.926908e-10  6.926908e-10\n",
       "3      -500.0 -394.909306  245.558  6.926908e-10  6.926908e-10  6.926908e-10\n",
       "4      -500.0 -376.541408  245.558  6.926908e-10  6.926908e-10  6.926908e-10\n",
       "...       ...         ...      ...           ...           ...           ...\n",
       "124995  500.0  376.542408  529.000 -2.550472e-02  6.599885e-01 -6.478669e-03\n",
       "124996  500.0  394.910306  529.000 -2.550015e-02  6.594477e-01 -6.451907e-03\n",
       "124997  500.0  413.278204  529.000 -2.549619e-02  6.589119e-01 -6.389843e-03\n",
       "124998  500.0  431.646102  529.000 -2.549323e-02  6.583826e-01 -6.315094e-03\n",
       "124999  500.0  450.014000  529.000  6.926908e-10  6.926908e-10  6.926908e-10\n",
       "\n",
       "[125000 rows x 6 columns]"
      ]
     },
     "execution_count": 99,
     "metadata": {},
     "output_type": "execute_result"
    }
   ],
   "source": [
    "df_transformed"
   ]
  },
  {
   "cell_type": "code",
   "execution_count": 105,
   "metadata": {},
   "outputs": [],
   "source": [
    "merged_df_U_k_Relative_2_vertiport_reconstructed = pd.merge(df_k_offset, df_transformed, on=['X','Y','Z'], how='outer')"
   ]
  },
  {
   "cell_type": "code",
   "execution_count": 106,
   "metadata": {},
   "outputs": [
    {
     "data": {
      "text/plain": [
       "'/media/mandart/D/AI4Hydrop_Prague/ROM/Results/data_POD'"
      ]
     },
     "execution_count": 106,
     "metadata": {},
     "output_type": "execute_result"
    }
   ],
   "source": [
    "fn"
   ]
  },
  {
   "cell_type": "code",
   "execution_count": 145,
   "metadata": {},
   "outputs": [],
   "source": [
    "import math\n",
    "ref_long_at_vertiport=14.4379744\n",
    "ref_latitude_at_vertiport=50.0499086\n",
    "#Latitude is the Y axis, longitude is the X axis. Belo since X,Y are relative to vertiport. Hence, we use this to obtain relative change in latitude/long from vertiport. then add reference to this change to get actual latitude and longitude.\n",
    "merged_df_U_k_Relative_2_vertiport_reconstructed['latitude']=(merged_df_U_k_Relative_2_vertiport_reconstructed['Y'] / 111139)+ref_latitude_at_vertiport\n",
    "lat_rad= math.radians(ref_latitude_at_vertiport) #merged_df_U_k_Relative_2_vertiport_reconstructed['latitude'].apply(math.radians)\n",
    "#lat_rad.apply(math.cos)\n",
    "cos_lat_rad=math.cos(lat_rad)\n",
    "merged_df_U_k_Relative_2_vertiport_reconstructed['longitude']=(merged_df_U_k_Relative_2_vertiport_reconstructed['X'] / (111139 * cos_lat_rad))+ref_long_at_vertiport"
   ]
  },
  {
   "cell_type": "code",
   "execution_count": 129,
   "metadata": {},
   "outputs": [],
   "source": [
    "merged_df_U_k_Relative_2_vertiport_reconstructed.to_pickle(fn+'/'+'merged')"
   ]
  },
  {
   "cell_type": "code",
   "execution_count": 130,
   "metadata": {},
   "outputs": [
    {
     "data": {
      "text/html": [
       "<div>\n",
       "<style scoped>\n",
       "    .dataframe tbody tr th:only-of-type {\n",
       "        vertical-align: middle;\n",
       "    }\n",
       "\n",
       "    .dataframe tbody tr th {\n",
       "        vertical-align: top;\n",
       "    }\n",
       "\n",
       "    .dataframe thead th {\n",
       "        text-align: right;\n",
       "    }\n",
       "</style>\n",
       "<table border=\"1\" class=\"dataframe\">\n",
       "  <thead>\n",
       "    <tr style=\"text-align: right;\">\n",
       "      <th></th>\n",
       "      <th>X</th>\n",
       "      <th>Y</th>\n",
       "      <th>Z</th>\n",
       "      <th>tke</th>\n",
       "      <th>Velocity_X_</th>\n",
       "      <th>Velocity_Y_</th>\n",
       "      <th>Velocity_Z_</th>\n",
       "      <th>latitude</th>\n",
       "      <th>longitude</th>\n",
       "    </tr>\n",
       "  </thead>\n",
       "  <tbody>\n",
       "    <tr>\n",
       "      <th>0</th>\n",
       "      <td>-500.0</td>\n",
       "      <td>-450.013</td>\n",
       "      <td>245.558000</td>\n",
       "      <td>-0.000013</td>\n",
       "      <td>6.930126e-10</td>\n",
       "      <td>6.926908e-10</td>\n",
       "      <td>6.926908e-10</td>\n",
       "      <td>50.045859</td>\n",
       "      <td>14.430968</td>\n",
       "    </tr>\n",
       "    <tr>\n",
       "      <th>1</th>\n",
       "      <td>-500.0</td>\n",
       "      <td>-450.013</td>\n",
       "      <td>251.342531</td>\n",
       "      <td>-0.000013</td>\n",
       "      <td>6.926908e-10</td>\n",
       "      <td>6.926908e-10</td>\n",
       "      <td>6.926908e-10</td>\n",
       "      <td>50.045859</td>\n",
       "      <td>14.430968</td>\n",
       "    </tr>\n",
       "    <tr>\n",
       "      <th>2</th>\n",
       "      <td>-500.0</td>\n",
       "      <td>-450.013</td>\n",
       "      <td>257.127061</td>\n",
       "      <td>-0.000013</td>\n",
       "      <td>6.926908e-10</td>\n",
       "      <td>6.926908e-10</td>\n",
       "      <td>6.926908e-10</td>\n",
       "      <td>50.045859</td>\n",
       "      <td>14.430968</td>\n",
       "    </tr>\n",
       "    <tr>\n",
       "      <th>3</th>\n",
       "      <td>-500.0</td>\n",
       "      <td>-450.013</td>\n",
       "      <td>262.911592</td>\n",
       "      <td>-0.000013</td>\n",
       "      <td>6.926908e-10</td>\n",
       "      <td>6.926908e-10</td>\n",
       "      <td>6.926908e-10</td>\n",
       "      <td>50.045859</td>\n",
       "      <td>14.430968</td>\n",
       "    </tr>\n",
       "    <tr>\n",
       "      <th>4</th>\n",
       "      <td>-500.0</td>\n",
       "      <td>-450.013</td>\n",
       "      <td>268.696122</td>\n",
       "      <td>-0.000013</td>\n",
       "      <td>6.926908e-10</td>\n",
       "      <td>6.926908e-10</td>\n",
       "      <td>6.926908e-10</td>\n",
       "      <td>50.045859</td>\n",
       "      <td>14.430968</td>\n",
       "    </tr>\n",
       "    <tr>\n",
       "      <th>...</th>\n",
       "      <td>...</td>\n",
       "      <td>...</td>\n",
       "      <td>...</td>\n",
       "      <td>...</td>\n",
       "      <td>...</td>\n",
       "      <td>...</td>\n",
       "      <td>...</td>\n",
       "      <td>...</td>\n",
       "      <td>...</td>\n",
       "    </tr>\n",
       "    <tr>\n",
       "      <th>124995</th>\n",
       "      <td>500.0</td>\n",
       "      <td>450.014</td>\n",
       "      <td>505.861878</td>\n",
       "      <td>-0.000013</td>\n",
       "      <td>6.926908e-10</td>\n",
       "      <td>6.926908e-10</td>\n",
       "      <td>6.926908e-10</td>\n",
       "      <td>50.053958</td>\n",
       "      <td>14.444981</td>\n",
       "    </tr>\n",
       "    <tr>\n",
       "      <th>124996</th>\n",
       "      <td>500.0</td>\n",
       "      <td>450.014</td>\n",
       "      <td>511.646408</td>\n",
       "      <td>-0.000013</td>\n",
       "      <td>6.926908e-10</td>\n",
       "      <td>6.926908e-10</td>\n",
       "      <td>6.926908e-10</td>\n",
       "      <td>50.053958</td>\n",
       "      <td>14.444981</td>\n",
       "    </tr>\n",
       "    <tr>\n",
       "      <th>124997</th>\n",
       "      <td>500.0</td>\n",
       "      <td>450.014</td>\n",
       "      <td>517.430939</td>\n",
       "      <td>-0.000013</td>\n",
       "      <td>6.926908e-10</td>\n",
       "      <td>6.926908e-10</td>\n",
       "      <td>6.926908e-10</td>\n",
       "      <td>50.053958</td>\n",
       "      <td>14.444981</td>\n",
       "    </tr>\n",
       "    <tr>\n",
       "      <th>124998</th>\n",
       "      <td>500.0</td>\n",
       "      <td>450.014</td>\n",
       "      <td>523.215469</td>\n",
       "      <td>-0.000013</td>\n",
       "      <td>6.926908e-10</td>\n",
       "      <td>6.926908e-10</td>\n",
       "      <td>6.926908e-10</td>\n",
       "      <td>50.053958</td>\n",
       "      <td>14.444981</td>\n",
       "    </tr>\n",
       "    <tr>\n",
       "      <th>124999</th>\n",
       "      <td>500.0</td>\n",
       "      <td>450.014</td>\n",
       "      <td>529.000000</td>\n",
       "      <td>-0.000013</td>\n",
       "      <td>6.926908e-10</td>\n",
       "      <td>6.926908e-10</td>\n",
       "      <td>6.926908e-10</td>\n",
       "      <td>50.053958</td>\n",
       "      <td>14.444981</td>\n",
       "    </tr>\n",
       "  </tbody>\n",
       "</table>\n",
       "<p>125000 rows × 9 columns</p>\n",
       "</div>"
      ],
      "text/plain": [
       "            X        Y           Z       tke   Velocity_X_   Velocity_Y_  \\\n",
       "0      -500.0 -450.013  245.558000 -0.000013  6.930126e-10  6.926908e-10   \n",
       "1      -500.0 -450.013  251.342531 -0.000013  6.926908e-10  6.926908e-10   \n",
       "2      -500.0 -450.013  257.127061 -0.000013  6.926908e-10  6.926908e-10   \n",
       "3      -500.0 -450.013  262.911592 -0.000013  6.926908e-10  6.926908e-10   \n",
       "4      -500.0 -450.013  268.696122 -0.000013  6.926908e-10  6.926908e-10   \n",
       "...       ...      ...         ...       ...           ...           ...   \n",
       "124995  500.0  450.014  505.861878 -0.000013  6.926908e-10  6.926908e-10   \n",
       "124996  500.0  450.014  511.646408 -0.000013  6.926908e-10  6.926908e-10   \n",
       "124997  500.0  450.014  517.430939 -0.000013  6.926908e-10  6.926908e-10   \n",
       "124998  500.0  450.014  523.215469 -0.000013  6.926908e-10  6.926908e-10   \n",
       "124999  500.0  450.014  529.000000 -0.000013  6.926908e-10  6.926908e-10   \n",
       "\n",
       "         Velocity_Z_   latitude  longitude  \n",
       "0       6.926908e-10  50.045859  14.430968  \n",
       "1       6.926908e-10  50.045859  14.430968  \n",
       "2       6.926908e-10  50.045859  14.430968  \n",
       "3       6.926908e-10  50.045859  14.430968  \n",
       "4       6.926908e-10  50.045859  14.430968  \n",
       "...              ...        ...        ...  \n",
       "124995  6.926908e-10  50.053958  14.444981  \n",
       "124996  6.926908e-10  50.053958  14.444981  \n",
       "124997  6.926908e-10  50.053958  14.444981  \n",
       "124998  6.926908e-10  50.053958  14.444981  \n",
       "124999  6.926908e-10  50.053958  14.444981  \n",
       "\n",
       "[125000 rows x 9 columns]"
      ]
     },
     "execution_count": 130,
     "metadata": {},
     "output_type": "execute_result"
    }
   ],
   "source": [
    "merged_df_U_k_Relative_2_vertiport_reconstructed"
   ]
  },
  {
   "cell_type": "code",
   "execution_count": 149,
   "metadata": {},
   "outputs": [
    {
     "name": "stdout",
     "output_type": "stream",
     "text": [
      "using nearest based on distance\n",
      "U values: 0.1871394129298132\n",
      "k values: 0.013664962514020829\n",
      "X               91.836735\n",
      "Y              192.863429\n",
      "Z              268.696122\n",
      "tke              0.013665\n",
      "Velocity_X_     -0.059364\n",
      "Velocity_Y_      0.177378\n",
      "Velocity_Z_     -0.005838\n",
      "latitude        50.051644\n",
      "longitude       14.439261\n",
      "Name: 74254, dtype: float64\n"
     ]
    }
   ],
   "source": [
    "# Example usage: Z>267,-400>X>400,-400>Y>400\n",
    "X_input = 100  # Change this to the X coordinate you want to search for\n",
    "Y_input = 200  # Change this to the Y coordinate you want to search for\n",
    "Z_input = 269  # Change this to the Z coordinate you want to search for\n",
    "\n",
    "U_values_found, k_values_found,Ucomponent,dataset_nearest = get_U_and_k_for_location(X_input, Y_input, Z_input,merged_df_U_k_Relative_2_vertiport_reconstructed)\n",
    "print(\"U values:\", U_values_found)\n",
    "print(\"k values:\", k_values_found)\n",
    "print(dataset_nearest)\n",
    " "
   ]
  },
  {
   "cell_type": "code",
   "execution_count": 156,
   "metadata": {},
   "outputs": [
    {
     "ename": "TypeError",
     "evalue": "cannot unpack non-iterable NoneType object",
     "output_type": "error",
     "traceback": [
      "\u001b[0;31m---------------------------------------------------------------------------\u001b[0m",
      "\u001b[0;31mTypeError\u001b[0m                                 Traceback (most recent call last)",
      "Cell \u001b[0;32mIn[156], line 1\u001b[0m\n\u001b[0;32m----> 1\u001b[0m U_values_foundlat, k_values_foundlat,Ucomponent,dataset_nearest_latlong \u001b[38;5;241m=\u001b[39mget_U_and_k_for_location(\u001b[38;5;241m14.439261\u001b[39m,\u001b[38;5;241m50.051644\u001b[39m,Z_input,merged_df_U_k_Relative_2_vertiport_reconstructed,relative_distance_in_meter__or__Latlong\u001b[38;5;241m=\u001b[39m\u001b[38;5;124m'\u001b[39m\u001b[38;5;124mrelative_distance_inlat\u001b[39m\u001b[38;5;124m'\u001b[39m)\n\u001b[1;32m      2\u001b[0m \u001b[38;5;28mprint\u001b[39m(dataset_nearest_latlong)\n",
      "\u001b[0;31mTypeError\u001b[0m: cannot unpack non-iterable NoneType object"
     ]
    }
   ],
   "source": [
    "U_values_foundlat, k_values_foundlat,Ucomponent,dataset_nearest_latlong =get_U_and_k_for_location(14.439261,50.051644,Z_input,merged_df_U_k_Relative_2_vertiport_reconstructed,relative_distance_in_meter__or__Latlong='relative_distance_inlat')\n",
    "print(dataset_nearest_latlong)"
   ]
  },
  {
   "cell_type": "code",
   "execution_count": null,
   "metadata": {},
   "outputs": [],
   "source": [
    "latitude        50.051644\n",
    "longitude       14.439261"
   ]
  },
  {
   "cell_type": "code",
   "execution_count": 111,
   "metadata": {},
   "outputs": [
    {
     "data": {
      "text/plain": [
       "X             -5.000000e+02\n",
       "Y              2.847029e+02\n",
       "Z              2.455580e+02\n",
       "tke           -1.301730e-05\n",
       "Velocity_X_    6.926908e-10\n",
       "Velocity_Y_    6.926908e-10\n",
       "Velocity_Z_    6.926908e-10\n",
       "Name: 2000, dtype: float64"
      ]
     },
     "execution_count": 111,
     "metadata": {},
     "output_type": "execute_result"
    }
   ],
   "source": [
    "merged_df_U_k_Relative_2_vertiport_reconstructed.loc[2000]"
   ]
  },
  {
   "cell_type": "code",
   "execution_count": 69,
   "metadata": {},
   "outputs": [],
   "source": [
    "result_samples_k.save('./Results/recon_added_' +'k_var'+'.vtk')"
   ]
  },
  {
   "cell_type": "markdown",
   "metadata": {},
   "source": [
    "csv_file = fn+'/'+ f'U'+'_'+str(wind_dir)+'_Output.csv'     \n",
    "df=pd.read_csv(csv_file)\n",
    "#Make vertiport at 0,0,267. x=x-1480,y=y+2120,z=z+229.\n",
    "deltaX=-1480\n",
    "deltaY=2120\n",
    "deltaZ=229\n",
    "df=offset_dataset(deltaX,deltaY,deltaZ,df)\n",
    "df.to_csv(fn+'/'+ f'{variable}'+'_'+str(wind_dir)+'_Output_Transformed.csv', index=False)\n",
    "\n",
    "print(\"Transformation completed. Output saved to:\", output_path)"
   ]
  },
  {
   "cell_type": "code",
   "execution_count": 70,
   "metadata": {},
   "outputs": [],
   "source": [
    "#Below is code for k\n",
    "# Things to do :\n",
    "\n",
    "#Test the above function for tke_at_wind_dire\n",
    "#Save reconstructed into format X,Y,Z,U,V,W,k using ROM_windturbine.ipynb\n",
    "#Convert X,Y,Z into latl/long and UTM.\n",
    "#Code to obtain U and k from the nearest chosen lat/long and UTM.\n",
    "\n",
    "\n",
    "#Attempt to take feedback\n",
    "\n",
    "# Do U and k for all wind speeds using windspeed as one of rbf interpolators\n"
   ]
  },
  {
   "cell_type": "code",
   "execution_count": 74,
   "metadata": {},
   "outputs": [],
   "source": [
    "# ENDS HERE\n",
    "\n",
    "#  ---------------------------------------------------------------------------------------\n",
    "\n",
    "#  ----------------------------------------------------------------------------------"
   ]
  },
  {
   "cell_type": "markdown",
   "metadata": {},
   "source": [
    "result_sample_k"
   ]
  },
  {
   "cell_type": "markdown",
   "metadata": {},
   "source": [
    "tm,Phit,Lt,RICt=POD_svd(k1,nr) #mean tke, tke basis functions (modes) , magnitude (energy) , relative importance of modes. "
   ]
  },
  {
   "cell_type": "markdown",
   "metadata": {},
   "source": [
    "Phit.shape"
   ]
  },
  {
   "cell_type": "markdown",
   "metadata": {},
   "source": [
    "# "
   ]
  },
  {
   "cell_type": "markdown",
   "metadata": {},
   "source": [
    "# Obtain POD true coefficients \n",
    "#### by projecting the data (without the mean) on the basis functions\n",
    "##### for turbulent kinetic energy"
   ]
  },
  {
   "cell_type": "markdown",
   "metadata": {},
   "source": [
    "k1_wo_mean = k1-tm\n",
    "\n",
    "tcoeff = PODproj_svd(k1_wo_mean,Phit)"
   ]
  },
  {
   "cell_type": "markdown",
   "metadata": {},
   "source": [
    "tcoeff.shape"
   ]
  },
  {
   "cell_type": "markdown",
   "metadata": {},
   "source": [
    "### TKE mean value below"
   ]
  },
  {
   "cell_type": "markdown",
   "metadata": {
    "scrolled": true
   },
   "source": [
    "tm"
   ]
  },
  {
   "cell_type": "markdown",
   "metadata": {},
   "source": [
    "# create plots folder\n",
    "fn=\"./Plots1\"\n",
    "if os.path.isdir(fn):\n",
    "    print('Plots folder already exists')\n",
    "else: \n",
    "    print('Creating plots folder')\n",
    "    os.makedirs(fn)"
   ]
  },
  {
   "cell_type": "markdown",
   "metadata": {},
   "source": [
    "# Plot variance/energy captured by modes"
   ]
  },
  {
   "cell_type": "markdown",
   "metadata": {},
   "source": [
    "fig = plt.figure()\n",
    "plt.plot(range(1,nr+1),np.cumsum(Lt)/sum(Lt)*100)\n",
    "fig.suptitle('Energy in Turbulent kinetic energy basis modes', fontsize=16)\n",
    "plt.xlabel('Modes ', fontsize=16)\n",
    "plt.ylabel('Cumulative Energy, %', fontsize=16)\n",
    "fig.savefig(fn+'/Cumulative_Energy_Velocity.png')\n",
    "fig.savefig(fn+'/Cumulative_Energy_Velocity.pdf')"
   ]
  },
  {
   "cell_type": "markdown",
   "metadata": {},
   "source": [
    "# Save all POD modes in VTK format for visualization in paraview"
   ]
  },
  {
   "cell_type": "markdown",
   "metadata": {},
   "source": [
    "grid_structured"
   ]
  },
  {
   "cell_type": "markdown",
   "metadata": {},
   "source": [
    "grid_structured.save('test.vtk')"
   ]
  },
  {
   "cell_type": "markdown",
   "metadata": {},
   "source": [
    "for i in range(nr): #nr , first 5 modes saved.\n",
    "    grid_structured.cell_data[\"TKE_mode_\"+str(i)]=Phit[:,i]\n",
    "    "
   ]
  },
  {
   "cell_type": "markdown",
   "metadata": {},
   "source": [
    "#Note: Pyvisa visualization not working now. So, visualize in paraview.\n",
    "grid_structured.point_data"
   ]
  },
  {
   "cell_type": "markdown",
   "metadata": {},
   "source": [
    "#Important basis modes saved in new VTK files\n",
    "grid.save('Basisadded.vtk')"
   ]
  },
  {
   "cell_type": "markdown",
   "metadata": {},
   "source": [
    "nr,ns"
   ]
  },
  {
   "cell_type": "markdown",
   "metadata": {},
   "source": [
    "# Save POD data and VTK files"
   ]
  },
  {
   "cell_type": "markdown",
   "metadata": {},
   "source": [
    "# Save POD data and VTK files\n",
    "\n",
    "folder = 'data_POD' #str(nx) + '_' + str(ny)       \n",
    "\n",
    "if not os.path.exists('./Results/'+folder):\n",
    "    os.makedirs('./Results/'+folder)\n",
    "\n",
    "filename = './Results/'+folder+'/POD_data_k.npz'\n",
    "np.savez(filename, tmean=tm, tbasis=Phit,tcoeff=tcoeff,teigenvalues=Lt,tric=RICt)\n",
    "    "
   ]
  },
  {
   "cell_type": "raw",
   "metadata": {},
   "source": [
    "#loading from npz file - all keys as variables.\n",
    "locals().update(PODdata) \n",
    "# In the Ipython session, locals() is a large dictionary with variables the you've defined,\n",
    "# the input history lines, and various outputs. update adds the dictionary values of npzfile \n",
    "# to that larger one. for item in PODdata.files:\n",
    "#print(item,type(item))\n",
    " #   item=PODdata[item]\n"
   ]
  },
  {
   "cell_type": "markdown",
   "metadata": {},
   "source": [
    "Phit.shape"
   ]
  },
  {
   "cell_type": "markdown",
   "metadata": {},
   "source": [
    "tcoeff.shape"
   ]
  },
  {
   "cell_type": "markdown",
   "metadata": {},
   "source": [
    "res[:8]"
   ]
  },
  {
   "cell_type": "markdown",
   "metadata": {},
   "source": [
    "# Interpolate True Coefficient as function of wind direction using Radial basis function"
   ]
  },
  {
   "cell_type": "markdown",
   "metadata": {},
   "source": [
    "input_feature=[90,45,315,360,135,225,180,270] #[E,NE,NW,N,SE,SW,S,W] wind direction is named after the direction from which the wind is coming."
   ]
  },
  {
   "cell_type": "markdown",
   "metadata": {},
   "source": [
    "# Wind direction is a cyclic feature . So convert it into a form required for  input feature into form required.\n"
   ]
  },
  {
   "cell_type": "markdown",
   "metadata": {},
   "source": [
    "input_feature"
   ]
  },
  {
   "cell_type": "raw",
   "metadata": {},
   "source": [
    "#No needed, tried to convert in radians. Not needed.\n",
    "deg_to_rad=np.array(input_feature)*np.pi/180\n",
    "np.radians(np.array(input_feature))\n",
    "max_deg_to_rad=360*np.pi/180 #i.e 2*pi\n",
    "xsin = np.sin(2 * np.pi * deg_to_rad/max_deg_to_rad)\n",
    "xcos= np.cos(2 * np.pi * deg_to_rad/max_deg_to_rad)\n",
    "plt.plot(xsin,xcos,'x')\n",
    "plt.plot(np.sin(2 * np.pi *(0.5/360)),np.cos(2 * np.pi *0.5/360),'o',label='0.5')\n",
    "plt.plot(np.sin(2 * np.pi *(355/360)),np.cos(2 * np.pi *355/360),'o',label='355')\n",
    "plt.plot(np.sin(2 * np.pi *(180/360)),np.cos(2 * np.pi *180/360),'o',label='180')\n",
    "#plt.plot(np.sin(2 * np.pi *(180*np.pi/180)/360),np.cos(2 * np.pi *(180*np.pi/180)/360),'o')\n",
    "plt.legend()"
   ]
  },
  {
   "cell_type": "markdown",
   "metadata": {},
   "source": [
    "### Convert cyclic features"
   ]
  },
  {
   "cell_type": "markdown",
   "metadata": {},
   "source": [
    "data=np.array(input_feature)\n",
    "max_value=360\n",
    "xsin1=np.sin(2 * np.pi * data / max_value)\n",
    "xcos1=np.cos(2 * np.pi * data / max_value)\n",
    "plt.plot(xsin1,xcos1,'x')\n",
    "plt.plot(np.sin(2 * np.pi *(0.5/360)),np.cos(2 * np.pi *0.5/360),'o',label='0.5')\n",
    "plt.plot(np.sin(2 * np.pi *(355/360)),np.cos(2 * np.pi *355/360),'o',label='355')\n",
    "    "
   ]
  },
  {
   "cell_type": "markdown",
   "metadata": {},
   "source": [
    "res"
   ]
  },
  {
   "cell_type": "markdown",
   "metadata": {},
   "source": [
    "North (N): 0° = 360°\n",
    "East (E): 90°\n",
    "South (S): 180°\n",
    "West (W): 270°\n",
    "Intercardinal directions\n",
    "The intercardinal (intermediate, or, historically, ordinal[2]) directions are the four intermediate compass directions located halfway between each pair of cardinal directions.\n",
    "\n",
    "Northeast (NE), 45°, halfway between north and east, is the opposite of southwest.\n",
    "Southeast (SE), 135°, halfway between south and east, is the opposite of northwest.\n",
    "Southwest (SW), 225°, halfway between south and west, is the opposite of northeast.\n",
    "Northwest (NW), 315°, halfway between north and west, is the opposite of southeast.\n"
   ]
  },
  {
   "cell_type": "markdown",
   "metadata": {},
   "source": [
    "\n",
    "font = {'family' : 'sans-serif',\n",
    "        'size'   : 22}\n",
    "\n",
    "plt.rc('font', **font)"
   ]
  },
  {
   "cell_type": "markdown",
   "metadata": {},
   "source": [
    "# Plot true coefficient as function of wind directions and save the figures"
   ]
  },
  {
   "cell_type": "markdown",
   "metadata": {},
   "source": [
    "#tcoeff #modes x wind_direction\n",
    "plt.figure(figsize=(16,8))\n",
    "for i in range(4): #6\n",
    "    plt.plot(xsin1,tcoeff[i,:],'x-',label='Mode'+str(i+1))\n",
    "plt.xlabel('sin(wind direction,degree)')\n",
    "plt.ylabel('Coefficient')\n",
    "plt.legend()   "
   ]
  },
  {
   "cell_type": "markdown",
   "metadata": {},
   "source": [
    "#tcoeff #modes x wind_direction\n",
    "plt.figure(figsize=(16,8))\n",
    "for i in range(3): #6\n",
    "    plt.plot(data,tcoeff[i,:],'x-',label='Mode'+str(i+1))\n",
    "plt.xlabel('Wind direction,degree')\n",
    "plt.ylabel('Coefficient')\n",
    "plt.legend()  \n",
    "plt.savefig('./Results/coeff_vs_wd.png')\n",
    "plt.savefig('./Results/coeff_vs_wd.pdf')"
   ]
  },
  {
   "cell_type": "markdown",
   "metadata": {},
   "source": []
  },
  {
   "cell_type": "markdown",
   "metadata": {},
   "source": [
    "grid_structured"
   ]
  },
  {
   "cell_type": "markdown",
   "metadata": {},
   "source": [
    "nr"
   ]
  },
  {
   "cell_type": "markdown",
   "metadata": {},
   "source": [
    "# Create nr number of Rbf interpolator models for each of the nr modes.\n",
    "    ## For a given wind direction, the RBf models are used to compute the Coefficient for each basis. "
   ]
  },
  {
   "cell_type": "markdown",
   "metadata": {},
   "source": [
    "import numpy as np\n",
    "from scipy.interpolate import Rbf\n",
    "import pickle\n",
    "\n",
    "\n",
    "# Create Rbf interpolators for each mode. Then \n",
    "interpolators = []\n",
    "for i in range(nr):\n",
    "    rbf = Rbf(xsin1,xcos1,tcoeff[i,:],function='multiquadric') \n",
    "    interpolators.append(rbf)\n",
    "\n",
    "# Save the Rbf interpolators to a file\n",
    "with open('./Results/'+folder+'/rbf_interpolators.pkl', 'wb') as file:\n",
    "    pickle.dump(interpolators, file)\n",
    "\n",
    "# Load the Rbf interpolators from a file\n",
    "with open('./Results/'+folder+'/rbf_interpolators.pkl', 'rb') as file:\n",
    "    loaded_interpolators = pickle.load(file)\n",
    "\n",
    "# Interpolate using the loaded interpolators (for demonstration)\n",
    "\n",
    "predicted_values = []\n",
    "for i, rbf in enumerate(loaded_interpolators):\n",
    "    predicted_values.append(rbf(xsin1,xcos1))\n",
    "\n",
    "# The 'predicted_values' list now contains the interpolated values using the loaded interpolators.\n"
   ]
  },
  {
   "cell_type": "markdown",
   "metadata": {},
   "source": [
    "np.array(predicted_values)"
   ]
  },
  {
   "cell_type": "markdown",
   "metadata": {},
   "source": [
    "# Plot temporal coefficients : check RBF interpolation"
   ]
  },
  {
   "cell_type": "markdown",
   "metadata": {},
   "source": [
    "import inspect\n",
    "print(inspect.getargspec(plt.legend))  "
   ]
  },
  {
   "cell_type": "markdown",
   "metadata": {},
   "source": [
    "plt.figure(figsize=(16,7))\n",
    "for i in range(3):\n",
    "    plt.plot(xsin1,tcoeff[i,:],'x',label='mode'+str(i))\n",
    "    plt.plot(xsin1,np.array(predicted_values)[i,:],color=plt.gca().lines[-1].get_color(),label='predicted_mode'+str(i))\n",
    "plt.xlabel('sin(wind direction,degree)')\n",
    "plt.ylabel('True Coefficient vs predicted')\n",
    "plt.ylim((-30,80))\n",
    "plt.legend(loc='upper right',ncol=3)\n",
    "\n",
    "plt.figure(figsize=(16,7))\n",
    "for i in range(3):\n",
    "    plt.plot(xcos1,tcoeff[i,:],'x',label='mode'+str(i))\n",
    "    plt.plot(xcos1,np.array(predicted_values)[i,:],label='predicted_mode'+str(i),color=plt.gca().lines[-1].get_color())\n",
    "plt.xlabel('cosin(wind direction,degree)')\n",
    "plt.ylabel('True Coefficient vs predicted')\n",
    "plt.ylim((-30,80))\n",
    "plt.legend(loc='upper right',ncol=3)"
   ]
  },
  {
   "cell_type": "markdown",
   "metadata": {},
   "source": [
    "# Reconstruct flow field for a given wind direction"
   ]
  },
  {
   "cell_type": "markdown",
   "metadata": {},
   "source": [
    "import time\n",
    "start = time.process_time()\n",
    "# your code here    \n",
    "\n",
    "# Assume a wind direction \n",
    "# wind_dir=np.rand270 #in degrees\n",
    "import random\n",
    "\n",
    "wind_direc = [random.randint(0, 360) for _ in range(5)]\n",
    "print(wind_direc)\n",
    "\n",
    "folder = 'data_POD'\n",
    "\n",
    "\n",
    "\n",
    "\n",
    "# Load the Rbf interpolators from a file\n",
    "with open('./Results/'+folder+'/rbf_interpolators.pkl', 'rb') as file:\n",
    "    loaded_interpolators = pickle.load(file)\n",
    "    \n",
    "#Obtain basis functions\n",
    "#----------------------------------------------------------------------------------------------------\n",
    "\n",
    "#Load saved basis functions (modes) and mean turbulent kinetic energy\n",
    "    \n",
    "filename = './Results/'+folder+'/POD_data_k.npz' #A NpzFile is a dictionary-like object.Query with the .files attribute) and for the arrays themselves.\n",
    "\n",
    "PODdata=np.load(filename)\n",
    "\n",
    "Phit=PODdata['tbasis']\n",
    "tke_mean=PODdata['tmean']    \n",
    "\n",
    "for wind_dir in wind_direc:  \n",
    "    \n",
    "    \n",
    "    #Obtain coefficient for this wind direction\n",
    "    #------------------------------------------------------------------  \n",
    "    # Interpolate using the loaded interpolators (for demonstration)\n",
    "    predicted_coef = []\n",
    "    max_value=360\n",
    "    xsin_winddir=np.sin(2 * np.pi * wind_dir / max_value)\n",
    "    xcos_winddir=np.cos(2 * np.pi * wind_dir / max_value)\n",
    "    for i, rbf1 in enumerate(loaded_interpolators):\n",
    "        predicted_coef.append(rbf1(xsin_winddir,xcos_winddir))\n",
    "        print('Coeff for mode', i+1 , 'is ', rbf1(xsin_winddir,xcos_winddir))\n",
    "\n",
    "\n",
    "\n",
    "\n",
    "\n",
    "    #Reconstruct flow field from the basis modes, the mean and the computed coefficients\n",
    "    #----------------------------------------------------------------------------------------------------\n",
    "    tke_at_wind_direction=np.dot(Phit,np.array(predicted_coef))+tke_mean\n",
    "\n",
    "    #Visualize reconstructed flow field.\n",
    "    #----------------------------------------------------------------------------------------------------\n",
    "    result_sample.point_data[\"RECON_tke_at_WD_\"+str(wind_dir)]=tke_at_wind_direction\n",
    "\n",
    "\n",
    "#Print time taken\n",
    "print(time.process_time() - start)"
   ]
  },
  {
   "cell_type": "markdown",
   "metadata": {},
   "source": [
    "result_sample"
   ]
  },
  {
   "cell_type": "markdown",
   "metadata": {},
   "source": [
    "Phit.shape"
   ]
  },
  {
   "cell_type": "markdown",
   "metadata": {},
   "source": [
    "PODdata.files"
   ]
  },
  {
   "cell_type": "raw",
   "metadata": {},
   "source": [
    "grid_structured"
   ]
  },
  {
   "cell_type": "markdown",
   "metadata": {},
   "source": [
    "result_sample.point_data_to_cell_data()"
   ]
  },
  {
   "cell_type": "markdown",
   "metadata": {},
   "source": [
    "# SAVE VTK files with POD modes and Reconstructions for visualization"
   ]
  },
  {
   "cell_type": "markdown",
   "metadata": {},
   "source": [
    "result_sample.save('./Results/recon_added.vtk')"
   ]
  },
  {
   "cell_type": "markdown",
   "metadata": {},
   "source": [
    "tke_at_wind_direction.shape"
   ]
  },
  {
   "cell_type": "markdown",
   "metadata": {},
   "source": [
    "# ENDS HERE\n",
    "\n",
    "#  ---------------------------------------------------------------------------------------\n",
    "\n",
    "#  ----------------------------------------------------------------------------------"
   ]
  },
  {
   "cell_type": "markdown",
   "metadata": {},
   "source": [
    "##### Not needed below: Testing time needed if one does not load and save the modes, but just reconstructs. About 0.09 s."
   ]
  },
  {
   "cell_type": "raw",
   "metadata": {},
   "source": [
    "import time\n",
    "start = time.process_time()\n",
    "# your code here    \n",
    "\n",
    "# Assume a wind direction \n",
    "wind_dir=80 #in degrees\n",
    "\n",
    "\n",
    "#Obtain coefficient for this wind direction\n",
    "#------------------------------------------------------------------\n",
    "\n",
    "\n",
    "    \n",
    "# Interpolate using the loaded interpolators (for demonstration)\n",
    "predicted_coef = []\n",
    "max_value=360\n",
    "xsin_winddir=np.sin(2 * np.pi * wind_dir / max_value)\n",
    "xcos_winddir=np.cos(2 * np.pi * wind_dir / max_value)\n",
    "for i, rbf1 in enumerate(loaded_interpolators):\n",
    "    predicted_coef.append(rbf1(xsin_winddir,xcos_winddir))\n",
    "    print('Coeff for mode', i+1 , 'is ', rbf1(xsin_winddir,xcos_winddir))\n",
    "\n",
    "#Obtain basis functions\n",
    "#----------------------------------------------------------------------------------------------------\n",
    "\n",
    "\n",
    "#Reconstruct flow field from the basis modes, the mean and the computed coefficients\n",
    "#----------------------------------------------------------------------------------------------------\n",
    "tke_at_wind_direction=np.dot(Phit,np.array(predicted_coef))+tke_mean\n",
    "\n",
    "\n",
    "#Print time taken\n",
    "print(time.process_time() - start)"
   ]
  }
 ],
 "metadata": {
  "kernelspec": {
   "display_name": "Python 3",
   "language": "python",
   "name": "python3"
  },
  "language_info": {
   "codemirror_mode": {
    "name": "ipython",
    "version": 3
   },
   "file_extension": ".py",
   "mimetype": "text/x-python",
   "name": "python",
   "nbconvert_exporter": "python",
   "pygments_lexer": "ipython3",
   "version": "3.11.8"
  }
 },
 "nbformat": 4,
 "nbformat_minor": 4
}
